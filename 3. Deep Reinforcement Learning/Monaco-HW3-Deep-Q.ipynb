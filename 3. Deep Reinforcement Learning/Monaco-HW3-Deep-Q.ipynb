{
 "cells": [
  {
   "cell_type": "markdown",
   "id": "7cd581c9-b9e4-4cb0-bd4d-dcc781d5d906",
   "metadata": {},
   "source": [
    "---\n",
    "---\n",
    "# NEURAL NETWORKS AND DEEP LEARNING\n",
    "\n",
    "### A.A. 2021/22 (6 CFU) - Dr. Alberto Testolin, Dr. Umberto Michieli\n",
    "\n",
    "### Saverio Monaco\n",
    "##### MAT: 2012264\n",
    "\n",
    "# Homework 3 - Deep Reinforcement Learning\n",
    "---\n",
    "---"
   ]
  },
  {
   "cell_type": "code",
   "execution_count": 35,
   "id": "90c01cf3-ee6a-4aa3-a1f9-5d22c6918a05",
   "metadata": {},
   "outputs": [],
   "source": [
    "#################\n",
    "#### IMPORTS ####\n",
    "#################\n",
    "\n",
    "# Arrays\n",
    "import numpy as np\n",
    "from collections import deque # fixed size FIFO list\n",
    "\n",
    "# Deep Learning Stuff\n",
    "import torch\n",
    "from torch import nn\n",
    "import gym\n",
    "\n",
    "# Visualizing\n",
    "import matplotlib.pyplot as plt\n",
    "from gym.wrappers import Monitor\n",
    "from IPython.display import HTML\n",
    "from IPython import display as ipythondisplay\n",
    "import base64\n",
    "\n",
    "# Other\n",
    "import random\n",
    "from tqdm.notebook import tqdm\n",
    "import io\n",
    "import os\n",
    "import glob\n",
    "\n",
    "# Automatic tuning tool\n",
    "import optuna\n",
    "\n",
    "# Second set\n",
    "import flappy_bird_gym\n",
    "import time\n",
    "from scipy import ndimage # rotate image for display\n",
    "from IPython.display import clear_output"
   ]
  },
  {
   "cell_type": "code",
   "execution_count": 2,
   "id": "2daba1c2",
   "metadata": {},
   "outputs": [],
   "source": [
    "# Set random seeds for reproducibility\n",
    "torch.manual_seed(0)\n",
    "np.random.seed(0)\n",
    "random.seed(0)\n"
   ]
  },
  {
   "cell_type": "code",
   "execution_count": 3,
   "id": "9d2684f8-fc99-43da-b1fc-37cf70a4eb2d",
   "metadata": {},
   "outputs": [
    {
     "name": "stdout",
     "output_type": "stream",
     "text": [
      "Training device: cuda\n"
     ]
    }
   ],
   "source": [
    "# Check if the GPU is available\n",
    "device = torch.device(\"cuda\") if torch.cuda.is_available() else torch.device(\"cpu\")\n",
    "print(f\"Training device: {device}\")\n"
   ]
  },
  {
   "cell_type": "code",
   "execution_count": 41,
   "id": "742bba9d-45b6-4857-b692-3dc61d18fef0",
   "metadata": {},
   "outputs": [],
   "source": [
    "#################\n",
    "#### CLASSES ####\n",
    "#################\n",
    "\n",
    "class ReplayMemory(object):\n",
    "    '''\n",
    "    To perform experience replay.\n",
    "    We will draw uniformly at random from the pool of stored sample to learn.\n",
    "    Thi avoids (temporal) correlation between consecutive learning instances.\n",
    "    '''\n",
    "    def __init__(self, capacity):\n",
    "        ''' Initialize a deque with maximum capacity maxlen. '''\n",
    "        self.memory = deque(maxlen=capacity) # Define a queue with maxlen \"capacity\"\n",
    "\n",
    "    def push(self, state, action, next_state, reward):\n",
    "        ''' Add a new sample to the deque, removes the oldest one if it is already full. '''\n",
    "        # Add the tuple (state, action, next_state, reward) to the queue\n",
    "        self.memory.append( (state, action, next_state, reward) )\n",
    "        \n",
    "    def sample(self, batch_size):\n",
    "        ''' Randomly select \"batch_size\" samples '''\n",
    "        batch_size = min(batch_size, len(self)) # Get all the samples if the requested batch_size is higher than the number of sample currently in the memory\n",
    "        return random.sample(self.memory, batch_size)\n",
    "\n",
    "    def __len__(self):\n",
    "        ''' Return the number of samples currently stored in the memory '''\n",
    "        return len(self.memory)\n",
    "\n",
    "class DQN(nn.Module):\n",
    "    ''' \n",
    "    Network for policy network and target network \n",
    "    state_space_dim:  (INPUT)  dimension of state space (e.g pixels in a image)\n",
    "    action_space_dim: (OUTPUT) dimension of action space (e.g go left, go right)\n",
    "    '''\n",
    "    def __init__(self, DQN_state_space_dim, DQN_action_space_dim):\n",
    "        super().__init__()\n",
    "            \n",
    "        self.sdim = DQN_state_space_dim\n",
    "        self.adim = DQN_action_space_dim\n",
    "            \n",
    "        self.linear = nn.Sequential(\n",
    "            nn.Linear(self.sdim, 128),\n",
    "            nn.Tanh(),\n",
    "            nn.Linear(128,128),\n",
    "            nn.Tanh(),\n",
    "            nn.Linear(128,self.adim)\n",
    "                )\n",
    "\n",
    "    def forward(self, x):\n",
    "        return self.linear(x)\n",
    "    \n",
    "#\n",
    "#          |---------> [Prediction Network (DQN)]--------\n",
    "#          |                |                            \\\n",
    "# [INPUT]--|                | Parameter update            \\___Loss\n",
    "#          |               \\/                            /\n",
    "#          |---------> [Target Network (DQN)]------------\n",
    "#\n",
    "class FullQNets(nn.Module):\n",
    "    ''' \n",
    "    Handles all the networks, environments, and others\n",
    "    '''\n",
    "    def __init__(self, envname):\n",
    "        super().__init__()\n",
    "        \n",
    "        self.envname = envname\n",
    "        \n",
    "        tempenv = gym.make(self.envname) \n",
    "            \n",
    "        self.state_space_dim = tempenv.observation_space.shape[0]\n",
    "        \n",
    "        if self.envname == 'BipedalWalkerHardcore-v3':\n",
    "            self.action_space_dim = 4 # Box attribute in BipedalWalker are different\n",
    "        else:\n",
    "            self.action_space_dim = tempenv.action_space.n\n",
    "        \n",
    "        self.policy_net = DQN(self.state_space_dim, self.action_space_dim)\n",
    "        self.target_net = DQN(self.state_space_dim, self.action_space_dim)\n",
    "        self.target_net.load_state_dict(self.policy_net.state_dict())\n",
    "    \n",
    "    def choose_action_epsilon_greedy(self, state, epsilon):\n",
    "        self.policy_net.eval()\n",
    "        if epsilon > 1 or epsilon < 0:\n",
    "            raise Exception('The epsilon value must be between 0 and 1')\n",
    "                \n",
    "        # Evaluate the network output from the current state\n",
    "        with torch.no_grad():\n",
    "            self.policy_net.eval()\n",
    "            state = torch.tensor(state, dtype=torch.float32, device=device) # Convert the state to tensor\n",
    "            net_out = self.policy_net(state)\n",
    "\n",
    "        # Get the best action (argmax of the network output)\n",
    "        best_action = int(net_out.argmax())\n",
    "        # Get the number of possible actions\n",
    "        action_space_dim = net_out.shape[-1]\n",
    "\n",
    "        # Select a non optimal action with probability epsilon, otherwise choose the best action\n",
    "        if random.random() < epsilon:\n",
    "            # List of non-optimal actions\n",
    "            non_optimal_actions = [a for a in range(action_space_dim) if a != best_action]\n",
    "            # Select randomly\n",
    "            action = random.choice(non_optimal_actions)\n",
    "        else:\n",
    "            # Select best action\n",
    "            action = best_action\n",
    "        \n",
    "        return action, net_out.cpu().numpy()\n",
    "    \n",
    "    def choose_action_softmax(self, state, temperature):\n",
    "        self.policy_net.to(device)\n",
    "        if temperature < 0:\n",
    "            raise Exception('The temperature value must be greater than or equal to 0 ')\n",
    "        \n",
    "        # If the temperature is 0, just select the best action using the eps-greedy policy with epsilon = 0\n",
    "        if temperature == 0:\n",
    "            return self.choose_action_epsilon_greedy(state, 0)\n",
    "    \n",
    "        # Evaluate the network output from the current state\n",
    "        with torch.no_grad():\n",
    "            self.policy_net.eval()\n",
    "            state = torch.tensor(state, dtype=torch.float32, device=device)\n",
    "            net_out = self.policy_net(state)\n",
    "\n",
    "        # Apply softmax with temp\n",
    "        temperature = max(temperature, 1e-8) # set a minimum to the temperature for numerical stability\n",
    "        softmax_out = nn.functional.softmax(net_out / temperature, dim=0).cpu().numpy()\n",
    "                \n",
    "        # Sample the action using softmax output as mass pdf\n",
    "        all_possible_actions = np.arange(0, softmax_out.shape[-1])\n",
    "        action = np.random.choice(all_possible_actions, p=softmax_out) # this samples a random element from \"all_possible_actions\" with the probability distribution p (softmax_out in this case)\n",
    "    \n",
    "        return action, net_out.cpu().numpy()\n",
    "    \n",
    "    def update_step(self, replay_mem, gamma, optimizer, loss_fn, batch_size):        \n",
    "        self.policy_net.to(device)\n",
    "        self.target_net.to(device)\n",
    "        # Sample the data from the replay memory\n",
    "        batch = replay_mem.sample(batch_size)\n",
    "        batch_size = len(batch)\n",
    "\n",
    "        # Create tensors for each element of the batch\n",
    "        states      = torch.tensor([s[0] for s in batch], dtype=torch.float32, device=device)\n",
    "        actions     = torch.tensor([s[1] for s in batch], dtype=torch.int64, device=device)\n",
    "        rewards     = torch.tensor([s[3] for s in batch], dtype=torch.float32, device=device)\n",
    "\n",
    "        # Compute a mask of non-final states (all the elements where the next state is not None)\n",
    "        non_final_next_states = torch.tensor([s[2] for s in batch if s[2] is not None], dtype=torch.float32, device=device) # the next state can be None if the game has ended\n",
    "        non_final_mask = torch.tensor([s[2] is not None for s in batch], dtype=torch.bool, device=device)\n",
    "\n",
    "        # Compute all the Q values (forward pass)\n",
    "        self.policy_net.train()\n",
    "        q_values = self.policy_net(states)\n",
    "        # Select the proper Q value for the corresponding action taken Q(s_t, a)\n",
    "        state_action_values = q_values.gather(1, actions.unsqueeze(1))\n",
    "        \n",
    "        # Compute the value function of the next states using the target network V(s_{t+1}) = max_a( Q_target(s_{t+1}, a)) )\n",
    "        with torch.no_grad():\n",
    "            self.target_net.eval()\n",
    "            q_values_target = self.target_net(non_final_next_states)\n",
    "        next_state_max_q_values = torch.zeros(batch_size, device=device)\n",
    "        next_state_max_q_values[non_final_mask] = q_values_target.max(dim=1)[0]\n",
    "\n",
    "        # Compute the expected Q values\n",
    "        expected_state_action_values = rewards + (next_state_max_q_values * gamma)\n",
    "        expected_state_action_values = expected_state_action_values.unsqueeze(1) # Set the required tensor shape\n",
    "\n",
    "        # Compute the Huber loss\n",
    "        loss = loss_fn(state_action_values, expected_state_action_values)\n",
    "\n",
    "        # Optimize the model\n",
    "        optimizer.zero_grad()\n",
    "        loss.backward()\n",
    "        # Apply gradient clipping (clip all the gradients greater than 2 for training stability)\n",
    "        nn.utils.clip_grad_norm_(self.policy_net.parameters(), 2)\n",
    "        optimizer.step()\n",
    "        \n",
    "        return optimizer\n",
    "    \n",
    "    def play_a_game(self, show = True, debug = False):\n",
    "        # Initialize the Gym environment\n",
    "        env = gym.make(self.envname) \n",
    "        \n",
    "        # Reset the environment and get the initial state\n",
    "        state = env.reset()\n",
    "        # Reset the score. The final score will be the total amount of steps before the pole falls\n",
    "        score = 0\n",
    "        done = False\n",
    "        # Go on until the pole falls off or the score reach 490\n",
    "        while not done:\n",
    "            # Choose the best action (temperature 0)\n",
    "            action, q_values = self.choose_action_softmax(state, temperature=0)\n",
    "            if debug:\n",
    "                print('action', action)\n",
    "                print('state', state)\n",
    "            # Apply the action and get the next state, the reward and a flag \"done\" that is True if the game is ended\n",
    "            next_state, reward, done, info = env.step(action)\n",
    "            # Visually render the environment\n",
    "            if show:\n",
    "                env.render()\n",
    "            # Update the final score (+1 for each step)\n",
    "            score += reward \n",
    "            # Set the current state for the next iteration\n",
    "            state = next_state\n",
    "            # Check if the episode ended (the pole fell down)\n",
    "        # Print the final score\n",
    "        if show:\n",
    "            print(f\"SCORE: {score}\") \n",
    "        env.close()\n",
    "        \n",
    "        return score\n",
    "    \n",
    "    def training_loop(self, max_epoch, loss_fn, optimizer_fn, initial_value=5, gamma = 0.97, \n",
    "                 replay_memory_capacity = 10000, lr = 1e-2, reg_opt = 1e-5, \n",
    "                 target_net_update_steps = 10, bad_state_penalty = 0, test_policy = False,\n",
    "                 batch_size = 128, min_samples_for_training = 1000, render=False, optunaprint = False, maxplayers = 0,\n",
    "                 optuna_epoch_limit = False):\n",
    "        '''\n",
    "        PARAMETERS\n",
    "        gamma: gamma parameter for the long term reward\n",
    "        replay_memory_capacity: Replay memory capacity\n",
    "        lr: Optimizer learning rate\n",
    "        loss_fn: Loss function\n",
    "        optimizer_fn: Optimizer function\n",
    "        target_net_update_steps: Number of episodes to wait before updating the target network\n",
    "        batch_size: Number of samples to take from the replay memory for each update\n",
    "        bad_state_penalty: Penalty to the reward when we are in a bad state (in this case when the pole falls down) \n",
    "        min_samples_for_training: Minimum samples in the replay memory to enable the training\n",
    "        test_policy: if True, for every target_net_update_steps steps, it will play 10 games following its policy (T=0)\n",
    "                     and if it obtains the maximum score (500) it will exit\n",
    "                     if is int > 0 it will do the same playing test_policy number of games\n",
    "        '''\n",
    "        env = gym.make(self.envname)\n",
    "        optimizer = optimizer_fn(self.policy_net.parameters(), lr=lr, weight_decay=reg_opt)\n",
    "        has_learned = False # Boolean variable, if test_policy == True and has obtained the max score on the test games\n",
    "                            # it will exit learning\n",
    "        # We compute the exponential decay in such a way the shape of the exploration \n",
    "        # profile does not depend on the number of iterations\n",
    "        exp_decay = np.exp(-np.log(initial_value) / max_epoch * 6) \n",
    "        exploration_profile = [initial_value * (exp_decay ** i) for i in range(max_epoch)]\n",
    "        \n",
    "        ### Initialize the replay memory\n",
    "        replay_mem = ReplayMemory(replay_memory_capacity)   \n",
    "        \n",
    "        env.seed(0)\n",
    "        policy_num = 0\n",
    "        progress = tqdm(exploration_profile)\n",
    "        #print('n iterations:', len(exploration_profile) )\n",
    "        for episode_num, tau in enumerate(progress):\n",
    "            # Reset the environment and get the initial state\n",
    "            state = env.reset()\n",
    "            \n",
    "            # Reset the score. The final score will be the total amount of steps before the pole falls\n",
    "            score = 0\n",
    "            \n",
    "            done = False\n",
    "            \n",
    "            # Go on until the pole falls off\n",
    "            while not done:\n",
    "                # Choose the action following the policy\n",
    "                action, q_values = self.choose_action_softmax(state, temperature=tau)\n",
    "                \n",
    "                # Apply the action and get the next state, the reward and a flag \"done\" \n",
    "                # that is True if the game is ended\n",
    "                next_state, reward, done, info = env.step(action)\n",
    "                \n",
    "                # We apply a (linear) penalty when the cart is far from center\n",
    "                pos_weight = 1\n",
    "                reward = reward - pos_weight * np.abs(state[0])\n",
    "                \n",
    "                # Update the final score (+1 for each step)\n",
    "                score += 1\n",
    "                \n",
    "                # Update the replay memory\n",
    "                replay_mem.push(state, action, next_state, reward)\n",
    "\n",
    "                # Update the network\n",
    "                if len(replay_mem) > min_samples_for_training: # we enable the training only if we have enough samples in the replay memory, otherwise the training will use the same samples too often\n",
    "                    optimizer = self.update_step(replay_mem, gamma, optimizer, loss_fn, batch_size)\n",
    "                \n",
    "                if render:\n",
    "                    # Visually render the environment (disable to speed up the training)\n",
    "                    env.render()\n",
    "\n",
    "                # Set the current state for the next iteration\n",
    "                state = next_state\n",
    "\n",
    "            # Update the target network every target_net_update_steps episodes\n",
    "            if episode_num % target_net_update_steps == 0:\n",
    "                self.target_net.load_state_dict(self.policy_net.state_dict()) # This will copy the weights of the policy network to the target network\n",
    "                \n",
    "                # If test_policy is True, we check every target_net_update_setps if the net has learned.+\n",
    "                # the net has learnet if it can obtain the maximum score 10 times in a row following its policy (with T=0)\n",
    "                # or test_policy times in a row if is int\n",
    "                if test_policy:\n",
    "                    policy_num = policy_num + 1\n",
    "                    if type(test_policy)==int:\n",
    "                        ngames = test_policy\n",
    "                    else:\n",
    "                        ngames = 10\n",
    "                        \n",
    "                    test_score = 0\n",
    "                    for game in range(ngames):\n",
    "                        test_score = test_score + self.play_a_game(show=False)\n",
    "                    test_score = test_score/ngames\n",
    "                    if not type(optunaprint)==int:\n",
    "                        print('Policy {:d} | Mean SCORE: {:.2f} '.format(policy_num,test_score) )\n",
    "                    if test_score >= 500:\n",
    "                        has_learned = True\n",
    "            # Print the final score\n",
    "            if optunaprint:\n",
    "                progress.set_description(\"{:d}/{:d} :: SCORE: {:d} - T: {:.4f}\".format(optunaprint,maxplayers, score,tau))\n",
    "            else:\n",
    "                progress.set_description(\"SCORE: {:d} - T: {:.4f}\".format(score,tau))\n",
    "            \n",
    "            if has_learned == True:\n",
    "                if not optunaprint:\n",
    "                    print('Learning completed at epoch: {:d}'.format(episode_num))\n",
    "                env.close()\n",
    "                return episode_num\n",
    "            \n",
    "            # For speeding up the training for the optuna gridsearch, we might want to kill the learning \n",
    "            # of models that are taking longer than the best one\n",
    "            if type(optuna_epoch_limit) == int:\n",
    "                if episode_num >= optuna_epoch_limit:\n",
    "                    env.close()\n",
    "                    return episode_num\n",
    "\n",
    "        env.close()\n",
    "        return max_epoch"
   ]
  },
  {
   "cell_type": "markdown",
   "id": "ceacdc24-780d-4914-bf84-07e0393f0213",
   "metadata": {},
   "source": [
    "## CartPole-v1"
   ]
  },
  {
   "cell_type": "code",
   "execution_count": 5,
   "id": "75b57674-066a-4182-9cd2-dd610a7e5d41",
   "metadata": {},
   "outputs": [],
   "source": [
    "def optuna_qlearning(ntrials = 200, nepochs = 1000):\n",
    "    ''' Function for Optuna hyperparameter tuning '''\n",
    "    study = optuna.create_study(sampler=optuna.samplers.TPESampler(), direction='minimize')\n",
    "    \n",
    "    optimizers = [torch.optim.Adam, torch.optim.SGD]\n",
    "    global player\n",
    "    player = 1\n",
    "    global epochs\n",
    "    epochs = nepochs\n",
    "    def callback(study, trial):\n",
    "        ''' Callback function, saves the best model. '''\n",
    "        global best_model\n",
    "        # If the best model result is the current one...\n",
    "        if study.best_trial == trial:\n",
    "            # Saves the best model to best_model\n",
    "            best_model = optmodel\n",
    "    \n",
    "    def optuna_train(trial):\n",
    "        ''' Main function for optuna. '''\n",
    "        cfg = {\n",
    "          'reg': trial.suggest_loguniform('reg',1e-5, 1e-3),\n",
    "          'lr' : trial.suggest_loguniform('lr', 1e-4, 1e-3),\n",
    "          'optimizer': trial.suggest_categorical('optimizer',list(range(len(optimizers)))),\n",
    "          'gamma' : trial.suggest_uniform('gamma', .95, 1),\n",
    "          #'penality' : trial.suggest_categorical('penality', [0]),\n",
    "          'init_v' : trial.suggest_loguniform('init_v', 1,10)\n",
    "        }\n",
    "        \n",
    "        global player\n",
    "        global optmodel\n",
    "        global epochs\n",
    "        optmodel =  FullQNets('CartPole-v1')\n",
    "        optmodel.to(device)\n",
    "        \n",
    "        learning_epochs = optmodel.training_loop(nepochs, nn.SmoothL1Loss(), optimizers[cfg['optimizer']], lr=cfg['lr'], test_policy=10,\n",
    "                                                 reg_opt = cfg['reg'], gamma=cfg['gamma'], initial_value=cfg['init_v'],\n",
    "                                                 bad_state_penalty = 0, optunaprint=player, maxplayers = ntrials,\n",
    "                                                 optuna_epoch_limit = epochs);\n",
    "        if learning_epochs < epochs:\n",
    "            epochs = learning_epochs\n",
    "        \n",
    "        player = player + 1\n",
    "        return learning_epochs\n",
    "    \n",
    "    study.optimize(optuna_train, n_trials=ntrials, callbacks=[callback])\n",
    "    \n",
    "    optuna_best_params = {\n",
    "        'reg'   : study.best_params['reg'],\n",
    "        'lr'    : study.best_params['lr'],\n",
    "        'optimizer'   : optimizers[study.best_params['optimizer']],\n",
    "        'gamma' : study.best_params['gamma'],\n",
    "        #'penality' : study.best_params['penality'],\n",
    "        'init_v' : study.best_params['init_v']\n",
    "    }\n",
    "    \n",
    "    return study, optuna_best_params, best_model\n"
   ]
  },
  {
   "cell_type": "code",
   "execution_count": null,
   "id": "874df46e-11ce-425e-b955-d2f77c1b8540",
   "metadata": {
    "tags": []
   },
   "outputs": [],
   "source": [
    "study, optuna_best_params, best_player = optuna_qlearning()"
   ]
  },
  {
   "cell_type": "code",
   "execution_count": null,
   "id": "430ddbc5-625f-461c-8c28-fe63e1242022",
   "metadata": {},
   "outputs": [],
   "source": [
    "best_player.play_a_game()\n"
   ]
  },
  {
   "cell_type": "code",
   "execution_count": null,
   "id": "4c3c4bdf-4f4c-4826-879a-1998aa259fe5",
   "metadata": {},
   "outputs": [],
   "source": [
    "optuna.visualization.plot_optimization_history(study, target_name='Episodes to learn')\n"
   ]
  },
  {
   "cell_type": "markdown",
   "id": "b9724f1e-c0c2-4fef-9104-12e4e4d58664",
   "metadata": {},
   "source": [
    "## FlappyBird"
   ]
  },
  {
   "cell_type": "code",
   "execution_count": 243,
   "id": "5dd5227d-ee40-482b-a8e6-ec3d1ae915b3",
   "metadata": {},
   "outputs": [],
   "source": [
    "#################\n",
    "#### CLASSES ####\n",
    "#################\n",
    "class ImagDQN(nn.Module):\n",
    "    ''' \n",
    "    Network for policy network and target network \n",
    "    state_space_dim:  (INPUT)  dimension of state space (e.g pixels in a image)\n",
    "    action_space_dim: (OUTPUT) dimension of action space (e.g go left, go right)\n",
    "    '''\n",
    "    def __init__(self, DQN_state_space_dim, DQN_action_space_dim):\n",
    "        super().__init__()\n",
    "            \n",
    "        self.sdim = DQN_state_space_dim\n",
    "        self.adim = DQN_action_space_dim\n",
    "            \n",
    "        self.linear = nn.Sequential(\n",
    "            nn.Linear(self.sdim, 128),\n",
    "            nn.Tanh(),\n",
    "            nn.Linear(128,128),\n",
    "            nn.Tanh(),\n",
    "            nn.Linear(128,self.adim)\n",
    "                )\n",
    "\n",
    "    def forward(self, x, batch_size = False):\n",
    "        if not batch_size:\n",
    "            x = torch.flatten(x)\n",
    "        else:\n",
    "            x= torch.reshape(x, (batch_size, 560))\n",
    "        return self.linear(x)\n",
    "#\n",
    "#          |---------> [Prediction Network (DQN)]--------\n",
    "#          |                |                            \\\n",
    "# [INPUT]--|                | Parameter update            \\___Loss\n",
    "#          |               \\/                            /\n",
    "#          |---------> [Target Network (DQN)]------------\n",
    "#\n",
    "class Flappy(nn.Module):\n",
    "    ''' \n",
    "    Handles all the networks, environments, and others\n",
    "    '''\n",
    "    def __init__(self, rgb = False, verbose = False):\n",
    "        super().__init__()\n",
    "        \n",
    "        if not rgb:\n",
    "            tempenv = flappy_bird_gym.make(\"FlappyBird-v0\")\n",
    "            self.rgb = False\n",
    "            self.state_space_dim = tempenv.observation_space.shape[0]\n",
    "        else:\n",
    "            tempenv = flappy_bird_gym.make(\"FlappyBird-rgb-v0\")\n",
    "            self.rgb = True\n",
    "            self.state_space_dim = 560\n",
    "        \n",
    "        \n",
    "        self.action_space_dim = tempenv.action_space.n\n",
    "        \n",
    "        if verbose:\n",
    "            print('Environment informations:')\n",
    "            print('  observation space:', tempenv.observation_space)\n",
    "            print('  action space     :', tempenv.action_space)\n",
    "            print('  nets input parameters :', self.state_space_dim)\n",
    "            print('  nets output parameters:', self.action_space_dim)\n",
    "        \n",
    "        if not rgb:\n",
    "            self.policy_net = DQN(self.state_space_dim, self.action_space_dim)\n",
    "            self.target_net = DQN(self.state_space_dim, self.action_space_dim)\n",
    "        else:\n",
    "            self.policy_net = ImagDQN(self.state_space_dim, self.action_space_dim)\n",
    "            self.target_net = ImagDQN(self.state_space_dim, self.action_space_dim)\n",
    "            \n",
    "        self.target_net.load_state_dict(self.policy_net.state_dict())\n",
    "    \n",
    "    def compress_input_image(self, state_np):\n",
    "        pooled = max_pool(state_np[:,:,2][70:280,0:400], 10)\n",
    "        #pooled_col1 = pooled[:1,:].max(axis=0)\n",
    "        pooled_col2 = pooled[12:16,:].min(axis=0)\n",
    "        pooled_col3 = pooled[16:,:].min(axis=0)\n",
    "        \n",
    "        pooled2 = np.vstack((np.vstack(( pooled[0:12,:], pooled_col2 )), pooled_col3)) \n",
    "    \n",
    "        # assign background color to 0\n",
    "        pooled2[pooled2 == 200] = 0\n",
    "        pooled2[pooled2 > 200] = 5 # the bird\n",
    "        pooled2[pooled2 > 5] = 1 # the pipes\n",
    "        \n",
    "        return pooled2\n",
    "    def choose_action_epsilon_greedy(self, state, epsilon):\n",
    "        self.policy_net.eval()\n",
    "        if epsilon > 1 or epsilon < 0:\n",
    "            raise Exception('The epsilon value must be between 0 and 1')\n",
    "                \n",
    "        # Evaluate the network output from the current state\n",
    "        with torch.no_grad():\n",
    "            self.policy_net.eval()\n",
    "            state = torch.tensor(state, dtype=torch.float32, device=device) # Convert the state to tensor\n",
    "            \n",
    "            net_out = self.policy_net(state)\n",
    "\n",
    "        # Get the best action (argmax of the network output)\n",
    "        best_action = int(net_out.argmax())\n",
    "        # Get the number of possible actions\n",
    "        action_space_dim = net_out.shape[-1]\n",
    "\n",
    "        # Select a non optimal action with probability epsilon, otherwise choose the best action\n",
    "        if random.random() < epsilon:\n",
    "            # List of non-optimal actions\n",
    "            non_optimal_actions = [a for a in range(action_space_dim) if a != best_action]\n",
    "            # Select randomly\n",
    "            action = random.choice(non_optimal_actions)\n",
    "        else:\n",
    "            # Select best action\n",
    "            action = best_action\n",
    "        \n",
    "        return action, net_out.cpu().numpy()\n",
    "    \n",
    "    def choose_action_softmax(self, state, temperature):\n",
    "        self.policy_net.to(device)\n",
    "        if temperature < 0:\n",
    "            raise Exception('The temperature value must be greater than or equal to 0 ')\n",
    "        \n",
    "        # If the temperature is 0, just select the best action using the eps-greedy policy with epsilon = 0\n",
    "        if temperature == 0:\n",
    "            return self.choose_action_epsilon_greedy(state, 0)\n",
    "    \n",
    "        # Evaluate the network output from the current state\n",
    "        with torch.no_grad():\n",
    "            self.policy_net.eval()\n",
    "            state = torch.tensor(state, dtype=torch.float32, device=device)\n",
    "            net_out = self.policy_net(state)\n",
    "\n",
    "        # Apply softmax with temp\n",
    "        temperature = max(temperature, 1e-8) # set a minimum to the temperature for numerical stability\n",
    "        softmax_out = nn.functional.softmax(net_out / temperature, dim=0).cpu().numpy()\n",
    "                \n",
    "        # Sample the action using softmax output as mass pdf\n",
    "        all_possible_actions = np.arange(0, softmax_out.shape[-1])\n",
    "        action = np.random.choice(all_possible_actions, p=softmax_out) # this samples a random element from \"all_possible_actions\" with the probability distribution p (softmax_out in this case)\n",
    "    \n",
    "        return action, net_out.cpu().numpy()\n",
    "    \n",
    "    def update_step(self, replay_mem, gamma, optimizer, loss_fn, batch_size):\n",
    "        #print('entering')\n",
    "        self.policy_net.to(device)\n",
    "        self.target_net.to(device)\n",
    "        # Sample the data from the replay memory\n",
    "        batch = replay_mem.sample(batch_size)\n",
    "        batch_size = len(batch)\n",
    "\n",
    "        # Create tensors for each element of the batch\n",
    "        states      = torch.tensor([s[0] for s in batch], dtype=torch.float32, device=device)\n",
    "        actions     = torch.tensor([s[1] for s in batch], dtype=torch.int64, device=device)\n",
    "        rewards     = torch.tensor([s[3] for s in batch], dtype=torch.float32, device=device)\n",
    "\n",
    "        # Compute a mask of non-final states (all the elements where the next state is not None)\n",
    "        non_final_next_states = torch.tensor([s[2] for s in batch if s[2] is not None], dtype=torch.float32, device=device) # the next state can be None if the game has ended\n",
    "        non_final_mask = torch.tensor([s[2] is not None for s in batch], dtype=torch.bool, device=device)\n",
    "\n",
    "        # Compute all the Q values (forward pass)\n",
    "        self.policy_net.train()\n",
    "        if self.rgb:\n",
    "            q_values = self.policy_net(states, batch_size)\n",
    "        else:\n",
    "            q_values = self.policy_net(states)\n",
    "            \n",
    "        # Select the proper Q value for the corresponding action taken Q(s_t, a)\n",
    "        state_action_values = q_values.gather(1, actions.unsqueeze(1))\n",
    "        \n",
    "        # Compute the value function of the next states using the target network V(s_{t+1}) = max_a( Q_target(s_{t+1}, a)) )\n",
    "        with torch.no_grad():\n",
    "            self.target_net.eval()\n",
    "            if self.rgb:\n",
    "                q_values_target = self.target_net(non_final_next_states, batch_size)\n",
    "            else:   \n",
    "                q_values_target = self.target_net(non_final_next_states)\n",
    "                \n",
    "        next_state_max_q_values = torch.zeros(batch_size, device=device)\n",
    "        next_state_max_q_values[non_final_mask] = q_values_target.max(dim=1)[0]\n",
    "\n",
    "        # Compute the expected Q values\n",
    "        expected_state_action_values = rewards + (next_state_max_q_values * gamma)\n",
    "        expected_state_action_values = expected_state_action_values.unsqueeze(1) # Set the required tensor shape\n",
    "\n",
    "        # Compute the Huber loss\n",
    "        loss = loss_fn(state_action_values, expected_state_action_values)\n",
    "\n",
    "        # Optimize the model\n",
    "        optimizer.zero_grad()\n",
    "        loss.backward()\n",
    "        # Apply gradient clipping (clip all the gradients greater than 2 for training stability)\n",
    "        nn.utils.clip_grad_norm_(self.policy_net.parameters(), 2)\n",
    "        optimizer.step()\n",
    "        \n",
    "        #print('exiting')\n",
    "        return optimizer\n",
    "    \n",
    "    def play_a_game(self, show = False, debug = False):\n",
    "        # Initialize the Gym environmentif not rgb:\n",
    "        if self.rgb:\n",
    "            env = flappy_bird_gym.make(\"FlappyBird-rgb-v0\")\n",
    "        else:\n",
    "            env = flappy_bird_gym.make(\"FlappyBird-v0\")\n",
    "        \n",
    "        # Reset the environment and get the initial state\n",
    "        state = env.reset()\n",
    "        if self.rgb:\n",
    "            state = self.compress_input_image(state)\n",
    "        \n",
    "        # Reset the score. The final score will be the total amount of steps before the pole falls\n",
    "        score = 0\n",
    "        done = False\n",
    "        # Go on until the pole falls off or the score reach 490\n",
    "        while not done:\n",
    "            # Choose the best action (temperature 0)\n",
    "            action, q_values = self.choose_action_softmax(state, temperature=0)\n",
    "            \n",
    "            # Apply the action and get the next state, the reward and a flag \"done\" that is True if the game is ended\n",
    "            next_state, reward, done, info = env.step(action)\n",
    "            if self.rgb:\n",
    "                next_state = self.compress_input_image(next_state)\n",
    "            # Visually render the environment\n",
    "            if show:\n",
    "                env.render()\n",
    "                time.sleep(1 / 30)  # FPS\n",
    "                if debug and (self.rgb == True):\n",
    "                    clear_output(wait=True)\n",
    "                    plt.imshow(ndimage.rotate(np.flip(state,0), 270), cmap='gray')\n",
    "                    plt.show()\n",
    "                    \n",
    "                    #if 5 in state[:2,:]:\n",
    "                        #yscreen = np.shape(state[:2,:])[1]\n",
    "                        #print(np.abs(state[:2,:].argmax() - yscreen/2)/(yscreen/2))\n",
    "            # Update the final score (+1 for each step)\n",
    "            score += reward \n",
    "            # Set the current state for the next iteration\n",
    "            state = next_state\n",
    "            # Check if the episode ended (the pole fell down)\n",
    "            #done = True\n",
    "        # Print the final score\n",
    "        if show:\n",
    "            print(f\"SCORE: {score}\") \n",
    "        env.close()\n",
    "        \n",
    "        return score, state\n",
    "    \n",
    "    def training_loop(self, max_epoch, loss_fn, optimizer_fn, initial_value=5, gamma = 0.97, \n",
    "                 replay_memory_capacity = 10000, lr = 1e-2, reg_opt = 1e-5, \n",
    "                 target_net_update_steps = 10, bad_state_penalty = 0, test_policy = False,\n",
    "                 batch_size = 128, min_samples_for_training = 1000, render=False, optunaprint = False, maxplayers = 0,\n",
    "                 optuna_epoch_limit = False, maxscore = 2500):\n",
    "        '''\n",
    "        PARAMETERS\n",
    "        gamma: gamma parameter for the long term reward\n",
    "        replay_memory_capacity: Replay memory capacity\n",
    "        lr: Optimizer learning rate\n",
    "        loss_fn: Loss function\n",
    "        optimizer_fn: Optimizer function\n",
    "        target_net_update_steps: Number of episodes to wait before updating the target network\n",
    "        batch_size: Number of samples to take from the replay memory for each update\n",
    "        bad_state_penalty: Penalty to the reward when we are in a bad state (in this case when the pole falls down) \n",
    "        min_samples_for_training: Minimum samples in the replay memory to enable the training\n",
    "        test_policy: if True, for every target_net_update_steps steps, it will play 10 games following its policy (T=0)\n",
    "                     and if it obtains the maximum score (500) it will exit\n",
    "                     if is int > 0 it will do the same playing test_policy number of games\n",
    "        '''\n",
    "        \n",
    "        if self.rgb:\n",
    "            env = flappy_bird_gym.make(\"FlappyBird-rgb-v0\")\n",
    "        else:\n",
    "            env = flappy_bird_gym.make(\"FlappyBird-v0\")\n",
    "            \n",
    "        optimizer = optimizer_fn(self.policy_net.parameters(), lr=lr, weight_decay=reg_opt)\n",
    "        has_learned = False # Boolean variable, if test_policy == True and has obtained the max score on the test games\n",
    "                            # it will exit learning\n",
    "        # We compute the exponential decay in such a way the shape of the exploration \n",
    "        # profile does not depend on the number of iterations\n",
    "        exp_decay = np.exp(-np.log(initial_value) / max_epoch * 6) \n",
    "        exploration_profile = [initial_value * (exp_decay ** i) for i in range(max_epoch)]\n",
    "        \n",
    "        ### Initialize the replay memory\n",
    "        replay_mem = ReplayMemory(replay_memory_capacity)   \n",
    "        \n",
    "        env.seed(0)\n",
    "        policy_num = 0\n",
    "        progress = tqdm(exploration_profile)\n",
    "        #print('n iterations:', len(exploration_profile) )\n",
    "        for episode_num, tau in enumerate(progress):\n",
    "            # Reset the environment and get the initial state\n",
    "            state = env.reset()\n",
    "            if self.rgb:\n",
    "                state = self.compress_input_image(state)\n",
    "                \n",
    "            # Reset the score. The final score will be the total amount of steps before the pole falls\n",
    "            score = 0\n",
    "            \n",
    "            done = False\n",
    "            \n",
    "            pregame_actions = 0\n",
    "            pregame_nonactions = 0\n",
    "            # Go on until the pole falls off\n",
    "            while not done:\n",
    "                # Choose the action following the policy\n",
    "                action, q_values = self.choose_action_softmax(state, temperature=tau)\n",
    "                \n",
    "                # Apply the action and get the next state, the reward and a flag \"done\" \n",
    "                # that is True if the game is ended\n",
    "                next_state, reward, done, info = env.step(action)\n",
    "                if self.rgb:\n",
    "                    next_state = self.compress_input_image(next_state)\n",
    "                    \n",
    "                # We apply a (linear) penalty when the cart is far from center\n",
    "                \n",
    "                if not self.rgb:\n",
    "                    pos_weight = 5\n",
    "                    reward = reward - pos_weight * np.abs(state[1])\n",
    "                else:\n",
    "                    if not 5 in state[:2,:]:\n",
    "                        pos_weight = 5\n",
    "                        reward = reward - pos_weight\n",
    "                    \n",
    "                    #yscreen = np.shape(state[:2,:])[1]\n",
    "                    #if 5 in state[:2,:]:\n",
    "                    #    reward = reward - pos_weight*np.abs(state[:2,:].argmax() - yscreen/2)/(yscreen/2)\n",
    "                    #else:\n",
    "                    #    reward = reward - pos_weight\n",
    "                \n",
    "                # Update the final score (+1 for each step)\n",
    "                score += 1\n",
    "                \n",
    "                # Update the replay memory\n",
    "                replay_mem.push(state, action, next_state, reward)\n",
    "\n",
    "                # Update the network\n",
    "                if len(replay_mem) > min_samples_for_training: # we enable the training only if we have enough samples in the replay memory, otherwise the training will use the same samples too often\n",
    "                    optimizer = self.update_step(replay_mem, gamma, optimizer, loss_fn, batch_size)\n",
    "                \n",
    "                if render:\n",
    "                    # Visually render the environment (disable to speed up the training)\n",
    "                    env.render()\n",
    "\n",
    "                # Set the current state for the next iteration\n",
    "                state = next_state\n",
    "            \n",
    "            if score>=maxscore:\n",
    "                env.close()\n",
    "                return episode_num\n",
    "            \n",
    "            # Update the target network every target_net_update_steps episodes\n",
    "            if episode_num % target_net_update_steps == 0:\n",
    "                self.target_net.load_state_dict(self.policy_net.state_dict()) # This will copy the weights of the policy network to the target network\n",
    "                \n",
    "                # If test_policy is True, we check every target_net_update_setps if the net has learned.+\n",
    "                # the net has learnet if it can obtain the maximum score 10 times in a row following its policy (with T=0)\n",
    "                # or test_policy times in a row if is int\n",
    "                if test_policy:\n",
    "                    policy_num = policy_num + 1\n",
    "                    if type(test_policy)==int:\n",
    "                        ngames = test_policy\n",
    "                    else:\n",
    "                        ngames = 10\n",
    "                        \n",
    "                    test_score = 0\n",
    "                    for game in range(ngames):\n",
    "                        test_score = test_score + self.play_a_game(show=False)[0]\n",
    "                    test_score = test_score/ngames\n",
    "                    if not type(optunaprint)==int:\n",
    "                        print('Policy {:d} | Mean SCORE: {:.2f} '.format(policy_num,test_score) )\n",
    "                    if test_score >= maxscore:\n",
    "                        has_learned = True\n",
    "            # Print the final score\n",
    "            if optunaprint:\n",
    "                progress.set_description(\"{:d}/{:d} :: SCORE: {:d} - T: {:.4f}\".format(optunaprint,maxplayers, score,tau))\n",
    "            else:\n",
    "                progress.set_description(\"SCORE: {:d} - T: {:.4f}\".format(score,tau))\n",
    "            \n",
    "            if has_learned == True:\n",
    "                if not optunaprint:\n",
    "                    print('Learning completed at epoch: {:d}'.format(episode_num))\n",
    "                env.close()\n",
    "                return episode_num\n",
    "            \n",
    "            # For speeding up the training for the optuna gridsearch, we might want to kill the learning \n",
    "            # of models that are taking longer than the best one\n",
    "            if type(optuna_epoch_limit) == int:\n",
    "                if episode_num >= optuna_epoch_limit:\n",
    "                    env.close()\n",
    "                    return episode_num\n",
    "\n",
    "        env.close()\n",
    "        return max_epoch\n",
    "    \n",
    "def optuna_flappy(ntrials = 20, nepochs = 1000):\n",
    "    ''' Function for Optuna hyperparameter tuning '''\n",
    "    study = optuna.create_study(sampler=optuna.samplers.TPESampler(), direction='minimize')\n",
    "    \n",
    "    optimizers = [torch.optim.Adam, torch.optim.SGD]\n",
    "    global player\n",
    "    player = 1\n",
    "    global epochs\n",
    "    epochs = nepochs\n",
    "    def callback(study, trial):\n",
    "        ''' Callback function, saves the best model. '''\n",
    "        global best_model\n",
    "        # If the best model result is the current one...\n",
    "        if study.best_trial == trial:\n",
    "            # Saves the best model to best_model\n",
    "            best_model = optmodel\n",
    "    \n",
    "    def optuna_train(trial):\n",
    "        ''' Main function for optuna. '''\n",
    "        cfg = {\n",
    "          'lr' : trial.suggest_loguniform('lr', 1e-4, 1e-3),\n",
    "          'optimizer': trial.suggest_categorical('optimizer',list(range(len(optimizers)))),\n",
    "          'gamma' : trial.suggest_uniform('gamma', .95, 1),\n",
    "          'init_v' : trial.suggest_loguniform('init_v', 3,6)\n",
    "        }\n",
    "        \n",
    "        global player\n",
    "        global optmodel\n",
    "        global epochs\n",
    "        optmodel =  Flappy()\n",
    "        optmodel.to(device)\n",
    "        \n",
    "        learning_epochs = optmodel.training_loop(nepochs, nn.SmoothL1Loss(), optimizers[cfg['optimizer']], lr=cfg['lr'], test_policy=10,\n",
    "                                                 gamma=cfg['gamma'], initial_value=cfg['init_v'],\n",
    "                                                 bad_state_penalty = 0, optunaprint=player, maxplayers = ntrials,\n",
    "                                                 optuna_epoch_limit = epochs, maxscore = 1000);\n",
    "        if learning_epochs < epochs:\n",
    "            epochs = learning_epochs\n",
    "        \n",
    "        player = player + 1\n",
    "        return learning_epochs\n",
    "    \n",
    "    study.optimize(optuna_train, n_trials=ntrials, callbacks=[callback])\n",
    "    \n",
    "    optuna_best_params = {\n",
    "        'lr'    : study.best_params['lr'],\n",
    "        'optimizer'   : optimizers[study.best_params['optimizer']],\n",
    "        'gamma' : study.best_params['gamma'],\n",
    "        'init_v' : study.best_params['init_v']\n",
    "    }\n",
    "    \n",
    "    return study, optuna_best_params, best_model\n"
   ]
  },
  {
   "cell_type": "markdown",
   "id": "decf3a6b-4db5-4d35-9af9-3fe117c08026",
   "metadata": {},
   "source": [
    "### FlappyBird-v0"
   ]
  },
  {
   "cell_type": "markdown",
   "id": "eff15908-11f8-485a-9689-c47cbac7fc3b",
   "metadata": {},
   "source": [
    "![img1](https://raw.githubusercontent.com/Talendar/flappy-bird-gym/main/imgs/observations.png)"
   ]
  },
  {
   "cell_type": "markdown",
   "id": "f652c2cc-2d68-4f3d-af5a-cec885199c1e",
   "metadata": {},
   "source": [
    "* ***observation space***: yields simple numerical information about the game's state as observations. The yielded attributes are the:\n",
    "  * horizontal distance to the next pipe;\n",
    "  * difference between the player's y position and the next hole's y position\n",
    "* ***actionspace***:\n",
    "  * tap: flutter\n",
    "  * do nothing"
   ]
  },
  {
   "cell_type": "code",
   "execution_count": 244,
   "id": "c0b50427-a447-4f12-8d3b-f96e2cde7209",
   "metadata": {},
   "outputs": [
    {
     "name": "stdout",
     "output_type": "stream",
     "text": [
      "Environment informations:\n",
      "  observation space: Box(-inf, inf, (2,), float32)\n",
      "  action space     : Discrete(2)\n",
      "  nets input parameters : 2\n",
      "  nets output parameters: 2\n"
     ]
    }
   ],
   "source": [
    "player =  Flappy(verbose = True)"
   ]
  },
  {
   "cell_type": "code",
   "execution_count": 245,
   "id": "b12232f8-70c3-47a5-98c5-767a8682c4cb",
   "metadata": {},
   "outputs": [
    {
     "name": "stderr",
     "output_type": "stream",
     "text": [
      "\u001b[32m[I 2022-02-07 22:42:38,002]\u001b[0m A new study created in memory with name: no-name-b894cc58-3e11-47b7-966f-59a96dfe3976\u001b[0m\n"
     ]
    },
    {
     "data": {
      "application/vnd.jupyter.widget-view+json": {
       "model_id": "8152e3e29ad9479abc98a67ce1f55ca5",
       "version_major": 2,
       "version_minor": 0
      },
      "text/plain": [
       "  0%|          | 0/1500 [00:00<?, ?it/s]"
      ]
     },
     "metadata": {},
     "output_type": "display_data"
    },
    {
     "name": "stderr",
     "output_type": "stream",
     "text": [
      "\u001b[32m[I 2022-02-07 22:48:59,521]\u001b[0m Trial 0 finished with value: 754.0 and parameters: {'lr': 0.00027954149660166323, 'optimizer': 0, 'gamma': 0.9595566801424763, 'init_v': 4.38190024794958}. Best is trial 0 with value: 754.0.\u001b[0m\n"
     ]
    },
    {
     "data": {
      "application/vnd.jupyter.widget-view+json": {
       "model_id": "ea17411feb40469097f51c5d62bf4a20",
       "version_major": 2,
       "version_minor": 0
      },
      "text/plain": [
       "  0%|          | 0/1500 [00:00<?, ?it/s]"
      ]
     },
     "metadata": {},
     "output_type": "display_data"
    },
    {
     "name": "stderr",
     "output_type": "stream",
     "text": [
      "\u001b[32m[I 2022-02-07 22:53:51,505]\u001b[0m Trial 1 finished with value: 754.0 and parameters: {'lr': 0.00015526346001503786, 'optimizer': 1, 'gamma': 0.9576669573536944, 'init_v': 5.116800659400277}. Best is trial 0 with value: 754.0.\u001b[0m\n"
     ]
    },
    {
     "data": {
      "application/vnd.jupyter.widget-view+json": {
       "model_id": "34feb4acc3814947944de221324da86c",
       "version_major": 2,
       "version_minor": 0
      },
      "text/plain": [
       "  0%|          | 0/1500 [00:00<?, ?it/s]"
      ]
     },
     "metadata": {},
     "output_type": "display_data"
    },
    {
     "name": "stderr",
     "output_type": "stream",
     "text": [
      "\u001b[32m[I 2022-02-07 22:56:39,619]\u001b[0m Trial 2 finished with value: 410.0 and parameters: {'lr': 0.0006064470182701977, 'optimizer': 0, 'gamma': 0.968036198211297, 'init_v': 5.7307419816483804}. Best is trial 2 with value: 410.0.\u001b[0m\n"
     ]
    }
   ],
   "source": [
    "study2, optuna_best_params2, best_player2 = optuna_flappy(ntrials=3,nepochs=1500)"
   ]
  },
  {
   "cell_type": "code",
   "execution_count": 246,
   "id": "1762beab-1f2e-46ee-bc31-7313dbe35f2b",
   "metadata": {},
   "outputs": [
    {
     "name": "stdout",
     "output_type": "stream",
     "text": [
      "SCORE: 2948\n"
     ]
    },
    {
     "data": {
      "text/plain": [
       "(2948, array([0.27430556, 0.13671875]))"
      ]
     },
     "execution_count": 246,
     "metadata": {},
     "output_type": "execute_result"
    }
   ],
   "source": [
    "best_player2.play_a_game(show=True)"
   ]
  },
  {
   "cell_type": "markdown",
   "id": "38256507-cb18-44e0-b1c4-befaa5125aff",
   "metadata": {},
   "source": [
    "### FlappyBird-rgb-v0"
   ]
  },
  {
   "cell_type": "markdown",
   "id": "505a8b9c-df0e-46d6-94d8-f3a50691c737",
   "metadata": {},
   "source": [
    "![img2](https://upload.wikimedia.org/wikipedia/it/thumb/c/c7/Flappy_Bird_gameplay.jpeg/135px-Flappy_Bird_gameplay.jpeg)"
   ]
  },
  {
   "cell_type": "markdown",
   "id": "46d4a419-5350-4879-ac5f-f782896ca41f",
   "metadata": {},
   "source": [
    "* ***observation space***: Whole RGB image, this means a 3 channel image of resolution 228x512 (228x512x3)\n",
    "* ***actionspace***:\n",
    "  * tap: flutter\n",
    "  * do nothing"
   ]
  },
  {
   "cell_type": "code",
   "execution_count": 16,
   "id": "58a27dab-7e66-4dc6-8183-7c9f96bc7723",
   "metadata": {},
   "outputs": [
    {
     "name": "stdout",
     "output_type": "stream",
     "text": [
      "Environment informations:\n",
      "  observation space: Box(0.0, 255.0, (288, 512, 3), float32)\n",
      "  action space     : Discrete(2)\n",
      "  nets input parameters : 85050\n",
      "  nets output parameters: 2\n"
     ]
    }
   ],
   "source": [
    "player2 = Flappy(rgb = True, verbose = True)"
   ]
  },
  {
   "cell_type": "markdown",
   "id": "6c2762d8-7e21-4aad-a63b-5fbe1c7b782c",
   "metadata": {},
   "source": [
    "### Optimizing encoding of image"
   ]
  },
  {
   "cell_type": "code",
   "execution_count": 12,
   "id": "aee5eef3-d04d-4086-814c-d8fb8b616522",
   "metadata": {},
   "outputs": [],
   "source": [
    "def max_pool(img, factor: int):\n",
    "    \"\"\" Perform max pooling with a (factor x factor) kernel\"\"\"\n",
    "    ds_img = np.full((img.shape[0] // factor, img.shape[1] // factor), -float('inf'), dtype=img.dtype)\n",
    "    np.maximum.at(ds_img, (np.arange(img.shape[0])[:, None] // factor, np.arange(img.shape[1]) // factor), img)\n",
    "    return ds_img"
   ]
  },
  {
   "cell_type": "code",
   "execution_count": 248,
   "id": "a6f7e511-3b18-4a1f-b729-60bb9bce49cb",
   "metadata": {},
   "outputs": [],
   "source": [
    "# Initialize the Gym environmentif not rgb:\n",
    "env = flappy_bird_gym.make(\"FlappyBird-rgb-v0\")\n",
    "\n",
    "# Reset the environment and get the initial state\n",
    "state = env.reset()\n",
    "\n",
    "# Reset the score. The final score will be the total amount of steps before the pole falls\n",
    "score = 0\n",
    "done = False\n",
    "# Go on until the pole falls off or the score reach 490\n",
    "while not done:\n",
    "    if score%20==0:\n",
    "        action = 1\n",
    "    else:\n",
    "        action = 0\n",
    "    \n",
    "    # Apply the action and get the next state, the reward and a flag \"done\" that is True if the game is ended\n",
    "    next_state, _, done, info = env.step(action)\n",
    "    # Visually render the environment\n",
    "    env.render()\n",
    "    time.sleep(1 / 30)  # FPS\n",
    "    # Update the final score (+1 for each step)\n",
    "    score += 1\n",
    "    # Set the current state for the next iteration\n",
    "    state = next_state\n",
    "    # Check if the episode ended (the pole fell down)"
   ]
  },
  {
   "cell_type": "markdown",
   "id": "85da41d5-fb9b-4885-b795-5226ce1917b9",
   "metadata": {},
   "source": [
    "#### RGB $\\to$ single channel"
   ]
  },
  {
   "cell_type": "code",
   "execution_count": 250,
   "id": "e3cca048-03a4-40af-88ef-5c85c0405bb7",
   "metadata": {},
   "outputs": [
    {
     "name": "stdout",
     "output_type": "stream",
     "text": [
      "State dimension: 442368\n"
     ]
    },
    {
     "data": {
      "image/png": "[encoded data removed]",
      "text/plain": [
       "<Figure size 432x288 with 1 Axes>"
      ]
     },
     "metadata": {
      "needs_background": "light"
     },
     "output_type": "display_data"
    }
   ],
   "source": [
    "plt.imshow(ndimage.rotate(np.flip(state,0), 270), cmap='gray')\n",
    "plt.axis('off')\n",
    "plt.savefig('./imgs/default_view.svg', format='svg')\n",
    "\n",
    "print('State dimension:', state.size)\n"
   ]
  },
  {
   "cell_type": "code",
   "execution_count": 252,
   "id": "3e1a2336-93b8-41b4-b91b-dd0f0ea94a10",
   "metadata": {},
   "outputs": [
    {
     "name": "stdout",
     "output_type": "stream",
     "text": [
      "Image size: (288, 512, 3)\n",
      "State dimension: 147456\n"
     ]
    },
    {
     "data": {
      "image/png": "[encoded data removed]",
      "text/plain": [
       "<Figure size 720x360 with 3 Axes>"
      ]
     },
     "metadata": {
      "needs_background": "light"
     },
     "output_type": "display_data"
    }
   ],
   "source": [
    "print('Image size:',np.shape(state) )\n",
    "\n",
    "fig, ax = plt.subplots(1, 3, figsize=(10,5))\n",
    "\n",
    "ch0 = state[:,:,0]\n",
    "ax[0].set_title('Channel 0')\n",
    "ax[0].imshow(ndimage.rotate(np.flip(ch0,0), 270), cmap='gray');\n",
    "ax[0].axis('off')\n",
    "ch1 = state[:,:,1]\n",
    "\n",
    "ax[1].set_title('Channel 1')\n",
    "ax[1].imshow(ndimage.rotate(np.flip(ch1,0), 270), cmap='gray');\n",
    "ax[1].axis('off')\n",
    "\n",
    "ch2 = state[:,:,2]\n",
    "ax[2].set_title('Channel 2')\n",
    "ax[2].imshow(ndimage.rotate(np.flip(ch2,0), 270), cmap='gray');\n",
    "ax[2].axis('off')\n",
    "plt.savefig('./imgs/channels.svg', format='svg')\n",
    "\n",
    "print('State dimension:', ch2.size)\n"
   ]
  },
  {
   "cell_type": "markdown",
   "id": "bd2fcb2e-1862-4b5e-b03c-14abd544aeed",
   "metadata": {},
   "source": [
    "#### Reducing size of single image"
   ]
  },
  {
   "cell_type": "code",
   "execution_count": 284,
   "id": "1a9cb907-77a0-4422-af76-ddd323c0b10c",
   "metadata": {},
   "outputs": [],
   "source": [
    "ch2_red = ch2[70:280,0:400]"
   ]
  },
  {
   "cell_type": "code",
   "execution_count": 285,
   "id": "91b96f35-f4f7-4cc0-a16c-5534d87f36e2",
   "metadata": {},
   "outputs": [
    {
     "name": "stdout",
     "output_type": "stream",
     "text": [
      "\n",
      "Channel 2 cropped\n",
      "State dimension: 84000\n"
     ]
    },
    {
     "data": {
      "image/png": "[encoded data removed]",
      "text/plain": [
       "<Figure size 432x288 with 1 Axes>"
      ]
     },
     "metadata": {
      "needs_background": "light"
     },
     "output_type": "display_data"
    }
   ],
   "source": [
    "print('\\nChannel 2 cropped')\n",
    "plt.imshow(ndimage.rotate(np.flip(ch2_red,0), 270), cmap='gray');\n",
    "plt.axis('off')\n",
    "\n",
    "plt.savefig('./imgs/single_channel_cropped.svg', format='svg')\n",
    "\n",
    "print('State dimension:', ch2_red.size)"
   ]
  },
  {
   "cell_type": "markdown",
   "id": "a1e564db-f218-4216-a945-1632473bfe07",
   "metadata": {},
   "source": [
    "#### Lowering resolution"
   ]
  },
  {
   "cell_type": "code",
   "execution_count": 286,
   "id": "82d49333-a711-4c60-b6da-31b00c6f2b56",
   "metadata": {},
   "outputs": [
    {
     "name": "stdout",
     "output_type": "stream",
     "text": [
      "State dimension: 840\n"
     ]
    },
    {
     "data": {
      "image/png": "[encoded data removed]",
      "text/plain": [
       "<Figure size 432x288 with 1 Axes>"
      ]
     },
     "metadata": {
      "needs_background": "light"
     },
     "output_type": "display_data"
    }
   ],
   "source": [
    "ch2_red_lowres = max_pool(ch2_red, 10)\n",
    "plt.imshow(ndimage.rotate(np.flip(ch2_red_lowres,0), 270), cmap='gray');\n",
    "plt.axis('off')\n",
    "plt.savefig('./imgs/single_channel_cropped_maxpooled10.svg', format='svg')\n",
    "\n",
    "print('State dimension:', ch2_red_lowres.size)\n"
   ]
  },
  {
   "cell_type": "markdown",
   "id": "080ae0eb-d352-4178-b352-131abd83d462",
   "metadata": {},
   "source": [
    "#### Dynamic resolution"
   ]
  },
  {
   "cell_type": "code",
   "execution_count": 287,
   "id": "d22d2d65-a37c-4cfb-b965-5c79de0481fc",
   "metadata": {},
   "outputs": [
    {
     "data": {
      "text/plain": [
       "(21, 40)"
      ]
     },
     "execution_count": 287,
     "metadata": {},
     "output_type": "execute_result"
    }
   ],
   "source": [
    "ch2_red_lowres.shape"
   ]
  },
  {
   "cell_type": "code",
   "execution_count": 288,
   "id": "d2b0a4dc-e77b-44e2-b16c-60ac3dae015b",
   "metadata": {},
   "outputs": [],
   "source": [
    "from matplotlib.patches import Rectangle"
   ]
  },
  {
   "cell_type": "code",
   "execution_count": 290,
   "id": "a2355232-b557-434d-9e96-76a34b2c669d",
   "metadata": {},
   "outputs": [
    {
     "name": "stdout",
     "output_type": "stream",
     "text": [
      "State dimension: 560\n"
     ]
    },
    {
     "data": {
      "image/png": "[encoded data removed]",
      "text/plain": [
       "<Figure size 432x360 with 2 Axes>"
      ]
     },
     "metadata": {
      "needs_background": "light"
     },
     "output_type": "display_data"
    }
   ],
   "source": [
    "fig, ax = plt.subplots(1, 2, figsize=(6,5))\n",
    "\n",
    "ax[0].imshow(ndimage.rotate(np.flip(ch2_red_lowres,0), 270),cmap='gray')\n",
    "ax[0].plot([16, 16], [0, 39], color='red')\n",
    "k = 16\n",
    "while(k<21):\n",
    "    ax[0].plot([k, k], [0, 39], color='red',alpha=0.2, lw = 3.48)\n",
    "    k = k + .5\n",
    "    \n",
    "ax[0].plot([12, 12], [0, 39], color='blue')\n",
    "k = 12\n",
    "while(k<16):\n",
    "    ax[0].plot([k, k], [0, 39], color='blue',alpha=0.2, lw = 3.4)\n",
    "    k = k + .5\n",
    "\n",
    "#ax[0].plot([2,2], [0,29], color = 'red')\n",
    "ax[0].axis('off')\n",
    "ax[0].set_title('Pooled')\n",
    "#maxpool_col1 = ch2_red_lowres[:1,:].max(axis=0)\n",
    "maxpool_col2 = ch2_red_lowres[12:16,:].min(axis=0)\n",
    "maxpool_col3 = ch2_red_lowres[16:,:].min(axis=0)\n",
    "ch2_red_lowres_dym = np.vstack((np.vstack((ch2_red_lowres[:12,:], maxpool_col2 )), maxpool_col3)) \n",
    "ax[1].imshow(ndimage.rotate(np.flip(ch2_red_lowres_dym,0), 270), cmap='gray')\n",
    "ax[1].axis('off')\n",
    "ax[1].set_title('Reduced')\n",
    "\n",
    "plt.savefig('./imgs/single_channel_cropped_maxpooled10_reduced.svg', format='svg')\n",
    "\n",
    "print('State dimension:', ch2_red_lowres_dym.size)"
   ]
  },
  {
   "cell_type": "markdown",
   "id": "52c3606c-531f-4fca-abad-c52810a22372",
   "metadata": {},
   "source": [
    "---"
   ]
  },
  {
   "cell_type": "code",
   "execution_count": 229,
   "id": "ed24e772-4629-493e-affc-01164f371142",
   "metadata": {},
   "outputs": [],
   "source": [
    "player2 = Flappy(rgb = True)"
   ]
  },
  {
   "cell_type": "code",
   "execution_count": 225,
   "id": "4931ae87-5051-4c9c-9de6-d8273af45dc0",
   "metadata": {},
   "outputs": [
    {
     "data": {
      "application/vnd.jupyter.widget-view+json": {
       "model_id": "b69f5e8a26e74f4888233c7032281560",
       "version_major": 2,
       "version_minor": 0
      },
      "text/plain": [
       "  0%|          | 0/2500 [00:00<?, ?it/s]"
      ]
     },
     "metadata": {},
     "output_type": "display_data"
    },
    {
     "ename": "KeyboardInterrupt",
     "evalue": "",
     "output_type": "error",
     "traceback": [
      "\u001b[0;31m---------------------------------------------------------------------------\u001b[0m",
      "\u001b[0;31mKeyboardInterrupt\u001b[0m                         Traceback (most recent call last)",
      "\u001b[0;32m/tmp/ipykernel_3766/3687895648.py\u001b[0m in \u001b[0;36m<module>\u001b[0;34m\u001b[0m\n\u001b[0;32m----> 1\u001b[0;31m \u001b[0mplayer2\u001b[0m\u001b[0;34m.\u001b[0m\u001b[0mtraining_loop\u001b[0m\u001b[0;34m(\u001b[0m\u001b[0;36m2500\u001b[0m\u001b[0;34m,\u001b[0m \u001b[0mnn\u001b[0m\u001b[0;34m.\u001b[0m\u001b[0mSmoothL1Loss\u001b[0m\u001b[0;34m(\u001b[0m\u001b[0;34m)\u001b[0m\u001b[0;34m,\u001b[0m \u001b[0mtorch\u001b[0m\u001b[0;34m.\u001b[0m\u001b[0moptim\u001b[0m\u001b[0;34m.\u001b[0m\u001b[0mSGD\u001b[0m\u001b[0;34m,\u001b[0m \u001b[0mlr\u001b[0m\u001b[0;34m=\u001b[0m\u001b[0;36m1e-2\u001b[0m\u001b[0;34m)\u001b[0m\u001b[0;34m\u001b[0m\u001b[0;34m\u001b[0m\u001b[0m\n\u001b[0m",
      "\u001b[0;32m/tmp/ipykernel_3766/2804663121.py\u001b[0m in \u001b[0;36mtraining_loop\u001b[0;34m(self, max_epoch, loss_fn, optimizer_fn, initial_value, gamma, replay_memory_capacity, lr, reg_opt, target_net_update_steps, bad_state_penalty, test_policy, batch_size, min_samples_for_training, render, optunaprint, maxplayers, optuna_epoch_limit, maxscore)\u001b[0m\n\u001b[1;32m    326\u001b[0m                 \u001b[0;31m# Update the network\u001b[0m\u001b[0;34m\u001b[0m\u001b[0;34m\u001b[0m\u001b[0m\n\u001b[1;32m    327\u001b[0m                 \u001b[0;32mif\u001b[0m \u001b[0mlen\u001b[0m\u001b[0;34m(\u001b[0m\u001b[0mreplay_mem\u001b[0m\u001b[0;34m)\u001b[0m \u001b[0;34m>\u001b[0m \u001b[0mmin_samples_for_training\u001b[0m\u001b[0;34m:\u001b[0m \u001b[0;31m# we enable the training only if we have enough samples in the replay memory, otherwise the training will use the same samples too often\u001b[0m\u001b[0;34m\u001b[0m\u001b[0;34m\u001b[0m\u001b[0m\n\u001b[0;32m--> 328\u001b[0;31m                     \u001b[0moptimizer\u001b[0m \u001b[0;34m=\u001b[0m \u001b[0mself\u001b[0m\u001b[0;34m.\u001b[0m\u001b[0mupdate_step\u001b[0m\u001b[0;34m(\u001b[0m\u001b[0mreplay_mem\u001b[0m\u001b[0;34m,\u001b[0m \u001b[0mgamma\u001b[0m\u001b[0;34m,\u001b[0m \u001b[0moptimizer\u001b[0m\u001b[0;34m,\u001b[0m \u001b[0mloss_fn\u001b[0m\u001b[0;34m,\u001b[0m \u001b[0mbatch_size\u001b[0m\u001b[0;34m)\u001b[0m\u001b[0;34m\u001b[0m\u001b[0;34m\u001b[0m\u001b[0m\n\u001b[0m\u001b[1;32m    329\u001b[0m \u001b[0;34m\u001b[0m\u001b[0m\n\u001b[1;32m    330\u001b[0m                 \u001b[0;32mif\u001b[0m \u001b[0mrender\u001b[0m\u001b[0;34m:\u001b[0m\u001b[0;34m\u001b[0m\u001b[0;34m\u001b[0m\u001b[0m\n",
      "\u001b[0;32m/tmp/ipykernel_3766/2804663121.py\u001b[0m in \u001b[0;36mupdate_step\u001b[0;34m(self, replay_mem, gamma, optimizer, loss_fn, batch_size)\u001b[0m\n\u001b[1;32m    147\u001b[0m \u001b[0;34m\u001b[0m\u001b[0m\n\u001b[1;32m    148\u001b[0m         \u001b[0;31m# Create tensors for each element of the batch\u001b[0m\u001b[0;34m\u001b[0m\u001b[0;34m\u001b[0m\u001b[0m\n\u001b[0;32m--> 149\u001b[0;31m         \u001b[0mstates\u001b[0m      \u001b[0;34m=\u001b[0m \u001b[0mtorch\u001b[0m\u001b[0;34m.\u001b[0m\u001b[0mtensor\u001b[0m\u001b[0;34m(\u001b[0m\u001b[0;34m[\u001b[0m\u001b[0ms\u001b[0m\u001b[0;34m[\u001b[0m\u001b[0;36m0\u001b[0m\u001b[0;34m]\u001b[0m \u001b[0;32mfor\u001b[0m \u001b[0ms\u001b[0m \u001b[0;32min\u001b[0m \u001b[0mbatch\u001b[0m\u001b[0;34m]\u001b[0m\u001b[0;34m,\u001b[0m \u001b[0mdtype\u001b[0m\u001b[0;34m=\u001b[0m\u001b[0mtorch\u001b[0m\u001b[0;34m.\u001b[0m\u001b[0mfloat32\u001b[0m\u001b[0;34m,\u001b[0m \u001b[0mdevice\u001b[0m\u001b[0;34m=\u001b[0m\u001b[0mdevice\u001b[0m\u001b[0;34m)\u001b[0m\u001b[0;34m\u001b[0m\u001b[0;34m\u001b[0m\u001b[0m\n\u001b[0m\u001b[1;32m    150\u001b[0m         \u001b[0mactions\u001b[0m     \u001b[0;34m=\u001b[0m \u001b[0mtorch\u001b[0m\u001b[0;34m.\u001b[0m\u001b[0mtensor\u001b[0m\u001b[0;34m(\u001b[0m\u001b[0;34m[\u001b[0m\u001b[0ms\u001b[0m\u001b[0;34m[\u001b[0m\u001b[0;36m1\u001b[0m\u001b[0;34m]\u001b[0m \u001b[0;32mfor\u001b[0m \u001b[0ms\u001b[0m \u001b[0;32min\u001b[0m \u001b[0mbatch\u001b[0m\u001b[0;34m]\u001b[0m\u001b[0;34m,\u001b[0m \u001b[0mdtype\u001b[0m\u001b[0;34m=\u001b[0m\u001b[0mtorch\u001b[0m\u001b[0;34m.\u001b[0m\u001b[0mint64\u001b[0m\u001b[0;34m,\u001b[0m \u001b[0mdevice\u001b[0m\u001b[0;34m=\u001b[0m\u001b[0mdevice\u001b[0m\u001b[0;34m)\u001b[0m\u001b[0;34m\u001b[0m\u001b[0;34m\u001b[0m\u001b[0m\n\u001b[1;32m    151\u001b[0m         \u001b[0mrewards\u001b[0m     \u001b[0;34m=\u001b[0m \u001b[0mtorch\u001b[0m\u001b[0;34m.\u001b[0m\u001b[0mtensor\u001b[0m\u001b[0;34m(\u001b[0m\u001b[0;34m[\u001b[0m\u001b[0ms\u001b[0m\u001b[0;34m[\u001b[0m\u001b[0;36m3\u001b[0m\u001b[0;34m]\u001b[0m \u001b[0;32mfor\u001b[0m \u001b[0ms\u001b[0m \u001b[0;32min\u001b[0m \u001b[0mbatch\u001b[0m\u001b[0;34m]\u001b[0m\u001b[0;34m,\u001b[0m \u001b[0mdtype\u001b[0m\u001b[0;34m=\u001b[0m\u001b[0mtorch\u001b[0m\u001b[0;34m.\u001b[0m\u001b[0mfloat32\u001b[0m\u001b[0;34m,\u001b[0m \u001b[0mdevice\u001b[0m\u001b[0;34m=\u001b[0m\u001b[0mdevice\u001b[0m\u001b[0;34m)\u001b[0m\u001b[0;34m\u001b[0m\u001b[0;34m\u001b[0m\u001b[0m\n",
      "\u001b[0;31mKeyboardInterrupt\u001b[0m: "
     ]
    }
   ],
   "source": [
    "player2.training_loop(2500, nn.SmoothL1Loss(), torch.optim.SGD, lr=1e-2)"
   ]
  },
  {
   "cell_type": "code",
   "execution_count": 230,
   "id": "55e13467-4655-4cce-8eeb-1f0e352be80e",
   "metadata": {},
   "outputs": [
    {
     "name": "stdout",
     "output_type": "stream",
     "text": [
      "SCORE: 101\n"
     ]
    }
   ],
   "source": [
    "# Lets see once how it plays\n",
    "_, state = player2.play_a_game(debug = False, show = True)"
   ]
  },
  {
   "cell_type": "markdown",
   "id": "2fa3ac15-e1d7-4a3a-a993-30465fab50a9",
   "metadata": {
    "tags": []
   },
   "source": [
    "---\n",
    "## Resources:\n",
    "* [Playing Atari with Deep Reinforcement Learning](https://www.cs.toronto.edu/~vmnih/docs/dqn.pdf)"
   ]
  }
 ],
 "metadata": {
  "kernelspec": {
   "display_name": "Python 3 (ipykernel)",
   "language": "python",
   "name": "python3"
  },
  "language_info": {
   "codemirror_mode": {
    "name": "ipython",
    "version": 3
   },
   "file_extension": ".py",
   "mimetype": "text/x-python",
   "name": "python",
   "nbconvert_exporter": "python",
   "pygments_lexer": "ipython3",
   "version": "3.9.7"
  }
 },
 "nbformat": 4,
 "nbformat_minor": 5
}
