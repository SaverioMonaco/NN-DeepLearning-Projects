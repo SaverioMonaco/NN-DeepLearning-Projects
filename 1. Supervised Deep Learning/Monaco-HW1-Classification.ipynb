{
 "cells": [
  {
   "cell_type": "markdown",
   "id": "7cd581c9-b9e4-4cb0-bd4d-dcc781d5d906",
   "metadata": {},
   "source": [
    "---\n",
    "---\n",
    "# NEURAL NETWORKS AND DEEP LEARNING\n",
    "\n",
    "### A.A. 2021/22 (6 CFU) - Dr. Alberto Testolin, Dr. Umberto Michieli\n",
    "\n",
    "### Saverio Monaco\n",
    "##### MAT: 2012264\n",
    "\n",
    "# Homework 1 - Supervised Deep Learning\n",
    "---\n",
    "---"
   ]
  },
  {
   "cell_type": "markdown",
   "id": "128af43b-542f-4124-9700-72be4837691b",
   "metadata": {},
   "source": [
    "## Classification task"
   ]
  },
  {
   "cell_type": "markdown",
   "id": "69a89872-5c7f-40dc-ad13-e60c12007037",
   "metadata": {},
   "source": [
    "* The goal is to train a neural network that maps an input image (from fashionMNIST) to one of ten classes (multi-class classification problem with mutually exclusive classes).\n",
    "* Define a proper loss (e.g. [torch.nn.CrossEntropyLoss](https://pytorch.org/docs/stable/generated/torch.nn.CrossEntropyLoss.html#torch.nn.CrossEntropyLoss))\n",
    "* Also here, consider to create a validation set from you training data, or use a k-fold cross-validation strategy.\n",
    "* Pay attention to the shape, data type and output values range. If needed, modify them accordingly to your implementation (read carefully the documentation of the layers that you use, e.g. [torch.nn.Conv2d](https://pytorch.org/docs/stable/generated/torch.nn.Conv2d.html)).\n",
    "* Explore different optimizers, acivation functions, network architectures. Analyze the effect of different regularization methods, such as dropout layers, random transformations (image rotation, scaling, add noise...) or L2 regularization (weight decay)."
   ]
  },
  {
   "cell_type": "code",
   "execution_count": 1,
   "id": "5235f9de-9d73-4ed7-b71b-03f397b2411a",
   "metadata": {},
   "outputs": [],
   "source": [
    "# if True all the models will be loaded from ./models folder\n",
    "# if False all the models will be trained\n",
    "load = False"
   ]
  },
  {
   "cell_type": "markdown",
   "id": "c3e6a947-2dba-4e28-a68c-dfd659178e7d",
   "metadata": {
    "tags": []
   },
   "source": [
    "### Dataset"
   ]
  },
  {
   "cell_type": "code",
   "execution_count": 2,
   "id": "31f62da4-da28-4df5-b206-b9db92521a36",
   "metadata": {},
   "outputs": [],
   "source": [
    "#################\n",
    "#### IMPORTS ####\n",
    "#################\n",
    "\n",
    "# Arrays\n",
    "import numpy as np\n",
    "\n",
    "# Deep Learning stuff\n",
    "import torch\n",
    "import torchvision\n",
    "import torch.nn as nn\n",
    "from torch.utils.data import Dataset, DataLoader\n",
    "import torchvision.transforms as transforms\n",
    "from sklearn.model_selection import KFold\n",
    "import torch.optim as optim\n",
    "from sklearn.metrics import confusion_matrix\n",
    "import seaborn as sns\n",
    "\n",
    "# Images display and plots\n",
    "import matplotlib.pyplot as plt\n",
    "\n",
    "# Other\n",
    "import os\n",
    "import time\n",
    "from tqdm.notebook import tqdm # Pretty progress bars\n"
   ]
  },
  {
   "cell_type": "code",
   "execution_count": 3,
   "id": "90407dd9-ed20-4182-b959-442112bbf17d",
   "metadata": {},
   "outputs": [],
   "source": [
    "# Setting the values of the seeds for reproducibility\n",
    "torch.manual_seed(2012264)    \n",
    "np.random.seed(2012264)\n"
   ]
  },
  {
   "cell_type": "code",
   "execution_count": 4,
   "id": "267abf10-fb9a-49d4-8611-eff0cfcce644",
   "metadata": {},
   "outputs": [],
   "source": [
    "# If we have already the datafolder, do not download.\n",
    "if(os.path.isdir('./classifier_data/FashionMNIST')):\n",
    "    download_data = False\n",
    "else:\n",
    "    download_data = True\n",
    "    \n",
    "train_dataset = torchvision.datasets.FashionMNIST('classifier_data', train=True, download=download_data,\n",
    "                                                     transform = transforms.Compose([transforms.ToTensor()]) )\n",
    "                                                      \n",
    "test_dataset  = torchvision.datasets.FashionMNIST('classifier_data', train=False, download=download_data,\n",
    "                                                     transform = transforms.Compose([transforms.ToTensor()]) )\n"
   ]
  },
  {
   "cell_type": "code",
   "execution_count": 5,
   "id": "67ee37d8-606c-4af3-9d45-115ccfc6c50f",
   "metadata": {},
   "outputs": [],
   "source": [
    "train_dataloader = DataLoader(train_dataset, batch_size = 100, shuffle=True, num_workers=0)\n",
    "test_dataloader = DataLoader(test_dataset, batch_size = 10000, shuffle=True, num_workers=0)\n"
   ]
  },
  {
   "cell_type": "code",
   "execution_count": 6,
   "id": "2f14731d-b0ce-486f-94ea-21ea506fb371",
   "metadata": {},
   "outputs": [
    {
     "name": "stdout",
     "output_type": "stream",
     "text": [
      "Number of instances in training dataset: 60000\n",
      "Number of instances in testing dataset:  10000\n",
      "\n",
      "Size of the images: (28, 28)\n"
     ]
    }
   ],
   "source": [
    "print('Number of instances in training dataset:', np.shape(train_dataset.data)[0])\n",
    "print('Number of instances in testing dataset: ', np.shape(test_dataset.data)[0])\n",
    "\n",
    "print('\\nSize of the images:', np.shape(train_dataset.data[0].numpy()))\n"
   ]
  },
  {
   "cell_type": "code",
   "execution_count": 7,
   "id": "0934b58b-bc12-434f-9611-a6f31ccd2f51",
   "metadata": {},
   "outputs": [
    {
     "name": "stdout",
     "output_type": "stream",
     "text": [
      "TRAINING DATASET\n",
      " range: 0.0 - 1.0\n",
      "\n",
      "TEST DATASET\n",
      " range: 0.0 - 1.0\n"
     ]
    }
   ],
   "source": [
    "# Check for the ranges of value of the images\n",
    "# There are two standards of representing grayscale images:\n",
    "#  1. Each pixel ranges from 0 to 1\n",
    "#  2. Each pixel ranges from 0 to 255\n",
    "\n",
    "# The second one present more numerical instability\n",
    "\n",
    "absmax = -1000\n",
    "absmin = +1000\n",
    "\n",
    "# Checking the whole dataset, just to be sure\n",
    "for image_batch, _ in train_dataloader:\n",
    "    batch_max = torch.max(image_batch)\n",
    "    batch_min = torch.min(image_batch)\n",
    "    \n",
    "    if batch_max > absmax:\n",
    "        absmax = batch_max\n",
    "    if batch_min < absmin:\n",
    "        absmin = batch_min\n",
    "        \n",
    "print('TRAINING DATASET')\n",
    "print(' range:', absmin.item(), '-', absmax.item())\n",
    "\n",
    "absmax = -1000\n",
    "absmin = +1000\n",
    "\n",
    "# Checking the whole dataset, just to be sure\n",
    "for image_batch, _ in test_dataloader:\n",
    "    batch_max = torch.max(image_batch)\n",
    "    batch_min = torch.min(image_batch)\n",
    "    \n",
    "    if batch_max > absmax:\n",
    "        absmax = batch_max\n",
    "    if batch_min < absmin:\n",
    "        absmin = batch_min\n",
    "\n",
    "print('\\nTEST DATASET')\n",
    "print(' range:', absmin.item(), '-', absmax.item())\n"
   ]
  },
  {
   "cell_type": "code",
   "execution_count": 8,
   "id": "236e0588-25e4-4698-a254-bcd8193eab6e",
   "metadata": {},
   "outputs": [
    {
     "name": "stdout",
     "output_type": "stream",
     "text": [
      "Training device: cuda\n"
     ]
    }
   ],
   "source": [
    "# Check if the GPU is available\n",
    "device = torch.device(\"cuda\") if torch.cuda.is_available() else torch.device(\"cpu\")\n",
    "print(f\"Training device: {device}\")\n"
   ]
  },
  {
   "cell_type": "code",
   "execution_count": 9,
   "id": "f9dfa00e-ec96-4212-8305-a7ff085d79b0",
   "metadata": {},
   "outputs": [],
   "source": [
    "def plot_mnistimg(dataset, sample, output = False, size = 3):\n",
    "    '''\n",
    "    Display the sample-th image from dataset (can be trainingset or testset) and its true\n",
    "    label.\n",
    "    Eventually display the predicted label in output.\n",
    "    Size of the image can be changed changing size input parameter\n",
    "    '''\n",
    "    \n",
    "    # Convert output (int) through the description of the images (str)\n",
    "    description = ['T-shirt/top','Trouser','Pullover',\n",
    "                   'Dress','Coat','Sandal','Shirt',\n",
    "                   'Sneaker','Bag','Ankle boot']\n",
    "    \n",
    "    image = np.ones((28,28))-np.array(dataset[sample][0])[0] # Image to display\n",
    "    label = dataset[sample][1]              # Relative label (int)\n",
    "\n",
    "    fig = plt.figure(figsize=(size,size))\n",
    "    plt.imshow(image, cmap='Greys')\n",
    "    \n",
    "    print(f\"Sample: {sample}\")\n",
    "    print(f\"True Label: {description[label]}\")\n",
    "    \n",
    "    if output:\n",
    "        print(f\"Prediction: {description[output]}\")\n",
    "    \n",
    "    plt.axis(\"off\")\n",
    "    plt.show()\n",
    "    "
   ]
  },
  {
   "cell_type": "code",
   "execution_count": 10,
   "id": "8127ade2-dad3-4e6c-8739-5659e0c7d8cb",
   "metadata": {},
   "outputs": [
    {
     "name": "stdout",
     "output_type": "stream",
     "text": [
      "Sample: 1\n",
      "True Label: T-shirt/top\n"
     ]
    },
    {
     "data": {
      "image/png": "[encoded data removed]",
      "text/plain": [
       "<Figure size 216x216 with 1 Axes>"
      ]
     },
     "metadata": {
      "needs_background": "light"
     },
     "output_type": "display_data"
    }
   ],
   "source": [
    "plot_mnistimg(train_dataset, 1)\n"
   ]
  },
  {
   "cell_type": "markdown",
   "id": "f90aba8d-77ab-46b6-9e39-b538055d5a2d",
   "metadata": {
    "tags": []
   },
   "source": [
    "### Building the Neural Network Structure"
   ]
  },
  {
   "cell_type": "code",
   "execution_count": 11,
   "id": "1595fb45-8f65-4019-bf9e-fe3656d8a16f",
   "metadata": {},
   "outputs": [],
   "source": [
    "class CNNMnistNet(nn.Module):\n",
    "    def __init__(self, Noutp, channels, activation = nn.ReLU(), dropout=0):\n",
    "        \"\"\"\n",
    "        Ni - Input size  (INT)\n",
    "        No - Output size (INT)\n",
    "        Nhs - Hidden layers (LIST OF INTEGERS)\n",
    "        \"\"\"\n",
    "        super(CNNMnistNet, self).__init__()\n",
    "        \n",
    "        self.activation = activation\n",
    "        self.channels = channels\n",
    "        \n",
    "        if len(channels)!=2:\n",
    "            print('Channels specified must be a list of two elements')\n",
    "        \n",
    "        self.conv1 = nn.Sequential(         \n",
    "            nn.Conv2d(\n",
    "                in_channels  = 1, # Because image is grayscale              \n",
    "                out_channels = channels[0],            \n",
    "                kernel_size  = 5,              \n",
    "                stride       = 1,                   \n",
    "                padding      = 2,                  \n",
    "            ),                              \n",
    "            activation,                      \n",
    "            nn.MaxPool2d(kernel_size=2),    \n",
    "        )\n",
    "        \n",
    "        # Dropout between two convolutions\n",
    "        self.dropout = nn.Dropout(dropout)\n",
    "        \n",
    "        self.conv2 = nn.Sequential(         \n",
    "            nn.Conv2d(\n",
    "                in_channels  = channels[0], \n",
    "                out_channels = channels[1], \n",
    "                kernel_size  = 5, \n",
    "                stride       = 1, \n",
    "                padding      =2\n",
    "            ),     \n",
    "            activation,                      \n",
    "            nn.MaxPool2d(2),                \n",
    "        )\n",
    "        \n",
    "        # Fully connected layer to output 10 classes\n",
    "        self.out = nn.Linear(channels[1] * 7 * 7, Noutp)\n",
    "    \n",
    "    def forward(self, x):\n",
    "        x = self.conv1(x)\n",
    "        x = self.conv2(x)\n",
    "        \n",
    "        # flatten the output of conv2 to (batch_size, 32 * 7 * 7)\n",
    "        x = x.view(x.size(0), -1)       \n",
    "        output = self.out(x)\n",
    "        return output    # return x for visualization\n",
    "    \n",
    "    def compute_accuracy(self, heatmap = False, verbose = False, examples=False):\n",
    "        '''\n",
    "        Compute accuracy of the model (%) from the testset\n",
    "        heatmap  = True shows heatmap\n",
    "        verbose  = True prints accuracy\n",
    "        examples = True display some examples\n",
    "        '''\n",
    "        self.to(device)\n",
    "        self.eval()\n",
    "        # Input and true label\n",
    "        x_test,y_test = next(iter(test_dataloader))\n",
    "        # Prediction\n",
    "        y_pred = self(x_test.to(device)).argmax(dim=1)\n",
    "        \n",
    "        description = ['T-shirt/top','Trouser','Pullover',\n",
    "                   'Dress','Coat','Sandal','Shirt',\n",
    "                   'Sneaker','Bag','Ankle boot']\n",
    "        \n",
    "        misclas = 0\n",
    "        for i in range(len(y_pred) ):\n",
    "            if y_pred[i] != y_test[i]:\n",
    "                misclas = misclas + 1\n",
    "        \n",
    "        accuracy = 100*(len(y_pred) - misclas)/len(y_pred)\n",
    "        \n",
    "        if verbose:\n",
    "            print('Accuracy:', accuracy, '%' )\n",
    "            \n",
    "        if heatmap:\n",
    "            conf_mat = confusion_matrix(y_test, y_pred.cpu())\n",
    "            fig, ax = plt.subplots(figsize=(6,5))\n",
    "            plt.title('Heatmap')\n",
    "            sns.heatmap(conf_mat, annot=True, fmt='d',xticklabels=description, yticklabels=description)\n",
    "            plt.ylabel('Actual')\n",
    "            plt.xlabel('Predicted')\n",
    "            \n",
    "            if type(heatmap) is str:\n",
    "                plt.savefig('./imgs/classification/'+heatmap+'.svg', format='svg')\n",
    "            else:\n",
    "                plt.show()\n",
    "            \n",
    "        if examples:\n",
    "            indices = np.random.choice(np.arange(len(test_dataloader.dataset) ), size=5, replace=False)\n",
    "            \n",
    "            for index in indices:\n",
    "                image = np.array(x_test[index][0])\n",
    "                label = y_test[index]\n",
    "\n",
    "                fig = plt.figure(figsize=(3,3))\n",
    "                plt.imshow(image, cmap='Greys')\n",
    "    \n",
    "                print(f\"\\n\\nTrue Label: {description[label]}\")\n",
    "                print(f\"Prediction: {description[y_pred[index]]}\")\n",
    "    \n",
    "                plt.axis(\"off\")\n",
    "                plt.show()\n",
    "            \n",
    "        return accuracy\n",
    "    \n",
    "    def fit(self, data, epochs, folds, torch_loss, printfreq, lr0, reg_term = 0, test=False, figname=False):\n",
    "        '''\n",
    "        Function for training the Network\n",
    "        data:       Dataloader\n",
    "        epochs:     Number of epochs for the model to learn\n",
    "        folds:      Folds in the k-fold cross validation\n",
    "        torch_loss: Torch funcion for the loss\n",
    "        printfreq:  Frequency of printing train loss and validation loss\n",
    "        lr0:        Initial Learning rate\n",
    "        reg_term:   Regularization term L2 penalty\n",
    "        test =True: Computes accuracy on testset at each epoch, and \n",
    "                    displays learning curves\n",
    "        '''\n",
    "        train_loss_log = [] \n",
    "        test_loss_log = []\n",
    "        val_loss_log = []\n",
    "        \n",
    "        # Define the optimizer\n",
    "        optimizer = optim.Adam(self.parameters(), lr=lr0, weight_decay= reg_term)\n",
    "        self.to(device)\n",
    "        for epoch in range(epochs):\n",
    "            ### TRAIN\n",
    "            train_loss = []\n",
    "    \n",
    "            self.train() # Training mode (e.g. enable dropout, batchnorm updates,...)\n",
    "            for sample_batched in data:\n",
    "                # Move data to device\n",
    "                x_batch = sample_batched[0].to(device)\n",
    "                label_batch = sample_batched[1].to(device)\n",
    "        \n",
    "                kf = KFold(n_splits=folds)\n",
    "                kf.get_n_splits(x_batch)\n",
    "        \n",
    "                loss = 0\n",
    "                for train_index, val_index in kf.split(x_batch):\n",
    "                    x_batch_train, x_batch_val = x_batch[train_index], x_batch[val_index]\n",
    "                    y_batch_train, y_batch_val = label_batch[train_index], label_batch[val_index]\n",
    "\n",
    "                    # Forward pass\n",
    "                    out = self(x_batch_train)\n",
    "        \n",
    "                    # Compute loss\n",
    "                    loss = loss + torch_loss(out, y_batch_train)/folds\n",
    "                # Backpropagation\n",
    "                self.zero_grad() # Clears gradient\n",
    "                loss.backward()  # Computes the derivative of the loss\n",
    "\n",
    "                # Update the weights\n",
    "                optimizer.step() # Take a step based on the gradients\n",
    "\n",
    "                # Save train loss for this batch\n",
    "                loss_batch = loss.detach().cpu().numpy()\n",
    "                train_loss.append(loss_batch)\n",
    "\n",
    "            # Save average train loss\n",
    "            train_loss = np.mean(train_loss)\n",
    "    \n",
    "            if printfreq!=0 and epoch%printfreq == 0:\n",
    "                print('#################')\n",
    "                print(f'# EPOCH {epoch}')\n",
    "                print('#################')\n",
    "                print(f\"AVERAGE TRAIN LOSS: {train_loss}\")\n",
    "                \n",
    "            train_loss_log.append(train_loss)\n",
    "            \n",
    "            ### VALIDATION\n",
    "            val_loss= []\n",
    "            self.eval() # Evaluation mode (e.g. disable dropout, batchnorm,...)\n",
    "            with torch.no_grad(): # Disable gradient tracking\n",
    "                for sample_batched in data:\n",
    "                    # Move data to device\n",
    "                    x_batch = sample_batched[0].to(device)\n",
    "                    label_batch = sample_batched[1].to(device)\n",
    "\n",
    "                    kf = KFold(n_splits=folds)\n",
    "                    kf.get_n_splits(x_batch)\n",
    "        \n",
    "                    loss = 0\n",
    "                    for train_index, val_index in kf.split(x_batch):\n",
    "                        x_batch_train, x_batch_val = x_batch[train_index], x_batch[val_index]\n",
    "                        y_batch_train, y_batch_val = label_batch[train_index], label_batch[val_index]\n",
    "\n",
    "                        # Forward pass\n",
    "                        out = self(x_batch_val)\n",
    "\n",
    "                        # Compute loss\n",
    "                        loss = loss + torch_loss(out, y_batch_val)/folds\n",
    "                \n",
    "                    # Save val loss for this batch\n",
    "                    loss_batch = loss.detach().cpu().numpy()\n",
    "                    val_loss.append(loss_batch)\n",
    "        \n",
    "                # Save average validation loss\n",
    "                val_loss = np.mean(val_loss)\n",
    "                if printfreq!=0 and epoch%printfreq == 0:\n",
    "                    print(f\"AVERAGE VAL LOSS: {np.mean(val_loss)}\")\n",
    "                    print('')\n",
    "                val_loss_log.append(val_loss)\n",
    "            \n",
    "            if test:\n",
    "                test_loss_log.append(self.compute_accuracy()) # Compute accuracy\n",
    "                if printfreq!=0 and epoch%printfreq == 0:\n",
    "                    print(f\"TEST ACCURACY: {test_loss_log[-1]} %\")\n",
    "                    \n",
    "        if test:\n",
    "            fig=plt.figure(figsize = (4,6))\n",
    "            ax1 = plt.subplot(211) # Loss on training\n",
    "            ax2 = plt.subplot(212) # Accuracy on test\n",
    "            \n",
    "            xvalues = np.arange(0,epochs)\n",
    "            \n",
    "            ax1.set_title('Loss curves')\n",
    "            \n",
    "            ax1.plot(xvalues, val_loss_log  , label='Validation error', color='green')\n",
    "            ax1.plot(xvalues, train_loss_log, label='Train error', color='blue')\n",
    "            ax1.set_xlabel('epoch')\n",
    "            ax1.legend()\n",
    "            \n",
    "            ax2.set_title('Accuracy on test set')\n",
    "            ax2.set_ylabel('%')\n",
    "            ax2.set_xlabel('epoch')\n",
    "            ax2.set_ylim(-1,101)\n",
    "            ax2.plot(xvalues, test_loss_log  , label='Test accuracy', color='gold')\n",
    "            \n",
    "            plt.tight_layout()\n",
    "            \n",
    "            if type(figname) is str:\n",
    "                plt.savefig('./imgs/classification/'+figname+'.svg', format='svg')\n",
    "            else:\n",
    "                plt.show()\n",
    "            \n",
    "        return val_loss_log[-1]\n",
    "    \n",
    "    def plot_filters(self, figname=False):\n",
    "        '''Functions for visualizing the filters'''\n",
    "        filter1 = self.conv1[0].weight.data.cpu().numpy()\n",
    "        filter2 = self.conv2[0].weight.data.cpu().numpy()\n",
    "        \n",
    "        # FIRST CHANNEL #\n",
    "        fig, ax = plt.subplots(1,self.channels[0], figsize=(16, 3))\n",
    "\n",
    "        for i in range(self.channels[0]):\n",
    "            ax[i].imshow( filter1[i, 0, :, :], cmap='Greys')\n",
    "            ax[i].axis('off')\n",
    "    \n",
    "        fig.suptitle('Filters of first convolutional layer')\n",
    "        \n",
    "        if figname:\n",
    "            plt.savefig('./imgs/classification/'+figname+'layer1.svg', format='svg')\n",
    "        else:\n",
    "            plt.show()\n",
    "        \n",
    "        # SECOND CHANNEL #\n",
    "        fig, ax = plt.subplots(self.channels[0], self.channels[1], figsize=(16, 7))\n",
    "\n",
    "        for i in range(self.channels[0]):\n",
    "            for j in range(self.channels[1]):\n",
    "                ax[i,j].imshow( filter2[j, i, :,:], cmap='Greys')\n",
    "                ax[i,j].axis('off')\n",
    "        \n",
    "        fig.suptitle('Filters of second convolutional layer')\n",
    "        if figname:\n",
    "            plt.savefig('./imgs/classification/'+figname+'layer2.svg', format='svg')\n",
    "        else:\n",
    "            plt.show()\n",
    "        \n",
    "    def plot_activations(self, figname=False):\n",
    "        def get_activation(layer, input, output):\n",
    "            global activation\n",
    "            activation = self.activation(output)\n",
    "\n",
    "        ex_dataloader =  DataLoader(test_dataset, batch_size = 1, shuffle=True, num_workers=0)\n",
    "        \n",
    "        ### Register hook  \n",
    "        hook_handle = self.conv1.register_forward_hook(get_activation)\n",
    "\n",
    "        ### Analyze activations\n",
    "        self.eval()\n",
    "\n",
    "        with torch.no_grad():\n",
    "            for s_batch in ex_dataloader:\n",
    "                # Move data to device\n",
    "                x1 = s_batch[0].to(device)\n",
    "                # Forward pass\n",
    "                y1 = self(x1)\n",
    "                z1 = activation\n",
    "\n",
    "        ### Remove hook\n",
    "        hook_handle.remove()\n",
    "\n",
    "        act1 = z1.cpu().numpy()\n",
    "\n",
    "        ## Plot activations\n",
    "        fig, ax = plt.subplots(1, self.channels[0], figsize=(16,3))\n",
    "        for i in range(self.channels[0]):\n",
    "            ax[i].imshow( act1[0, i, :, :], cmap='Greys')\n",
    "            ax[i].axis('off')\n",
    "\n",
    "        fig.suptitle('Activation profile - first convolutional layer', fontsize=16)    \n",
    "        plt.tight_layout()\n",
    "\n",
    "        if figname:\n",
    "            plt.savefig('./imgs/classification/'+figname+'activation1.svg', format='svg')\n",
    "        else:\n",
    "            plt.show()   \n",
    "        \n",
    "        ### Register hook  \n",
    "        hook_handle = self.conv2.register_forward_hook(get_activation)\n",
    "\n",
    "        with torch.no_grad():\n",
    "            for s_batch in ex_dataloader:\n",
    "                # Move data to device\n",
    "                x2 = s_batch[0].to(device)\n",
    "                # Forward pass\n",
    "                y2 = self(x2)\n",
    "                z2 = activation\n",
    "\n",
    "        ### Remove hook\n",
    "        hook_handle.remove()\n",
    "\n",
    "        act2 = z2.cpu().numpy()\n",
    "\n",
    "        ## Plot activations\n",
    "        fig, ax = plt.subplots(2, self.channels[0], figsize=(16,6))\n",
    "\n",
    "        for i in range(self.channels[0]):\n",
    "            ax[0, i].imshow( act2[0, i, :, :], cmap='Greys')\n",
    "            ax[0, i].axis('off')\n",
    "            ax[1, i].imshow( act2[0, i+self.channels[0], :, :], cmap='Greys')\n",
    "            ax[1, i].axis('off')\n",
    "\n",
    "        fig.suptitle('Activation profile - second convolutional layer', fontsize=16)    \n",
    "        plt.tight_layout()\n",
    "\n",
    "        if figname:\n",
    "            plt.savefig('./imgs/classification/'+figname+'activation2.svg', format='svg')\n",
    "        else:\n",
    "            plt.show()    \n",
    "        \n",
    "    def save(self, file=False):\n",
    "        '''\n",
    "        Just save the model in ./models folder.\n",
    "        if file = False it overwrites ./models/classificator.pth. else it saves it on the name specified\n",
    "        '''\n",
    "        if file:\n",
    "            torch.save(self.state_dict(), './models/'+str(file))\n",
    "        else:\n",
    "            torch.save(self.state_dict(), './models/bestclassificator')\n",
    "            "
   ]
  },
  {
   "cell_type": "code",
   "execution_count": 12,
   "id": "43c10536-fa78-4e9d-8877-8e9116092428",
   "metadata": {},
   "outputs": [],
   "source": [
    "load = False"
   ]
  },
  {
   "cell_type": "code",
   "execution_count": 13,
   "id": "d75dd17d-f62b-4582-ade8-2a24795fb3b5",
   "metadata": {},
   "outputs": [
    {
     "name": "stdout",
     "output_type": "stream",
     "text": [
      "---------------------\n",
      "Configuration 0\n",
      " Validation loss:  0.44609544\n",
      " Lr =            0.0001\n",
      " Loss =          CrossEntropyLoss()\n",
      " Reg =           0.0001\n",
      " Channels =      [6, 12]\n",
      " dropout =       0.1\n",
      " activation =    ReLU()\n",
      "\n",
      "Iteration: 1\n",
      "Iteration: 2\n",
      "Iteration: 3\n",
      "Iteration: 4\n",
      "---------------------\n",
      "Configuration 4\n",
      " Validation loss:  0.26932257\n",
      " Lr =            0.001\n",
      " Loss =          CrossEntropyLoss()\n",
      " Reg =           0.0001\n",
      " Channels =      [6, 12]\n",
      " dropout =       0.1\n",
      " activation =    ReLU()\n",
      "\n",
      "Iteration: 5\n",
      "Iteration: 6\n",
      "Iteration: 7\n",
      "Iteration: 8\n",
      "Best model found: \n",
      "{'lr': 0.001, 'loss': CrossEntropyLoss(), 'reg': 0.0001, 'channels': [6, 12], 'dropout': 0.1, 'activation': ReLU()}\n",
      "Accuracy: 90.11 %\n"
     ]
    },
    {
     "data": {
      "image/png": "[encoded data removed]",
      "text/plain": [
       "<Figure size 288x432 with 2 Axes>"
      ]
     },
     "metadata": {
      "needs_background": "light"
     },
     "output_type": "display_data"
    },
    {
     "data": {
      "image/png": "[encoded data removed]",
      "text/plain": [
       "<Figure size 432x360 with 2 Axes>"
      ]
     },
     "metadata": {
      "needs_background": "light"
     },
     "output_type": "display_data"
    }
   ],
   "source": [
    "if load:\n",
    "    # load the model instead of doing the gridsearch:\n",
    "    best_model = CNNMnistNet(10, [3,6], activation = nn.ReLU(), dropout=0)\n",
    "    best_model.load_state_dict(torch.load('./models/bestclassificator'))\n",
    "    best_model.compute_accuracy(heatmap=True, verbose=True)\n",
    "else:\n",
    "    # Hyperparameters for the gridsearch:\n",
    "    grid_lrs = [1e-4,1e-3]\n",
    "    grid_regs =  [1e-4]\n",
    "    grid_channels = [[6,12]]\n",
    "    grid_dropouts = [.1,.01] \n",
    "    grid_activations = [nn.ReLU(), nn.Sigmoid()]\n",
    "    grid_losses = [nn.CrossEntropyLoss()]\n",
    "\n",
    "    best_train_loss = 1000000\n",
    "    best_val_loss   = 1000000\n",
    "\n",
    "    grid_epochs = 10\n",
    "\n",
    "    i = 0 # Loop variable, tells us at what configuration we currently are\n",
    "\n",
    "    for grid_lr in grid_lrs:\n",
    "        for grid_loss in grid_losses:\n",
    "            for grid_reg in grid_regs:\n",
    "                for grid_channel in grid_channels:\n",
    "                    for grid_dropout in grid_dropouts:\n",
    "                        for grid_activation in grid_activations:\n",
    "                            # For every possible combination of hyperparameters...\n",
    "                            grid_model = CNNMnistNet(10, grid_channel, activation = grid_activation, dropout=grid_dropout)\n",
    "                            grid_val_loss = grid_model.fit(train_dataloader, grid_epochs, 5, grid_loss, 0, grid_lr, \n",
    "                                                           reg_term = grid_reg)\n",
    "\n",
    "                            if grid_val_loss < best_val_loss:\n",
    "                                best_val_loss = grid_val_loss\n",
    "\n",
    "                                # Save the best combination of the hyperparameters in a dictionary\n",
    "                                # so we can inspect the best model later\n",
    "                                best_config = {\n",
    "                                  \"lr\":            grid_lr,\n",
    "                                  \"loss\":          grid_loss,\n",
    "                                  \"reg\":           grid_reg,\n",
    "                                  \"channels\":      grid_channel,\n",
    "                                  \"dropout\":       grid_dropout,\n",
    "                                  \"activation\":    grid_activation}\n",
    "\n",
    "                                if True: # Set to False, too much useless information displayed\n",
    "                                    print('---------------------')\n",
    "                                    print('Configuration', i)\n",
    "                                    print(' Validation loss: ', grid_val_loss)\n",
    "                                    print(' Lr =           ', grid_lr)\n",
    "                                    print(' Loss =         ', grid_loss)\n",
    "                                    print(' Reg =          ', grid_reg)\n",
    "                                    print(' Channels =     ', grid_channel)\n",
    "                                    print(' dropout =      ', grid_dropout)\n",
    "                                    print(' activation =   ', grid_activation)\n",
    "                                    print('')\n",
    "\n",
    "                            i = i + 1\n",
    "                            print('Iteration:',i)\n",
    "                            \n",
    "    print('Best model found: ')\n",
    "    print(best_config)                            \n",
    "    best_model = CNNMnistNet(10, best_config['channels'], activation = best_config['activation'], dropout=best_config['dropout'])\n",
    "    best_model.fit(train_dataloader, 100, 5, best_config['loss'], 0, best_config['lr'], reg_term = best_config['reg'], test=True, figname='bestmodel_losses')\n",
    "\n",
    "    best_model.compute_accuracy(heatmap='best_classificator_grid', verbose=True)\n",
    "    best_model.save()\n",
    "    "
   ]
  },
  {
   "cell_type": "markdown",
   "id": "a3c56d1c-bc54-4e2d-9e28-c6402b416071",
   "metadata": {},
   "source": [
    "### Filter visualization"
   ]
  },
  {
   "cell_type": "code",
   "execution_count": 14,
   "id": "fc0ef793-0597-49b3-928f-dd553fe62eaf",
   "metadata": {},
   "outputs": [
    {
     "data": {
      "image/png": "[encoded data removed]",
      "text/plain": [
       "<Figure size 1152x216 with 6 Axes>"
      ]
     },
     "metadata": {
      "needs_background": "light"
     },
     "output_type": "display_data"
    },
    {
     "data": {
      "image/png": "[encoded data removed]",
      "text/plain": [
       "<Figure size 1152x504 with 72 Axes>"
      ]
     },
     "metadata": {
      "needs_background": "light"
     },
     "output_type": "display_data"
    }
   ],
   "source": [
    "best_model.plot_filters(figname='trained')"
   ]
  },
  {
   "cell_type": "code",
   "execution_count": 15,
   "id": "c3f2c48b-8679-4743-836e-6e3ff8fa6b06",
   "metadata": {},
   "outputs": [
    {
     "data": {
      "image/png": "[encoded data removed]",
      "text/plain": [
       "<Figure size 1152x216 with 6 Axes>"
      ]
     },
     "metadata": {
      "needs_background": "light"
     },
     "output_type": "display_data"
    },
    {
     "data": {
      "image/png": "[encoded data removed]",
      "text/plain": [
       "<Figure size 1152x504 with 72 Axes>"
      ]
     },
     "metadata": {
      "needs_background": "light"
     },
     "output_type": "display_data"
    }
   ],
   "source": [
    "untrained_net = CNNMnistNet(10, [6,12], activation = nn.ReLU(), dropout=0)\n",
    "untrained_net.plot_filters(figname='untrained')"
   ]
  },
  {
   "cell_type": "markdown",
   "id": "07028211-e2aa-41a3-8573-6ea8205a12cc",
   "metadata": {
    "tags": []
   },
   "source": [
    "### Activation layer"
   ]
  },
  {
   "cell_type": "code",
   "execution_count": 16,
   "id": "b4bf888d-ecf3-4985-9b95-b4bde73236f6",
   "metadata": {},
   "outputs": [
    {
     "data": {
      "image/png": "[encoded data removed]",
      "text/plain": [
       "<Figure size 1152x216 with 6 Axes>"
      ]
     },
     "metadata": {
      "needs_background": "light"
     },
     "output_type": "display_data"
    },
    {
     "data": {
      "image/png": "[encoded data removed]",
      "text/plain": [
       "<Figure size 1152x432 with 12 Axes>"
      ]
     },
     "metadata": {
      "needs_background": "light"
     },
     "output_type": "display_data"
    }
   ],
   "source": [
    "best_model.plot_activations(figname='trained')\n"
   ]
  },
  {
   "cell_type": "code",
   "execution_count": 17,
   "id": "88b36037-6b7d-4ad3-9bf6-d5906821f7e9",
   "metadata": {},
   "outputs": [
    {
     "data": {
      "image/png": "[encoded data removed]",
      "text/plain": [
       "<Figure size 1152x216 with 6 Axes>"
      ]
     },
     "metadata": {
      "needs_background": "light"
     },
     "output_type": "display_data"
    },
    {
     "data": {
      "image/png": "[encoded data removed]",
      "text/plain": [
       "<Figure size 1152x432 with 12 Axes>"
      ]
     },
     "metadata": {
      "needs_background": "light"
     },
     "output_type": "display_data"
    }
   ],
   "source": [
    "untrained_net.to(device).plot_activations(figname='untrained')"
   ]
  },
  {
   "cell_type": "markdown",
   "id": "09434187-d318-4c27-b9b3-35041e87dd4e",
   "metadata": {},
   "source": [
    "## Appendix"
   ]
  },
  {
   "cell_type": "markdown",
   "id": "cd5a8e87-c90e-4149-b450-3014f5021fb3",
   "metadata": {},
   "source": [
    "### Data Augmentation"
   ]
  },
  {
   "cell_type": "code",
   "execution_count": 18,
   "id": "b1a7ff81-1f0f-4704-8777-65d640f92d6b",
   "metadata": {},
   "outputs": [],
   "source": [
    "augmentation = transforms.Compose(\n",
    "                    [transforms.ToTensor(),\n",
    "                     transforms.RandomVerticalFlip(p=0.5),\n",
    "                     transforms.RandomCrop(28,padding=2)])\n"
   ]
  },
  {
   "cell_type": "code",
   "execution_count": 19,
   "id": "fb7b1f18-1193-4ecd-a65b-3249afbe2158",
   "metadata": {},
   "outputs": [],
   "source": [
    "aug_train_dataset = torchvision.datasets.FashionMNIST('classifier_data', train=True, download=False,\n",
    "                                                     transform = augmentation )\n",
    "\n",
    "aug_train_dataloader = DataLoader(aug_train_dataset, batch_size = 100, shuffle=True, num_workers=0)\n"
   ]
  },
  {
   "cell_type": "code",
   "execution_count": 20,
   "id": "6af5d451-3976-45cf-b2ad-1635bdf69f42",
   "metadata": {
    "tags": []
   },
   "outputs": [
    {
     "data": {
      "image/png": "[encoded data removed]",
      "text/plain": [
       "<Figure size 288x432 with 2 Axes>"
      ]
     },
     "metadata": {
      "needs_background": "light"
     },
     "output_type": "display_data"
    },
    {
     "name": "stdout",
     "output_type": "stream",
     "text": [
      "Accuracy: 87.55 %\n"
     ]
    },
    {
     "data": {
      "image/png": "[encoded data removed]",
      "text/plain": [
       "<Figure size 432x360 with 2 Axes>"
      ]
     },
     "metadata": {
      "needs_background": "light"
     },
     "output_type": "display_data"
    }
   ],
   "source": [
    "if not load:\n",
    "    aug_model = CNNMnistNet(10, best_config['channels'], activation = best_config['activation'], dropout=best_config['dropout'])\n",
    "    aug_model.fit(aug_train_dataloader, 100, 5, best_config['loss'], 0, best_config['lr'], reg_term = best_config['reg'], test=True)\n",
    "\n",
    "    aug_model.compute_accuracy(heatmap=True, verbose=True)\n"
   ]
  },
  {
   "cell_type": "markdown",
   "id": "44647521-e372-4287-b228-a988ff3433f3",
   "metadata": {
    "tags": []
   },
   "source": [
    "### Transfer learning, intentional overkill"
   ]
  },
  {
   "cell_type": "code",
   "execution_count": 21,
   "id": "fe1eb526-c234-4a99-9522-aaa0d069234d",
   "metadata": {},
   "outputs": [],
   "source": [
    "class fashion_resnet(nn.Module):\n",
    "    '''\n",
    "    Modified pre-trained Resnet50\n",
    "    '''\n",
    "    def __init__(self):\n",
    "        super(fashion_resnet, self).__init__()\n",
    "\n",
    "        # Load a pretrained resnet model\n",
    "        self.model = torchvision.models.resnet50(pretrained=True)\n",
    "\n",
    "        # We are dealing with grayscale images, hence input parameters of Conv2d must be 1\n",
    "        self.model.conv1 = nn.Conv2d(1, 64, kernel_size=7, stride=2, padding=3, bias=False)\n",
    "    \n",
    "        # Change the output layer to output 10 classes instead of 1000 classes\n",
    "        num_ftrs = self.model.fc.in_features\n",
    "        self.model.fc = nn.Sequential(nn.Linear(num_ftrs, 256),\n",
    "                                      nn.ReLU(True),\n",
    "                                      nn.Dropout(.02),\n",
    "                                      nn.Linear(256,256),\n",
    "                                      nn.ReLU(True),\n",
    "                                      nn.Linear(256,10))\n",
    "                                      \n",
    "\n",
    "    def forward(self, x):\n",
    "        return self.model(x)\n",
    "    \n",
    "    def compute_accuracy(self, heatmap = False, verbose = False, examples=False):\n",
    "        '''\n",
    "        Compute accuracy of the model (%) from the testset\n",
    "        heatmap  = True shows heatmap\n",
    "        verbose  = True prints accuracy\n",
    "        examples = True display some examples\n",
    "        '''\n",
    "        self.to('cpu')\n",
    "        self.eval()\n",
    "        # Input and true label\n",
    "        x_test,y_test = next(iter(test_dataloader))\n",
    "        # Prediction\n",
    "        y_pred = self(x_test).argmax(dim=1)\n",
    "        \n",
    "        description = ['T-shirt/top','Trouser','Pullover',\n",
    "                   'Dress','Coat','Sandal','Shirt',\n",
    "                   'Sneaker','Bag','Ankle boot']\n",
    "        \n",
    "        misclas = 0\n",
    "        for i in range(len(y_pred) ):\n",
    "            if y_pred[i] != y_test[i]:\n",
    "                misclas = misclas + 1\n",
    "        \n",
    "        accuracy = 100*(len(y_pred) - misclas)/len(y_pred)\n",
    "        \n",
    "        if verbose:\n",
    "            print('Accuracy:', accuracy, '%' )\n",
    "            \n",
    "        if heatmap:\n",
    "            conf_mat = confusion_matrix(y_test, y_pred.cpu())\n",
    "            fig, ax = plt.subplots(figsize=(10,8))\n",
    "            plt.title('Heatmap')\n",
    "            sns.heatmap(conf_mat, annot=True, fmt='d',xticklabels=description, yticklabels=description)\n",
    "            plt.ylabel('Actual')\n",
    "            plt.xlabel('Predicted')\n",
    "            \n",
    "            if type(heatmap) is str:\n",
    "                plt.savefig('./imgs/classification/'+heatmap+'.svg', format='svg')\n",
    "            else:\n",
    "                plt.show()\n",
    "            \n",
    "        if examples:\n",
    "            indices = np.random.choice(np.arange(len(test_dataloader.dataset) ), size=5, replace=False)\n",
    "            \n",
    "            for index in indices:\n",
    "                image = np.array(x_test[index][0])\n",
    "                label = y_test[index]\n",
    "\n",
    "                fig = plt.figure(figsize=(3,3))\n",
    "                plt.imshow(image, cmap='Greys')\n",
    "    \n",
    "                print(f\"\\n\\nTrue Label: {description[label]}\")\n",
    "                print(f\"Prediction: {description[y_pred[index]]}\")\n",
    "    \n",
    "                plt.axis(\"off\")\n",
    "                plt.show()\n",
    "            \n",
    "        return accuracy\n",
    "    \n",
    "    def train_epoch(self, device, progress, loss_fn, optimizer, total_loss):\n",
    "        '''\n",
    "        Train the network for a single step\n",
    "        '''\n",
    "        self.train()\n",
    "        \n",
    "        # For each batch\n",
    "        for i, data in progress:\n",
    "            X, y = data[0].to(device), data[1].to(device) # X input, y label\n",
    "            \n",
    "            # training step for single batch\n",
    "            self.zero_grad()\n",
    "            pred = self(X)\n",
    "            loss = loss_fn(pred, y)\n",
    "            loss.backward()\n",
    "            optimizer.step()\n",
    "\n",
    "            # getting training quality data\n",
    "            current_loss = loss.item() # Extract loss value as float\n",
    "            total_loss += current_loss\n",
    "\n",
    "            # updating progress bar\n",
    "            progress.set_description(\"Loss: {:.4f}\".format(total_loss/(i+1)))\n",
    "        \n",
    "        # releasing unceseccary memory in GPU\n",
    "        if torch.cuda.is_available():\n",
    "            torch.cuda.empty_cache()\n",
    "        \n",
    "        return optimizer, total_loss\n",
    "    \n",
    "    def val_epoch(self, device, progress, loss_fn, optimizer, total_loss):\n",
    "        # set model to evaluating (testing)\n",
    "        self.eval()\n",
    "        misclas = 0\n",
    "        val_losses = 0\n",
    "        with torch.no_grad():\n",
    "            for i, data in enumerate(test_dataloader):\n",
    "                X, y = data[0].to(device), data[1].to(device)\n",
    "\n",
    "                pred = self(X) # this get's the prediction from the network\n",
    "\n",
    "                val_losses += loss_fn(pred, y)\n",
    "            \n",
    "        return total_loss\n",
    "                \n",
    "    \n",
    "    def trainingloop(self, epochs, loss_fn = nn.CrossEntropyLoss(), lr0=1e-3):\n",
    "        # Eventually move model to GPU\n",
    "        self.to(device)\n",
    "        \n",
    "        # Define optimizer\n",
    "        optimizer = torch.optim.Adam(self.parameters(), lr=lr0)\n",
    "        \n",
    "        batches = len(train_dataloader)\n",
    "        val_batches = len(test_dataloader)\n",
    "        \n",
    "        losses = []\n",
    "        for epoch in range(epochs):\n",
    "            total_loss = 0\n",
    "            progress = tqdm(enumerate(train_dataloader), desc=\"Loss: \", total=batches)\n",
    "            \n",
    "            # ----------------- TRAINING  --------------------\n",
    "            optimizer, total_loss = self.train_epoch(device, progress, loss_fn, optimizer, total_loss)\n",
    "            \n",
    "            # ----------------- VALIDATION  ----------------- \n",
    "            total_loss = self.val_epoch(device, progress, loss_fn, optimizer, total_loss)\n",
    "            \n",
    "            losses.append(total_loss/batches) # for plotting learning curve\n",
    "            \n",
    "        return losses\n",
    "            \n",
    "    def save(self, file=False):\n",
    "        '''\n",
    "        Just save the model in ./models folder.\n",
    "        if file = False it overwrites ./models/resnet.pth. else it saves it on the name specified\n",
    "        '''\n",
    "        if file:\n",
    "            torch.save(self.state_dict(), './models/'+str(file))\n",
    "        else:\n",
    "            torch.save(self.state_dict(), './models/resnet.pth')"
   ]
  },
  {
   "cell_type": "code",
   "execution_count": 22,
   "id": "c75521d5-7628-4b42-a969-9df593d396ae",
   "metadata": {},
   "outputs": [],
   "source": [
    "tmodel = fashion_resnet()\n"
   ]
  },
  {
   "cell_type": "code",
   "execution_count": 23,
   "id": "02b02496-b9ef-49cc-b527-ec5310e00f32",
   "metadata": {},
   "outputs": [
    {
     "data": {
      "application/vnd.jupyter.widget-view+json": {
       "model_id": "8e285ef55d1f42cd9f7ee38f7380bf97",
       "version_major": 2,
       "version_minor": 0
      },
      "text/plain": [
       "Loss:   0%|          | 0/600 [00:00<?, ?it/s]"
      ]
     },
     "metadata": {},
     "output_type": "display_data"
    },
    {
     "data": {
      "application/vnd.jupyter.widget-view+json": {
       "model_id": "35e43c34e5f84480977bb2b7cc33f4f8",
       "version_major": 2,
       "version_minor": 0
      },
      "text/plain": [
       "Loss:   0%|          | 0/600 [00:00<?, ?it/s]"
      ]
     },
     "metadata": {},
     "output_type": "display_data"
    },
    {
     "data": {
      "application/vnd.jupyter.widget-view+json": {
       "model_id": "5d26d443fed947809c1406c5e6cc8c44",
       "version_major": 2,
       "version_minor": 0
      },
      "text/plain": [
       "Loss:   0%|          | 0/600 [00:00<?, ?it/s]"
      ]
     },
     "metadata": {},
     "output_type": "display_data"
    },
    {
     "data": {
      "application/vnd.jupyter.widget-view+json": {
       "model_id": "fc5433df1172494aabd3eaa81b94e8a8",
       "version_major": 2,
       "version_minor": 0
      },
      "text/plain": [
       "Loss:   0%|          | 0/600 [00:00<?, ?it/s]"
      ]
     },
     "metadata": {},
     "output_type": "display_data"
    },
    {
     "data": {
      "application/vnd.jupyter.widget-view+json": {
       "model_id": "8d205c7e67d9403583f4d137f5d8a107",
       "version_major": 2,
       "version_minor": 0
      },
      "text/plain": [
       "Loss:   0%|          | 0/600 [00:00<?, ?it/s]"
      ]
     },
     "metadata": {},
     "output_type": "display_data"
    },
    {
     "data": {
      "application/vnd.jupyter.widget-view+json": {
       "model_id": "b3f783d314a34c78bb109c33676b6dd5",
       "version_major": 2,
       "version_minor": 0
      },
      "text/plain": [
       "Loss:   0%|          | 0/600 [00:00<?, ?it/s]"
      ]
     },
     "metadata": {},
     "output_type": "display_data"
    },
    {
     "data": {
      "application/vnd.jupyter.widget-view+json": {
       "model_id": "fb0521adbc2e4a52b11f65da3d17de1a",
       "version_major": 2,
       "version_minor": 0
      },
      "text/plain": [
       "Loss:   0%|          | 0/600 [00:00<?, ?it/s]"
      ]
     },
     "metadata": {},
     "output_type": "display_data"
    },
    {
     "data": {
      "application/vnd.jupyter.widget-view+json": {
       "model_id": "d56e0aaf858a44d7848537f967eb8323",
       "version_major": 2,
       "version_minor": 0
      },
      "text/plain": [
       "Loss:   0%|          | 0/600 [00:00<?, ?it/s]"
      ]
     },
     "metadata": {},
     "output_type": "display_data"
    },
    {
     "data": {
      "application/vnd.jupyter.widget-view+json": {
       "model_id": "95c3752e835f4f9cb0094c0108fea3cd",
       "version_major": 2,
       "version_minor": 0
      },
      "text/plain": [
       "Loss:   0%|          | 0/600 [00:00<?, ?it/s]"
      ]
     },
     "metadata": {},
     "output_type": "display_data"
    },
    {
     "data": {
      "application/vnd.jupyter.widget-view+json": {
       "model_id": "90d1619274a044f49e58aaf1516260e7",
       "version_major": 2,
       "version_minor": 0
      },
      "text/plain": [
       "Loss:   0%|          | 0/600 [00:00<?, ?it/s]"
      ]
     },
     "metadata": {},
     "output_type": "display_data"
    },
    {
     "data": {
      "application/vnd.jupyter.widget-view+json": {
       "model_id": "5e5015e1a05d4d328f5a1ebf1fa50313",
       "version_major": 2,
       "version_minor": 0
      },
      "text/plain": [
       "Loss:   0%|          | 0/600 [00:00<?, ?it/s]"
      ]
     },
     "metadata": {},
     "output_type": "display_data"
    },
    {
     "data": {
      "application/vnd.jupyter.widget-view+json": {
       "model_id": "7e1f3e6a2c394b1d90b92f69326811be",
       "version_major": 2,
       "version_minor": 0
      },
      "text/plain": [
       "Loss:   0%|          | 0/600 [00:00<?, ?it/s]"
      ]
     },
     "metadata": {},
     "output_type": "display_data"
    },
    {
     "data": {
      "application/vnd.jupyter.widget-view+json": {
       "model_id": "5c0e7c070f704bc988a0d706265cd348",
       "version_major": 2,
       "version_minor": 0
      },
      "text/plain": [
       "Loss:   0%|          | 0/600 [00:00<?, ?it/s]"
      ]
     },
     "metadata": {},
     "output_type": "display_data"
    },
    {
     "data": {
      "application/vnd.jupyter.widget-view+json": {
       "model_id": "fa966dc234db41298088a36a714a96b0",
       "version_major": 2,
       "version_minor": 0
      },
      "text/plain": [
       "Loss:   0%|          | 0/600 [00:00<?, ?it/s]"
      ]
     },
     "metadata": {},
     "output_type": "display_data"
    },
    {
     "data": {
      "application/vnd.jupyter.widget-view+json": {
       "model_id": "49749f3a5ab8480c84ab85e5e0ba95fe",
       "version_major": 2,
       "version_minor": 0
      },
      "text/plain": [
       "Loss:   0%|          | 0/600 [00:00<?, ?it/s]"
      ]
     },
     "metadata": {},
     "output_type": "display_data"
    },
    {
     "data": {
      "application/vnd.jupyter.widget-view+json": {
       "model_id": "8b671c4a0f6c4c01b67ecbd1b214a2ac",
       "version_major": 2,
       "version_minor": 0
      },
      "text/plain": [
       "Loss:   0%|          | 0/600 [00:00<?, ?it/s]"
      ]
     },
     "metadata": {},
     "output_type": "display_data"
    },
    {
     "data": {
      "application/vnd.jupyter.widget-view+json": {
       "model_id": "1357ecbdacb84999907d5a171f7b6adf",
       "version_major": 2,
       "version_minor": 0
      },
      "text/plain": [
       "Loss:   0%|          | 0/600 [00:00<?, ?it/s]"
      ]
     },
     "metadata": {},
     "output_type": "display_data"
    },
    {
     "data": {
      "application/vnd.jupyter.widget-view+json": {
       "model_id": "9e272838c6a94e589127adb8184832e5",
       "version_major": 2,
       "version_minor": 0
      },
      "text/plain": [
       "Loss:   0%|          | 0/600 [00:00<?, ?it/s]"
      ]
     },
     "metadata": {},
     "output_type": "display_data"
    },
    {
     "data": {
      "application/vnd.jupyter.widget-view+json": {
       "model_id": "2368ddc57da14ac0b77571020e33b83d",
       "version_major": 2,
       "version_minor": 0
      },
      "text/plain": [
       "Loss:   0%|          | 0/600 [00:00<?, ?it/s]"
      ]
     },
     "metadata": {},
     "output_type": "display_data"
    },
    {
     "data": {
      "application/vnd.jupyter.widget-view+json": {
       "model_id": "39146271b7f84355b3cd4133e8a40a66",
       "version_major": 2,
       "version_minor": 0
      },
      "text/plain": [
       "Loss:   0%|          | 0/600 [00:00<?, ?it/s]"
      ]
     },
     "metadata": {},
     "output_type": "display_data"
    },
    {
     "data": {
      "application/vnd.jupyter.widget-view+json": {
       "model_id": "55af93cb7a624e8eaadbfdda75258776",
       "version_major": 2,
       "version_minor": 0
      },
      "text/plain": [
       "Loss:   0%|          | 0/600 [00:00<?, ?it/s]"
      ]
     },
     "metadata": {},
     "output_type": "display_data"
    },
    {
     "data": {
      "application/vnd.jupyter.widget-view+json": {
       "model_id": "d746b71dd0094c8f93b71a11f78bdc6b",
       "version_major": 2,
       "version_minor": 0
      },
      "text/plain": [
       "Loss:   0%|          | 0/600 [00:00<?, ?it/s]"
      ]
     },
     "metadata": {},
     "output_type": "display_data"
    },
    {
     "data": {
      "application/vnd.jupyter.widget-view+json": {
       "model_id": "c1e890f82fa34aefa13ed55b105ad899",
       "version_major": 2,
       "version_minor": 0
      },
      "text/plain": [
       "Loss:   0%|          | 0/600 [00:00<?, ?it/s]"
      ]
     },
     "metadata": {},
     "output_type": "display_data"
    },
    {
     "data": {
      "application/vnd.jupyter.widget-view+json": {
       "model_id": "94d09c440e4145c4af0fa9aa0b275eac",
       "version_major": 2,
       "version_minor": 0
      },
      "text/plain": [
       "Loss:   0%|          | 0/600 [00:00<?, ?it/s]"
      ]
     },
     "metadata": {},
     "output_type": "display_data"
    },
    {
     "data": {
      "application/vnd.jupyter.widget-view+json": {
       "model_id": "4f2f1e42f6a64dcdbe02074d9105bc9c",
       "version_major": 2,
       "version_minor": 0
      },
      "text/plain": [
       "Loss:   0%|          | 0/600 [00:00<?, ?it/s]"
      ]
     },
     "metadata": {},
     "output_type": "display_data"
    },
    {
     "data": {
      "application/vnd.jupyter.widget-view+json": {
       "model_id": "fe9de1676982450298a06fa0dc8818ec",
       "version_major": 2,
       "version_minor": 0
      },
      "text/plain": [
       "Loss:   0%|          | 0/600 [00:00<?, ?it/s]"
      ]
     },
     "metadata": {},
     "output_type": "display_data"
    },
    {
     "data": {
      "application/vnd.jupyter.widget-view+json": {
       "model_id": "d811427634304268a9953d52be3b2546",
       "version_major": 2,
       "version_minor": 0
      },
      "text/plain": [
       "Loss:   0%|          | 0/600 [00:00<?, ?it/s]"
      ]
     },
     "metadata": {},
     "output_type": "display_data"
    },
    {
     "data": {
      "application/vnd.jupyter.widget-view+json": {
       "model_id": "0caefd005f9c4ac1853120f04f51b4ab",
       "version_major": 2,
       "version_minor": 0
      },
      "text/plain": [
       "Loss:   0%|          | 0/600 [00:00<?, ?it/s]"
      ]
     },
     "metadata": {},
     "output_type": "display_data"
    },
    {
     "data": {
      "application/vnd.jupyter.widget-view+json": {
       "model_id": "788ee4719f1d4e8daf86d755879eb153",
       "version_major": 2,
       "version_minor": 0
      },
      "text/plain": [
       "Loss:   0%|          | 0/600 [00:00<?, ?it/s]"
      ]
     },
     "metadata": {},
     "output_type": "display_data"
    },
    {
     "data": {
      "application/vnd.jupyter.widget-view+json": {
       "model_id": "dcbd7fa9534f4b8bbc03c99b57dfdf20",
       "version_major": 2,
       "version_minor": 0
      },
      "text/plain": [
       "Loss:   0%|          | 0/600 [00:00<?, ?it/s]"
      ]
     },
     "metadata": {},
     "output_type": "display_data"
    },
    {
     "data": {
      "application/vnd.jupyter.widget-view+json": {
       "model_id": "ea23f2aaf9ec42a2ac6cdb6496be157f",
       "version_major": 2,
       "version_minor": 0
      },
      "text/plain": [
       "Loss:   0%|          | 0/600 [00:00<?, ?it/s]"
      ]
     },
     "metadata": {},
     "output_type": "display_data"
    },
    {
     "data": {
      "application/vnd.jupyter.widget-view+json": {
       "model_id": "7464a4b09e2444848ccbe4d1d39c4a5b",
       "version_major": 2,
       "version_minor": 0
      },
      "text/plain": [
       "Loss:   0%|          | 0/600 [00:00<?, ?it/s]"
      ]
     },
     "metadata": {},
     "output_type": "display_data"
    },
    {
     "data": {
      "application/vnd.jupyter.widget-view+json": {
       "model_id": "6dd6b8490a714c389ca91715c24df496",
       "version_major": 2,
       "version_minor": 0
      },
      "text/plain": [
       "Loss:   0%|          | 0/600 [00:00<?, ?it/s]"
      ]
     },
     "metadata": {},
     "output_type": "display_data"
    },
    {
     "data": {
      "application/vnd.jupyter.widget-view+json": {
       "model_id": "bb974403a59d4e84acbbd8fca44fc826",
       "version_major": 2,
       "version_minor": 0
      },
      "text/plain": [
       "Loss:   0%|          | 0/600 [00:00<?, ?it/s]"
      ]
     },
     "metadata": {},
     "output_type": "display_data"
    },
    {
     "data": {
      "application/vnd.jupyter.widget-view+json": {
       "model_id": "83d3af3ed9634c35bdad302ab2e5dfdb",
       "version_major": 2,
       "version_minor": 0
      },
      "text/plain": [
       "Loss:   0%|          | 0/600 [00:00<?, ?it/s]"
      ]
     },
     "metadata": {},
     "output_type": "display_data"
    },
    {
     "data": {
      "application/vnd.jupyter.widget-view+json": {
       "model_id": "1d4de77a633f4d7faf247b3061d7b545",
       "version_major": 2,
       "version_minor": 0
      },
      "text/plain": [
       "Loss:   0%|          | 0/600 [00:00<?, ?it/s]"
      ]
     },
     "metadata": {},
     "output_type": "display_data"
    },
    {
     "data": {
      "application/vnd.jupyter.widget-view+json": {
       "model_id": "b4beab03f9dc4d898e032065627e0f57",
       "version_major": 2,
       "version_minor": 0
      },
      "text/plain": [
       "Loss:   0%|          | 0/600 [00:00<?, ?it/s]"
      ]
     },
     "metadata": {},
     "output_type": "display_data"
    },
    {
     "data": {
      "application/vnd.jupyter.widget-view+json": {
       "model_id": "73ab0695a38b4150b04d94934b0a35df",
       "version_major": 2,
       "version_minor": 0
      },
      "text/plain": [
       "Loss:   0%|          | 0/600 [00:00<?, ?it/s]"
      ]
     },
     "metadata": {},
     "output_type": "display_data"
    },
    {
     "data": {
      "application/vnd.jupyter.widget-view+json": {
       "model_id": "86d4f9b31def46fe8025cc3b46524f76",
       "version_major": 2,
       "version_minor": 0
      },
      "text/plain": [
       "Loss:   0%|          | 0/600 [00:00<?, ?it/s]"
      ]
     },
     "metadata": {},
     "output_type": "display_data"
    },
    {
     "data": {
      "application/vnd.jupyter.widget-view+json": {
       "model_id": "ac6aae878bdb4150b8ce5ff6ef3214dd",
       "version_major": 2,
       "version_minor": 0
      },
      "text/plain": [
       "Loss:   0%|          | 0/600 [00:00<?, ?it/s]"
      ]
     },
     "metadata": {},
     "output_type": "display_data"
    },
    {
     "data": {
      "application/vnd.jupyter.widget-view+json": {
       "model_id": "96bfddc4e94547139b64697eccf1e246",
       "version_major": 2,
       "version_minor": 0
      },
      "text/plain": [
       "Loss:   0%|          | 0/600 [00:00<?, ?it/s]"
      ]
     },
     "metadata": {},
     "output_type": "display_data"
    },
    {
     "data": {
      "application/vnd.jupyter.widget-view+json": {
       "model_id": "158a99e540a34acd9ce87c54de9366cf",
       "version_major": 2,
       "version_minor": 0
      },
      "text/plain": [
       "Loss:   0%|          | 0/600 [00:00<?, ?it/s]"
      ]
     },
     "metadata": {},
     "output_type": "display_data"
    },
    {
     "data": {
      "application/vnd.jupyter.widget-view+json": {
       "model_id": "5292a75ac5b947ee854f0d4fdd109982",
       "version_major": 2,
       "version_minor": 0
      },
      "text/plain": [
       "Loss:   0%|          | 0/600 [00:00<?, ?it/s]"
      ]
     },
     "metadata": {},
     "output_type": "display_data"
    },
    {
     "data": {
      "application/vnd.jupyter.widget-view+json": {
       "model_id": "083561b71c154a5c9464eb5e570b8a20",
       "version_major": 2,
       "version_minor": 0
      },
      "text/plain": [
       "Loss:   0%|          | 0/600 [00:00<?, ?it/s]"
      ]
     },
     "metadata": {},
     "output_type": "display_data"
    },
    {
     "data": {
      "application/vnd.jupyter.widget-view+json": {
       "model_id": "7f26bef0f3ad4723926a7ee21488c426",
       "version_major": 2,
       "version_minor": 0
      },
      "text/plain": [
       "Loss:   0%|          | 0/600 [00:00<?, ?it/s]"
      ]
     },
     "metadata": {},
     "output_type": "display_data"
    },
    {
     "data": {
      "application/vnd.jupyter.widget-view+json": {
       "model_id": "853821812fbe476590c9dac6cf7252f9",
       "version_major": 2,
       "version_minor": 0
      },
      "text/plain": [
       "Loss:   0%|          | 0/600 [00:00<?, ?it/s]"
      ]
     },
     "metadata": {},
     "output_type": "display_data"
    },
    {
     "data": {
      "application/vnd.jupyter.widget-view+json": {
       "model_id": "438f6f8c5bc44394bb775b2c357c567e",
       "version_major": 2,
       "version_minor": 0
      },
      "text/plain": [
       "Loss:   0%|          | 0/600 [00:00<?, ?it/s]"
      ]
     },
     "metadata": {},
     "output_type": "display_data"
    },
    {
     "data": {
      "application/vnd.jupyter.widget-view+json": {
       "model_id": "cba32640f9174bb994dd20df3362fd49",
       "version_major": 2,
       "version_minor": 0
      },
      "text/plain": [
       "Loss:   0%|          | 0/600 [00:00<?, ?it/s]"
      ]
     },
     "metadata": {},
     "output_type": "display_data"
    },
    {
     "data": {
      "application/vnd.jupyter.widget-view+json": {
       "model_id": "3d64405680fd445cade9548842c95932",
       "version_major": 2,
       "version_minor": 0
      },
      "text/plain": [
       "Loss:   0%|          | 0/600 [00:00<?, ?it/s]"
      ]
     },
     "metadata": {},
     "output_type": "display_data"
    },
    {
     "data": {
      "application/vnd.jupyter.widget-view+json": {
       "model_id": "ae71e339c7bf467a8e0694784abc6581",
       "version_major": 2,
       "version_minor": 0
      },
      "text/plain": [
       "Loss:   0%|          | 0/600 [00:00<?, ?it/s]"
      ]
     },
     "metadata": {},
     "output_type": "display_data"
    },
    {
     "data": {
      "application/vnd.jupyter.widget-view+json": {
       "model_id": "cffdce2183a444b1bdfa40f1f2f4c965",
       "version_major": 2,
       "version_minor": 0
      },
      "text/plain": [
       "Loss:   0%|          | 0/600 [00:00<?, ?it/s]"
      ]
     },
     "metadata": {},
     "output_type": "display_data"
    },
    {
     "data": {
      "application/vnd.jupyter.widget-view+json": {
       "model_id": "d507bb4a155749b19bc5ef03fb9b2d3e",
       "version_major": 2,
       "version_minor": 0
      },
      "text/plain": [
       "Loss:   0%|          | 0/600 [00:00<?, ?it/s]"
      ]
     },
     "metadata": {},
     "output_type": "display_data"
    },
    {
     "data": {
      "application/vnd.jupyter.widget-view+json": {
       "model_id": "34a77f08d71342a8a024bc86193288e9",
       "version_major": 2,
       "version_minor": 0
      },
      "text/plain": [
       "Loss:   0%|          | 0/600 [00:00<?, ?it/s]"
      ]
     },
     "metadata": {},
     "output_type": "display_data"
    },
    {
     "data": {
      "application/vnd.jupyter.widget-view+json": {
       "model_id": "1a58724a58c547e08215b6ac98f63fa0",
       "version_major": 2,
       "version_minor": 0
      },
      "text/plain": [
       "Loss:   0%|          | 0/600 [00:00<?, ?it/s]"
      ]
     },
     "metadata": {},
     "output_type": "display_data"
    },
    {
     "data": {
      "application/vnd.jupyter.widget-view+json": {
       "model_id": "3f0996c787b048078f7af151864247bd",
       "version_major": 2,
       "version_minor": 0
      },
      "text/plain": [
       "Loss:   0%|          | 0/600 [00:00<?, ?it/s]"
      ]
     },
     "metadata": {},
     "output_type": "display_data"
    },
    {
     "data": {
      "application/vnd.jupyter.widget-view+json": {
       "model_id": "e9d1afce107240ceb99300a5d298ec24",
       "version_major": 2,
       "version_minor": 0
      },
      "text/plain": [
       "Loss:   0%|          | 0/600 [00:00<?, ?it/s]"
      ]
     },
     "metadata": {},
     "output_type": "display_data"
    },
    {
     "data": {
      "application/vnd.jupyter.widget-view+json": {
       "model_id": "9961f1eac7e54400902800489fe5e821",
       "version_major": 2,
       "version_minor": 0
      },
      "text/plain": [
       "Loss:   0%|          | 0/600 [00:00<?, ?it/s]"
      ]
     },
     "metadata": {},
     "output_type": "display_data"
    },
    {
     "data": {
      "application/vnd.jupyter.widget-view+json": {
       "model_id": "d9216beb33204dd88497a5038c79e4ef",
       "version_major": 2,
       "version_minor": 0
      },
      "text/plain": [
       "Loss:   0%|          | 0/600 [00:00<?, ?it/s]"
      ]
     },
     "metadata": {},
     "output_type": "display_data"
    },
    {
     "data": {
      "application/vnd.jupyter.widget-view+json": {
       "model_id": "038bbe7bc5364e98b489559f71e611a1",
       "version_major": 2,
       "version_minor": 0
      },
      "text/plain": [
       "Loss:   0%|          | 0/600 [00:00<?, ?it/s]"
      ]
     },
     "metadata": {},
     "output_type": "display_data"
    },
    {
     "data": {
      "application/vnd.jupyter.widget-view+json": {
       "model_id": "41d687cede664f1caa47d63182c7c032",
       "version_major": 2,
       "version_minor": 0
      },
      "text/plain": [
       "Loss:   0%|          | 0/600 [00:00<?, ?it/s]"
      ]
     },
     "metadata": {},
     "output_type": "display_data"
    },
    {
     "data": {
      "application/vnd.jupyter.widget-view+json": {
       "model_id": "e1603981e0c74828b64219ffbe6edf73",
       "version_major": 2,
       "version_minor": 0
      },
      "text/plain": [
       "Loss:   0%|          | 0/600 [00:00<?, ?it/s]"
      ]
     },
     "metadata": {},
     "output_type": "display_data"
    },
    {
     "data": {
      "application/vnd.jupyter.widget-view+json": {
       "model_id": "3e020bac823444f8b4b8d8b4215d5973",
       "version_major": 2,
       "version_minor": 0
      },
      "text/plain": [
       "Loss:   0%|          | 0/600 [00:00<?, ?it/s]"
      ]
     },
     "metadata": {},
     "output_type": "display_data"
    },
    {
     "data": {
      "application/vnd.jupyter.widget-view+json": {
       "model_id": "744aa46b307044f8a470fcf8584d8737",
       "version_major": 2,
       "version_minor": 0
      },
      "text/plain": [
       "Loss:   0%|          | 0/600 [00:00<?, ?it/s]"
      ]
     },
     "metadata": {},
     "output_type": "display_data"
    },
    {
     "data": {
      "application/vnd.jupyter.widget-view+json": {
       "model_id": "768d12a9d80a4e608ff5b3f31becc989",
       "version_major": 2,
       "version_minor": 0
      },
      "text/plain": [
       "Loss:   0%|          | 0/600 [00:00<?, ?it/s]"
      ]
     },
     "metadata": {},
     "output_type": "display_data"
    },
    {
     "data": {
      "application/vnd.jupyter.widget-view+json": {
       "model_id": "b8c38ba58c454f11a757e8f51febfb99",
       "version_major": 2,
       "version_minor": 0
      },
      "text/plain": [
       "Loss:   0%|          | 0/600 [00:00<?, ?it/s]"
      ]
     },
     "metadata": {},
     "output_type": "display_data"
    },
    {
     "data": {
      "application/vnd.jupyter.widget-view+json": {
       "model_id": "49d5b56606764b96ab401e826ab27989",
       "version_major": 2,
       "version_minor": 0
      },
      "text/plain": [
       "Loss:   0%|          | 0/600 [00:00<?, ?it/s]"
      ]
     },
     "metadata": {},
     "output_type": "display_data"
    },
    {
     "data": {
      "application/vnd.jupyter.widget-view+json": {
       "model_id": "79116ed1a0f5453898ab7d6abfa3c686",
       "version_major": 2,
       "version_minor": 0
      },
      "text/plain": [
       "Loss:   0%|          | 0/600 [00:00<?, ?it/s]"
      ]
     },
     "metadata": {},
     "output_type": "display_data"
    },
    {
     "data": {
      "application/vnd.jupyter.widget-view+json": {
       "model_id": "363fb513e98f46bfb5602bacbf5a96b6",
       "version_major": 2,
       "version_minor": 0
      },
      "text/plain": [
       "Loss:   0%|          | 0/600 [00:00<?, ?it/s]"
      ]
     },
     "metadata": {},
     "output_type": "display_data"
    },
    {
     "data": {
      "application/vnd.jupyter.widget-view+json": {
       "model_id": "e21191d179f04dee9478425ed69153f2",
       "version_major": 2,
       "version_minor": 0
      },
      "text/plain": [
       "Loss:   0%|          | 0/600 [00:00<?, ?it/s]"
      ]
     },
     "metadata": {},
     "output_type": "display_data"
    },
    {
     "data": {
      "application/vnd.jupyter.widget-view+json": {
       "model_id": "3164e13329f64671957c34372257f914",
       "version_major": 2,
       "version_minor": 0
      },
      "text/plain": [
       "Loss:   0%|          | 0/600 [00:00<?, ?it/s]"
      ]
     },
     "metadata": {},
     "output_type": "display_data"
    },
    {
     "data": {
      "application/vnd.jupyter.widget-view+json": {
       "model_id": "a2670f32837b4ead893f45759992d689",
       "version_major": 2,
       "version_minor": 0
      },
      "text/plain": [
       "Loss:   0%|          | 0/600 [00:00<?, ?it/s]"
      ]
     },
     "metadata": {},
     "output_type": "display_data"
    },
    {
     "data": {
      "application/vnd.jupyter.widget-view+json": {
       "model_id": "307c32649e0549edb0e8a0150d7be797",
       "version_major": 2,
       "version_minor": 0
      },
      "text/plain": [
       "Loss:   0%|          | 0/600 [00:00<?, ?it/s]"
      ]
     },
     "metadata": {},
     "output_type": "display_data"
    },
    {
     "data": {
      "application/vnd.jupyter.widget-view+json": {
       "model_id": "7615c05562ca4d83a72cb06aec1cbe3e",
       "version_major": 2,
       "version_minor": 0
      },
      "text/plain": [
       "Loss:   0%|          | 0/600 [00:00<?, ?it/s]"
      ]
     },
     "metadata": {},
     "output_type": "display_data"
    },
    {
     "data": {
      "application/vnd.jupyter.widget-view+json": {
       "model_id": "d31b0f831ea040cd9448cd6b2a573c0d",
       "version_major": 2,
       "version_minor": 0
      },
      "text/plain": [
       "Loss:   0%|          | 0/600 [00:00<?, ?it/s]"
      ]
     },
     "metadata": {},
     "output_type": "display_data"
    },
    {
     "data": {
      "application/vnd.jupyter.widget-view+json": {
       "model_id": "84e756a0678c40658cf294f020a52d94",
       "version_major": 2,
       "version_minor": 0
      },
      "text/plain": [
       "Loss:   0%|          | 0/600 [00:00<?, ?it/s]"
      ]
     },
     "metadata": {},
     "output_type": "display_data"
    },
    {
     "data": {
      "application/vnd.jupyter.widget-view+json": {
       "model_id": "b07de879cf9042bab4a243a27cd1dd67",
       "version_major": 2,
       "version_minor": 0
      },
      "text/plain": [
       "Loss:   0%|          | 0/600 [00:00<?, ?it/s]"
      ]
     },
     "metadata": {},
     "output_type": "display_data"
    },
    {
     "data": {
      "application/vnd.jupyter.widget-view+json": {
       "model_id": "d241de6d5ec74b18992392e75ef63b85",
       "version_major": 2,
       "version_minor": 0
      },
      "text/plain": [
       "Loss:   0%|          | 0/600 [00:00<?, ?it/s]"
      ]
     },
     "metadata": {},
     "output_type": "display_data"
    },
    {
     "data": {
      "application/vnd.jupyter.widget-view+json": {
       "model_id": "8a9b865463db401592df2141be32d524",
       "version_major": 2,
       "version_minor": 0
      },
      "text/plain": [
       "Loss:   0%|          | 0/600 [00:00<?, ?it/s]"
      ]
     },
     "metadata": {},
     "output_type": "display_data"
    },
    {
     "data": {
      "application/vnd.jupyter.widget-view+json": {
       "model_id": "818c9932d9c94724af5237ebb8a743a3",
       "version_major": 2,
       "version_minor": 0
      },
      "text/plain": [
       "Loss:   0%|          | 0/600 [00:00<?, ?it/s]"
      ]
     },
     "metadata": {},
     "output_type": "display_data"
    },
    {
     "data": {
      "application/vnd.jupyter.widget-view+json": {
       "model_id": "72c7a2eae34544d9a44e0539997b8cf6",
       "version_major": 2,
       "version_minor": 0
      },
      "text/plain": [
       "Loss:   0%|          | 0/600 [00:00<?, ?it/s]"
      ]
     },
     "metadata": {},
     "output_type": "display_data"
    },
    {
     "data": {
      "application/vnd.jupyter.widget-view+json": {
       "model_id": "18fea1986fce45c8964c7bf64961b979",
       "version_major": 2,
       "version_minor": 0
      },
      "text/plain": [
       "Loss:   0%|          | 0/600 [00:00<?, ?it/s]"
      ]
     },
     "metadata": {},
     "output_type": "display_data"
    },
    {
     "data": {
      "application/vnd.jupyter.widget-view+json": {
       "model_id": "c9887ebdb68645c391e2229c765f4ffa",
       "version_major": 2,
       "version_minor": 0
      },
      "text/plain": [
       "Loss:   0%|          | 0/600 [00:00<?, ?it/s]"
      ]
     },
     "metadata": {},
     "output_type": "display_data"
    },
    {
     "data": {
      "application/vnd.jupyter.widget-view+json": {
       "model_id": "a33a27f38f6f4ecf892b34b0203705e0",
       "version_major": 2,
       "version_minor": 0
      },
      "text/plain": [
       "Loss:   0%|          | 0/600 [00:00<?, ?it/s]"
      ]
     },
     "metadata": {},
     "output_type": "display_data"
    },
    {
     "data": {
      "application/vnd.jupyter.widget-view+json": {
       "model_id": "06fd3a9ec35c4820bb0b16676ba83639",
       "version_major": 2,
       "version_minor": 0
      },
      "text/plain": [
       "Loss:   0%|          | 0/600 [00:00<?, ?it/s]"
      ]
     },
     "metadata": {},
     "output_type": "display_data"
    },
    {
     "data": {
      "application/vnd.jupyter.widget-view+json": {
       "model_id": "b7bf789fdc7c4d5c8f572d1065c5dd7a",
       "version_major": 2,
       "version_minor": 0
      },
      "text/plain": [
       "Loss:   0%|          | 0/600 [00:00<?, ?it/s]"
      ]
     },
     "metadata": {},
     "output_type": "display_data"
    },
    {
     "data": {
      "application/vnd.jupyter.widget-view+json": {
       "model_id": "49fb20f5655f40ad95cf5ebac76406f9",
       "version_major": 2,
       "version_minor": 0
      },
      "text/plain": [
       "Loss:   0%|          | 0/600 [00:00<?, ?it/s]"
      ]
     },
     "metadata": {},
     "output_type": "display_data"
    },
    {
     "data": {
      "application/vnd.jupyter.widget-view+json": {
       "model_id": "55ba5f3dc942495493885128118a0557",
       "version_major": 2,
       "version_minor": 0
      },
      "text/plain": [
       "Loss:   0%|          | 0/600 [00:00<?, ?it/s]"
      ]
     },
     "metadata": {},
     "output_type": "display_data"
    },
    {
     "data": {
      "application/vnd.jupyter.widget-view+json": {
       "model_id": "4daf422c6b8d4ad2b321ffeee7c7325c",
       "version_major": 2,
       "version_minor": 0
      },
      "text/plain": [
       "Loss:   0%|          | 0/600 [00:00<?, ?it/s]"
      ]
     },
     "metadata": {},
     "output_type": "display_data"
    },
    {
     "data": {
      "application/vnd.jupyter.widget-view+json": {
       "model_id": "23f51d9dd7894a58804c778481e611d0",
       "version_major": 2,
       "version_minor": 0
      },
      "text/plain": [
       "Loss:   0%|          | 0/600 [00:00<?, ?it/s]"
      ]
     },
     "metadata": {},
     "output_type": "display_data"
    },
    {
     "data": {
      "application/vnd.jupyter.widget-view+json": {
       "model_id": "f81c25eaebc0473da2e3e13c0300f6a6",
       "version_major": 2,
       "version_minor": 0
      },
      "text/plain": [
       "Loss:   0%|          | 0/600 [00:00<?, ?it/s]"
      ]
     },
     "metadata": {},
     "output_type": "display_data"
    },
    {
     "data": {
      "application/vnd.jupyter.widget-view+json": {
       "model_id": "c3962d785dff4e78885a766dda8fc4e5",
       "version_major": 2,
       "version_minor": 0
      },
      "text/plain": [
       "Loss:   0%|          | 0/600 [00:00<?, ?it/s]"
      ]
     },
     "metadata": {},
     "output_type": "display_data"
    },
    {
     "data": {
      "application/vnd.jupyter.widget-view+json": {
       "model_id": "ca3bda28985a45378ae0b9c13b830771",
       "version_major": 2,
       "version_minor": 0
      },
      "text/plain": [
       "Loss:   0%|          | 0/600 [00:00<?, ?it/s]"
      ]
     },
     "metadata": {},
     "output_type": "display_data"
    },
    {
     "data": {
      "application/vnd.jupyter.widget-view+json": {
       "model_id": "733e5fdced0a43b7bbe2f11f4827bb2b",
       "version_major": 2,
       "version_minor": 0
      },
      "text/plain": [
       "Loss:   0%|          | 0/600 [00:00<?, ?it/s]"
      ]
     },
     "metadata": {},
     "output_type": "display_data"
    },
    {
     "data": {
      "application/vnd.jupyter.widget-view+json": {
       "model_id": "94b5b207517f431baa3518e83690927c",
       "version_major": 2,
       "version_minor": 0
      },
      "text/plain": [
       "Loss:   0%|          | 0/600 [00:00<?, ?it/s]"
      ]
     },
     "metadata": {},
     "output_type": "display_data"
    },
    {
     "data": {
      "application/vnd.jupyter.widget-view+json": {
       "model_id": "851c71ad331b438ab8f057c998345bef",
       "version_major": 2,
       "version_minor": 0
      },
      "text/plain": [
       "Loss:   0%|          | 0/600 [00:00<?, ?it/s]"
      ]
     },
     "metadata": {},
     "output_type": "display_data"
    },
    {
     "data": {
      "application/vnd.jupyter.widget-view+json": {
       "model_id": "aed24eff62ee4081a8439bbe79482dd7",
       "version_major": 2,
       "version_minor": 0
      },
      "text/plain": [
       "Loss:   0%|          | 0/600 [00:00<?, ?it/s]"
      ]
     },
     "metadata": {},
     "output_type": "display_data"
    },
    {
     "data": {
      "application/vnd.jupyter.widget-view+json": {
       "model_id": "f2ea9bd5c2bf46318f07287af3feddac",
       "version_major": 2,
       "version_minor": 0
      },
      "text/plain": [
       "Loss:   0%|          | 0/600 [00:00<?, ?it/s]"
      ]
     },
     "metadata": {},
     "output_type": "display_data"
    },
    {
     "data": {
      "application/vnd.jupyter.widget-view+json": {
       "model_id": "61d4e02a6ff84dbbbb0e99af6cace456",
       "version_major": 2,
       "version_minor": 0
      },
      "text/plain": [
       "Loss:   0%|          | 0/600 [00:00<?, ?it/s]"
      ]
     },
     "metadata": {},
     "output_type": "display_data"
    },
    {
     "data": {
      "application/vnd.jupyter.widget-view+json": {
       "model_id": "8479cb7639364289bd6065496fdbcbc1",
       "version_major": 2,
       "version_minor": 0
      },
      "text/plain": [
       "Loss:   0%|          | 0/600 [00:00<?, ?it/s]"
      ]
     },
     "metadata": {},
     "output_type": "display_data"
    },
    {
     "data": {
      "application/vnd.jupyter.widget-view+json": {
       "model_id": "faa72e96b1cb4fe6b788154bdb53adc2",
       "version_major": 2,
       "version_minor": 0
      },
      "text/plain": [
       "Loss:   0%|          | 0/600 [00:00<?, ?it/s]"
      ]
     },
     "metadata": {},
     "output_type": "display_data"
    }
   ],
   "source": [
    "if not load:\n",
    "    tmodel.trainingloop(100)\n",
    "    torch.save(tmodel.state_dict(), './models/resnet.pth')\n",
    "else:\n",
    "    tmodel.load_state_dict(torch.load('./models/resnet.pth'))\n",
    "    "
   ]
  },
  {
   "cell_type": "code",
   "execution_count": null,
   "id": "2e781965-0bdc-4416-a8df-092069c5cb23",
   "metadata": {},
   "outputs": [],
   "source": [
    "tmodel.compute_accuracy(heatmap='resnet_acc', verbose=True)\n"
   ]
  },
  {
   "cell_type": "markdown",
   "id": "38afe2eb-63c4-443d-b0d0-60ee8308dc29",
   "metadata": {},
   "source": [
    "Using Transfer-Learning on ResNet50 the accuracy rises up to 92%. The main source of error is because the model does not well distinguish between similar classes such as Shirt/T-Shirt and Pullover/Coat, honestly I don't know if I would distinguish them properly..."
   ]
  },
  {
   "cell_type": "code",
   "execution_count": null,
   "id": "8eb6fc7f-06b7-4610-9f37-677e62eaadd5",
   "metadata": {},
   "outputs": [],
   "source": []
  }
 ],
 "metadata": {
  "kernelspec": {
   "display_name": "Python 3 (ipykernel)",
   "language": "python",
   "name": "python3"
  },
  "language_info": {
   "codemirror_mode": {
    "name": "ipython",
    "version": 3
   },
   "file_extension": ".py",
   "mimetype": "text/x-python",
   "name": "python",
   "nbconvert_exporter": "python",
   "pygments_lexer": "ipython3",
   "version": "3.9.7"
  }
 },
 "nbformat": 4,
 "nbformat_minor": 5
}
