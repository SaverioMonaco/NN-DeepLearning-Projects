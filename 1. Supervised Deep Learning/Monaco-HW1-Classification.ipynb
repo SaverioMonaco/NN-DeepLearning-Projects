{
 "cells": [
  {
   "cell_type": "markdown",
   "id": "7cd581c9-b9e4-4cb0-bd4d-dcc781d5d906",
   "metadata": {},
   "source": [
    "---\n",
    "---\n",
    "# NEURAL NETWORKS AND DEEP LEARNING\n",
    "\n",
    "### A.A. 2021/22 (6 CFU) - Dr. Alberto Testolin, Dr. Umberto Michieli\n",
    "\n",
    "### Saverio Monaco\n",
    "##### MAT: 2012264\n",
    "\n",
    "# Homework 1 - Supervised Deep Learning\n",
    "---\n",
    "---"
   ]
  },
  {
   "cell_type": "markdown",
   "id": "128af43b-542f-4124-9700-72be4837691b",
   "metadata": {},
   "source": [
    "## Classification task"
   ]
  },
  {
   "cell_type": "markdown",
   "id": "69a89872-5c7f-40dc-ad13-e60c12007037",
   "metadata": {},
   "source": [
    "* The goal is to train a neural network that maps an input image (from fashionMNIST) to one of ten classes (multi-class classification problem with mutually exclusive classes).\n",
    "* Define a proper loss (e.g. [torch.nn.CrossEntropyLoss](https://pytorch.org/docs/stable/generated/torch.nn.CrossEntropyLoss.html#torch.nn.CrossEntropyLoss))\n",
    "* Also here, consider to create a validation set from you training data, or use a k-fold cross-validation strategy.\n",
    "* Pay attention to the shape, data type and output values range. If needed, modify them accordingly to your implementation (read carefully the documentation of the layers that you use, e.g. [torch.nn.Conv2d](https://pytorch.org/docs/stable/generated/torch.nn.Conv2d.html)).\n",
    "* Explore different optimizers, acivation functions, network architectures. Analyze the effect of different regularization methods, such as dropout layers, random transformations (image rotation, scaling, add noise...) or L2 regularization (weight decay)."
   ]
  },
  {
   "cell_type": "code",
   "execution_count": 1,
   "id": "5235f9de-9d73-4ed7-b71b-03f397b2411a",
   "metadata": {},
   "outputs": [],
   "source": [
    "# if True all the models will be loaded from ./models folder\n",
    "# if False all the models will be trained\n",
    "load = False"
   ]
  },
  {
   "cell_type": "markdown",
   "id": "c3e6a947-2dba-4e28-a68c-dfd659178e7d",
   "metadata": {
    "tags": []
   },
   "source": [
    "### Dataset"
   ]
  },
  {
   "cell_type": "code",
   "execution_count": 2,
   "id": "31f62da4-da28-4df5-b206-b9db92521a36",
   "metadata": {},
   "outputs": [],
   "source": [
    "#################\n",
    "#### IMPORTS ####\n",
    "#################\n",
    "\n",
    "# Arrays\n",
    "import numpy as np\n",
    "\n",
    "# Deep Learning stuff\n",
    "import torch\n",
    "import torchvision\n",
    "import torch.nn as nn\n",
    "from torch.utils.data import Dataset, DataLoader\n",
    "import torchvision.transforms as transforms\n",
    "from sklearn.model_selection import KFold\n",
    "import torch.optim as optim\n",
    "from sklearn.metrics import confusion_matrix\n",
    "import seaborn as sns\n",
    "\n",
    "# Images display and plots\n",
    "import matplotlib.pyplot as plt\n",
    "\n",
    "# Other\n",
    "import os\n",
    "import time\n",
    "from tqdm.notebook import tqdm # Pretty progress bars\n"
   ]
  },
  {
   "cell_type": "code",
   "execution_count": 3,
   "id": "90407dd9-ed20-4182-b959-442112bbf17d",
   "metadata": {},
   "outputs": [],
   "source": [
    "# Setting the values of the seeds for reproducibility\n",
    "torch.manual_seed(2012264)    \n",
    "np.random.seed(2012264)\n"
   ]
  },
  {
   "cell_type": "code",
   "execution_count": 4,
   "id": "267abf10-fb9a-49d4-8611-eff0cfcce644",
   "metadata": {},
   "outputs": [],
   "source": [
    "# If we have already the datafolder, do not download.\n",
    "if(os.path.isdir('./classifier_data/FashionMNIST')):\n",
    "    download_data = False\n",
    "else:\n",
    "    download_data = True\n",
    "    \n",
    "train_dataset = torchvision.datasets.FashionMNIST('classifier_data', train=True, download=download_data,\n",
    "                                                     transform = transforms.Compose([transforms.ToTensor()]) )\n",
    "                                                      \n",
    "test_dataset  = torchvision.datasets.FashionMNIST('classifier_data', train=False, download=download_data,\n",
    "                                                     transform = transforms.Compose([transforms.ToTensor()]) )\n"
   ]
  },
  {
   "cell_type": "code",
   "execution_count": 5,
   "id": "67ee37d8-606c-4af3-9d45-115ccfc6c50f",
   "metadata": {},
   "outputs": [],
   "source": [
    "train_dataloader = DataLoader(train_dataset, batch_size = 100, shuffle=True, num_workers=0)\n",
    "test_dataloader = DataLoader(test_dataset, batch_size = 10000, shuffle=True, num_workers=0)\n"
   ]
  },
  {
   "cell_type": "code",
   "execution_count": 6,
   "id": "2f14731d-b0ce-486f-94ea-21ea506fb371",
   "metadata": {},
   "outputs": [
    {
     "name": "stdout",
     "output_type": "stream",
     "text": [
      "Number of instances in training dataset: 60000\n",
      "Number of instances in testing dataset:  10000\n",
      "\n",
      "Size of the images: (28, 28)\n"
     ]
    }
   ],
   "source": [
    "print('Number of instances in training dataset:', np.shape(train_dataset.data)[0])\n",
    "print('Number of instances in testing dataset: ', np.shape(test_dataset.data)[0])\n",
    "\n",
    "print('\\nSize of the images:', np.shape(train_dataset.data[0].numpy()))\n"
   ]
  },
  {
   "cell_type": "code",
   "execution_count": 7,
   "id": "0934b58b-bc12-434f-9611-a6f31ccd2f51",
   "metadata": {},
   "outputs": [
    {
     "name": "stdout",
     "output_type": "stream",
     "text": [
      "TRAINING DATASET\n",
      " range: 0.0 - 1.0\n",
      "\n",
      "TEST DATASET\n",
      " range: 0.0 - 1.0\n"
     ]
    }
   ],
   "source": [
    "# Check for the ranges of value of the images\n",
    "# There are two standards of representing grayscale images:\n",
    "#  1. Each pixel ranges from 0 to 1\n",
    "#  2. Each pixel ranges from 0 to 255\n",
    "\n",
    "# The second one present more numerical instability\n",
    "\n",
    "absmax = -1000\n",
    "absmin = +1000\n",
    "\n",
    "# Checking the whole dataset, just to be sure\n",
    "for image_batch, _ in train_dataloader:\n",
    "    batch_max = torch.max(image_batch)\n",
    "    batch_min = torch.min(image_batch)\n",
    "    \n",
    "    if batch_max > absmax:\n",
    "        absmax = batch_max\n",
    "    if batch_min < absmin:\n",
    "        absmin = batch_min\n",
    "        \n",
    "print('TRAINING DATASET')\n",
    "print(' range:', absmin.item(), '-', absmax.item())\n",
    "\n",
    "absmax = -1000\n",
    "absmin = +1000\n",
    "\n",
    "# Checking the whole dataset, just to be sure\n",
    "for image_batch, _ in test_dataloader:\n",
    "    batch_max = torch.max(image_batch)\n",
    "    batch_min = torch.min(image_batch)\n",
    "    \n",
    "    if batch_max > absmax:\n",
    "        absmax = batch_max\n",
    "    if batch_min < absmin:\n",
    "        absmin = batch_min\n",
    "\n",
    "print('\\nTEST DATASET')\n",
    "print(' range:', absmin.item(), '-', absmax.item())\n"
   ]
  },
  {
   "cell_type": "code",
   "execution_count": 8,
   "id": "236e0588-25e4-4698-a254-bcd8193eab6e",
   "metadata": {},
   "outputs": [
    {
     "name": "stdout",
     "output_type": "stream",
     "text": [
      "Training device: cuda\n"
     ]
    }
   ],
   "source": [
    "# Check if the GPU is available\n",
    "device = torch.device(\"cuda\") if torch.cuda.is_available() else torch.device(\"cpu\")\n",
    "print(f\"Training device: {device}\")\n"
   ]
  },
  {
   "cell_type": "code",
   "execution_count": 9,
   "id": "f9dfa00e-ec96-4212-8305-a7ff085d79b0",
   "metadata": {},
   "outputs": [],
   "source": [
    "def plot_mnistimg(dataset, sample, output = False, size = 3):\n",
    "    '''\n",
    "    Display the sample-th image from dataset (can be trainingset or testset) and its true\n",
    "    label.\n",
    "    Eventually display the predicted label in output.\n",
    "    Size of the image can be changed changing size input parameter\n",
    "    '''\n",
    "    \n",
    "    # Convert output (int) through the description of the images (str)\n",
    "    description = ['T-shirt/top','Trouser','Pullover',\n",
    "                   'Dress','Coat','Sandal','Shirt',\n",
    "                   'Sneaker','Bag','Ankle boot']\n",
    "    \n",
    "    image = np.ones((28,28))-np.array(dataset[sample][0])[0] # Image to display\n",
    "    label = dataset[sample][1]              # Relative label (int)\n",
    "\n",
    "    fig = plt.figure(figsize=(size,size))\n",
    "    plt.imshow(image, cmap='Greys')\n",
    "    \n",
    "    print(f\"Sample: {sample}\")\n",
    "    print(f\"True Label: {description[label]}\")\n",
    "    \n",
    "    if output:\n",
    "        print(f\"Prediction: {description[output]}\")\n",
    "    \n",
    "    plt.axis(\"off\")\n",
    "    plt.show()\n",
    "    "
   ]
  },
  {
   "cell_type": "code",
   "execution_count": 10,
   "id": "8127ade2-dad3-4e6c-8739-5659e0c7d8cb",
   "metadata": {},
   "outputs": [
    {
     "name": "stdout",
     "output_type": "stream",
     "text": [
      "Sample: 1\n",
      "True Label: T-shirt/top\n"
     ]
    },
    {
     "data": {
      "image/png": "[encoded data removed]",
      "text/plain": [
       "<Figure size 216x216 with 1 Axes>"
      ]
     },
     "metadata": {
      "needs_background": "light"
     },
     "output_type": "display_data"
    }
   ],
   "source": [
    "plot_mnistimg(train_dataset, 1)\n"
   ]
  },
  {
   "cell_type": "markdown",
   "id": "f90aba8d-77ab-46b6-9e39-b538055d5a2d",
   "metadata": {
    "tags": []
   },
   "source": [
    "### Building the Neural Network Structure"
   ]
  },
  {
   "cell_type": "code",
   "execution_count": 11,
   "id": "1595fb45-8f65-4019-bf9e-fe3656d8a16f",
   "metadata": {},
   "outputs": [],
   "source": [
    "class CNNMnistNet(nn.Module):\n",
    "    def __init__(self, Noutp, channels, activation = nn.ReLU(), dropout=0):\n",
    "        \"\"\"\n",
    "        Ni - Input size  (INT)\n",
    "        No - Output size (INT)\n",
    "        Nhs - Hidden layers (LIST OF INTEGERS)\n",
    "        \"\"\"\n",
    "        super(CNNMnistNet, self).__init__()\n",
    "        \n",
    "        self.activation = activation\n",
    "        self.channels = channels\n",
    "        \n",
    "        if len(channels)!=2:\n",
    "            print('Channels specified must be a list of two elements')\n",
    "        \n",
    "        self.conv1 = nn.Sequential(         \n",
    "            nn.Conv2d(\n",
    "                in_channels  = 1, # Because image is grayscale              \n",
    "                out_channels = channels[0],            \n",
    "                kernel_size  = 5,              \n",
    "                stride       = 1,                   \n",
    "                padding      = 2,                  \n",
    "            ),                              \n",
    "            activation,                      \n",
    "            nn.MaxPool2d(kernel_size=2),    \n",
    "        )\n",
    "        \n",
    "        # Dropout between two convolutions\n",
    "        self.dropout = nn.Dropout(dropout)\n",
    "        \n",
    "        self.conv2 = nn.Sequential(         \n",
    "            nn.Conv2d(\n",
    "                in_channels  = channels[0], \n",
    "                out_channels = channels[1], \n",
    "                kernel_size  = 5, \n",
    "                stride       = 1, \n",
    "                padding      =2\n",
    "            ),     \n",
    "            activation,                      \n",
    "            nn.MaxPool2d(2),                \n",
    "        )\n",
    "        \n",
    "        # Fully connected layer to output 10 classes\n",
    "        self.out = nn.Linear(channels[1] * 7 * 7, Noutp)\n",
    "    \n",
    "    def forward(self, x):\n",
    "        x = self.conv1(x)\n",
    "        x = self.conv2(x)\n",
    "        \n",
    "        # flatten the output of conv2 to (batch_size, 32 * 7 * 7)\n",
    "        x = x.view(x.size(0), -1)       \n",
    "        output = self.out(x)\n",
    "        return output    # return x for visualization\n",
    "    \n",
    "    def compute_accuracy(self, heatmap = False, verbose = False, examples=False):\n",
    "        '''\n",
    "        Compute accuracy of the model (%) from the testset\n",
    "        heatmap  = True shows heatmap\n",
    "        verbose  = True prints accuracy\n",
    "        examples = True display some examples\n",
    "        '''\n",
    "        self.to(device)\n",
    "        self.eval()\n",
    "        # Input and true label\n",
    "        x_test,y_test = next(iter(test_dataloader))\n",
    "        # Prediction\n",
    "        y_pred = self(x_test.to(device)).argmax(dim=1)\n",
    "        \n",
    "        description = ['T-shirt/top','Trouser','Pullover',\n",
    "                   'Dress','Coat','Sandal','Shirt',\n",
    "                   'Sneaker','Bag','Ankle boot']\n",
    "        \n",
    "        misclas = 0\n",
    "        for i in range(len(y_pred) ):\n",
    "            if y_pred[i] != y_test[i]:\n",
    "                misclas = misclas + 1\n",
    "        \n",
    "        accuracy = 100*(len(y_pred) - misclas)/len(y_pred)\n",
    "        \n",
    "        if verbose:\n",
    "            print('Accuracy:', accuracy, '%' )\n",
    "            \n",
    "        if heatmap:\n",
    "            conf_mat = confusion_matrix(y_test, y_pred.cpu())\n",
    "            fig, ax = plt.subplots(figsize=(6,5))\n",
    "            plt.title('Heatmap')\n",
    "            sns.heatmap(conf_mat, annot=True, fmt='d',xticklabels=description, yticklabels=description)\n",
    "            plt.ylabel('Actual')\n",
    "            plt.xlabel('Predicted')\n",
    "            \n",
    "            if type(heatmap) is str:\n",
    "                plt.savefig('./imgs/classification/'+heatmap+'.svg', format='svg')\n",
    "            else:\n",
    "                plt.show()\n",
    "            \n",
    "        if examples:\n",
    "            indices = np.random.choice(np.arange(len(test_dataloader.dataset) ), size=5, replace=False)\n",
    "            \n",
    "            for index in indices:\n",
    "                image = np.array(x_test[index][0])\n",
    "                label = y_test[index]\n",
    "\n",
    "                fig = plt.figure(figsize=(3,3))\n",
    "                plt.imshow(image, cmap='Greys')\n",
    "    \n",
    "                print(f\"\\n\\nTrue Label: {description[label]}\")\n",
    "                print(f\"Prediction: {description[y_pred[index]]}\")\n",
    "    \n",
    "                plt.axis(\"off\")\n",
    "                plt.show()\n",
    "            \n",
    "        return accuracy\n",
    "    \n",
    "    def fit(self, data, epochs, folds, torch_loss, printfreq, lr0, reg_term = 0, test=False, figname=False):\n",
    "        '''\n",
    "        Function for training the Network\n",
    "        data:       Dataloader\n",
    "        epochs:     Number of epochs for the model to learn\n",
    "        folds:      Folds in the k-fold cross validation\n",
    "        torch_loss: Torch funcion for the loss\n",
    "        printfreq:  Frequency of printing train loss and validation loss\n",
    "        lr0:        Initial Learning rate\n",
    "        reg_term:   Regularization term L2 penalty\n",
    "        test =True: Computes accuracy on testset at each epoch, and \n",
    "                    displays learning curves\n",
    "        '''\n",
    "        train_loss_log = [] \n",
    "        test_loss_log = []\n",
    "        val_loss_log = []\n",
    "        \n",
    "        # Define the optimizer\n",
    "        optimizer = optim.Adam(self.parameters(), lr=lr0, weight_decay= reg_term)\n",
    "        self.to(device)\n",
    "        for epoch in range(epochs):\n",
    "            ### TRAIN\n",
    "            train_loss = []\n",
    "    \n",
    "            self.train() # Training mode (e.g. enable dropout, batchnorm updates,...)\n",
    "            for sample_batched in data:\n",
    "                # Move data to device\n",
    "                x_batch = sample_batched[0].to(device)\n",
    "                label_batch = sample_batched[1].to(device)\n",
    "        \n",
    "                kf = KFold(n_splits=folds)\n",
    "                kf.get_n_splits(x_batch)\n",
    "        \n",
    "                loss = 0\n",
    "                for train_index, val_index in kf.split(x_batch):\n",
    "                    x_batch_train, x_batch_val = x_batch[train_index], x_batch[val_index]\n",
    "                    y_batch_train, y_batch_val = label_batch[train_index], label_batch[val_index]\n",
    "\n",
    "                    # Forward pass\n",
    "                    out = self(x_batch_train)\n",
    "        \n",
    "                    # Compute loss\n",
    "                    loss = loss + torch_loss(out, y_batch_train)/folds\n",
    "                # Backpropagation\n",
    "                self.zero_grad() # Clears gradient\n",
    "                loss.backward()  # Computes the derivative of the loss\n",
    "\n",
    "                # Update the weights\n",
    "                optimizer.step() # Take a step based on the gradients\n",
    "\n",
    "                # Save train loss for this batch\n",
    "                loss_batch = loss.detach().cpu().numpy()\n",
    "                train_loss.append(loss_batch)\n",
    "\n",
    "            # Save average train loss\n",
    "            train_loss = np.mean(train_loss)\n",
    "    \n",
    "            if printfreq!=0 and epoch%printfreq == 0:\n",
    "                print('#################')\n",
    "                print(f'# EPOCH {epoch}')\n",
    "                print('#################')\n",
    "                print(f\"AVERAGE TRAIN LOSS: {train_loss}\")\n",
    "                \n",
    "            train_loss_log.append(train_loss)\n",
    "            \n",
    "            ### VALIDATION\n",
    "            val_loss= []\n",
    "            self.eval() # Evaluation mode (e.g. disable dropout, batchnorm,...)\n",
    "            with torch.no_grad(): # Disable gradient tracking\n",
    "                for sample_batched in data:\n",
    "                    # Move data to device\n",
    "                    x_batch = sample_batched[0].to(device)\n",
    "                    label_batch = sample_batched[1].to(device)\n",
    "\n",
    "                    kf = KFold(n_splits=folds)\n",
    "                    kf.get_n_splits(x_batch)\n",
    "        \n",
    "                    loss = 0\n",
    "                    for train_index, val_index in kf.split(x_batch):\n",
    "                        x_batch_train, x_batch_val = x_batch[train_index], x_batch[val_index]\n",
    "                        y_batch_train, y_batch_val = label_batch[train_index], label_batch[val_index]\n",
    "\n",
    "                        # Forward pass\n",
    "                        out = self(x_batch_val)\n",
    "\n",
    "                        # Compute loss\n",
    "                        loss = loss + torch_loss(out, y_batch_val)/folds\n",
    "                \n",
    "                    # Save val loss for this batch\n",
    "                    loss_batch = loss.detach().cpu().numpy()\n",
    "                    val_loss.append(loss_batch)\n",
    "        \n",
    "                # Save average validation loss\n",
    "                val_loss = np.mean(val_loss)\n",
    "                if printfreq!=0 and epoch%printfreq == 0:\n",
    "                    print(f\"AVERAGE VAL LOSS: {np.mean(val_loss)}\")\n",
    "                    print('')\n",
    "                val_loss_log.append(val_loss)\n",
    "            \n",
    "            if test:\n",
    "                test_loss_log.append(self.compute_accuracy()) # Compute accuracy\n",
    "                if printfreq!=0 and epoch%printfreq == 0:\n",
    "                    print(f\"TEST ACCURACY: {test_loss_log[-1]} %\")\n",
    "                    \n",
    "        if test:\n",
    "            fig=plt.figure(figsize = (4,6))\n",
    "            ax1 = plt.subplot(211) # Loss on training\n",
    "            ax2 = plt.subplot(212) # Accuracy on test\n",
    "            \n",
    "            xvalues = np.arange(0,epochs)\n",
    "            \n",
    "            ax1.set_title('Loss curves')\n",
    "            \n",
    "            ax1.plot(xvalues, val_loss_log  , label='Validation error', color='green')\n",
    "            ax1.plot(xvalues, train_loss_log, label='Train error', color='blue')\n",
    "            ax1.set_xlabel('epoch')\n",
    "            ax1.legend()\n",
    "            \n",
    "            ax2.set_title('Accuracy on test set')\n",
    "            ax2.set_ylabel('%')\n",
    "            ax2.set_xlabel('epoch')\n",
    "            ax2.set_ylim(-1,101)\n",
    "            ax2.plot(xvalues, test_loss_log  , label='Test accuracy', color='gold')\n",
    "            \n",
    "            plt.tight_layout()\n",
    "            \n",
    "            if type(figname) is str:\n",
    "                plt.savefig('./imgs/classification/'+figname+'.svg', format='svg')\n",
    "            else:\n",
    "                plt.show()\n",
    "            \n",
    "        return val_loss_log[-1]\n",
    "    \n",
    "    def plot_filters(self, figname=False):\n",
    "        '''Functions for visualizing the filters'''\n",
    "        filter1 = self.conv1[0].weight.data.cpu().numpy()\n",
    "        filter2 = self.conv2[0].weight.data.cpu().numpy()\n",
    "        \n",
    "        # FIRST CHANNEL #\n",
    "        fig, ax = plt.subplots(1,self.channels[0], figsize=(16, 3))\n",
    "\n",
    "        for i in range(self.channels[0]):\n",
    "            ax[i].imshow( filter1[i, 0, :, :], cmap='Greys')\n",
    "            ax[i].axis('off')\n",
    "    \n",
    "        fig.suptitle('Filters of first convolutional layer')\n",
    "        \n",
    "        if figname:\n",
    "            plt.savefig('./imgs/classification/'+figname+'layer1.svg', format='svg')\n",
    "        else:\n",
    "            plt.show()\n",
    "        \n",
    "        # SECOND CHANNEL #\n",
    "        fig, ax = plt.subplots(self.channels[0], self.channels[1], figsize=(16, 7))\n",
    "\n",
    "        for i in range(self.channels[0]):\n",
    "            for j in range(self.channels[1]):\n",
    "                ax[i,j].imshow( filter2[j, i, :,:], cmap='Greys')\n",
    "                ax[i,j].axis('off')\n",
    "        \n",
    "        fig.suptitle('Filters of second convolutional layer')\n",
    "        if figname:\n",
    "            plt.savefig('./imgs/classification/'+figname+'layer2.svg', format='svg')\n",
    "        else:\n",
    "            plt.show()\n",
    "        \n",
    "    def plot_activations(self, figname=False):\n",
    "        def get_activation(layer, input, output):\n",
    "            global activation\n",
    "            activation = self.activation(output)\n",
    "\n",
    "        ex_dataloader =  DataLoader(test_dataset, batch_size = 1, shuffle=True, num_workers=0)\n",
    "        \n",
    "        ### Register hook  \n",
    "        hook_handle = self.conv1.register_forward_hook(get_activation)\n",
    "\n",
    "        ### Analyze activations\n",
    "        self.eval()\n",
    "\n",
    "        with torch.no_grad():\n",
    "            for s_batch in ex_dataloader:\n",
    "                # Move data to device\n",
    "                x1 = s_batch[0].to(device)\n",
    "                # Forward pass\n",
    "                y1 = self(x1)\n",
    "                z1 = activation\n",
    "\n",
    "        ### Remove hook\n",
    "        hook_handle.remove()\n",
    "\n",
    "        act1 = z1.cpu().numpy()\n",
    "\n",
    "        ## Plot activations\n",
    "        fig, ax = plt.subplots(1, self.channels[0], figsize=(16,3))\n",
    "        for i in range(self.channels[0]):\n",
    "            ax[i].imshow( act1[0, i, :, :], cmap='Greys')\n",
    "            ax[i].axis('off')\n",
    "\n",
    "        fig.suptitle('Activation profile - first convolutional layer', fontsize=16)    \n",
    "        plt.tight_layout()\n",
    "\n",
    "        if figname:\n",
    "            plt.savefig('./imgs/classification/'+figname+'activation1.svg', format='svg')\n",
    "        else:\n",
    "            plt.show()   \n",
    "        \n",
    "        ### Register hook  \n",
    "        hook_handle = self.conv2.register_forward_hook(get_activation)\n",
    "\n",
    "        with torch.no_grad():\n",
    "            for s_batch in ex_dataloader:\n",
    "                # Move data to device\n",
    "                x2 = s_batch[0].to(device)\n",
    "                # Forward pass\n",
    "                y2 = self(x2)\n",
    "                z2 = activation\n",
    "\n",
    "        ### Remove hook\n",
    "        hook_handle.remove()\n",
    "\n",
    "        act2 = z2.cpu().numpy()\n",
    "\n",
    "        ## Plot activations\n",
    "        fig, ax = plt.subplots(2, self.channels[0], figsize=(16,6))\n",
    "\n",
    "        for i in range(self.channels[0]):\n",
    "            ax[0, i].imshow( act2[0, i, :, :], cmap='Greys')\n",
    "            ax[0, i].axis('off')\n",
    "            ax[1, i].imshow( act2[0, i+self.channels[0], :, :], cmap='Greys')\n",
    "            ax[1, i].axis('off')\n",
    "\n",
    "        fig.suptitle('Activation profile - second convolutional layer', fontsize=16)    \n",
    "        plt.tight_layout()\n",
    "\n",
    "        if figname:\n",
    "            plt.savefig('./imgs/classification/'+figname+'activation2.svg', format='svg')\n",
    "        else:\n",
    "            plt.show()    \n",
    "        \n",
    "    def save(self, file=False):\n",
    "        '''\n",
    "        Just save the model in ./models folder.\n",
    "        if file = False it overwrites ./models/classificator.pth. else it saves it on the name specified\n",
    "        '''\n",
    "        if file:\n",
    "            torch.save(self.state_dict(), './models/'+str(file))\n",
    "        else:\n",
    "            torch.save(self.state_dict(), './models/bestclassificator')\n",
    "            "
   ]
  },
  {
   "cell_type": "code",
   "execution_count": 12,
   "id": "43c10536-fa78-4e9d-8877-8e9116092428",
   "metadata": {},
   "outputs": [],
   "source": [
    "load = False"
   ]
  },
  {
   "cell_type": "code",
   "execution_count": 13,
   "id": "d75dd17d-f62b-4582-ade8-2a24795fb3b5",
   "metadata": {},
   "outputs": [
    {
     "name": "stdout",
     "output_type": "stream",
     "text": [
      "---------------------\n",
      "Configuration 0\n",
      " Validation loss:  0.44608495\n",
      " Lr =            0.0001\n",
      " Loss =          CrossEntropyLoss()\n",
      " Reg =           0.0001\n",
      " Channels =      [6, 12]\n",
      " dropout =       0.1\n",
      " activation =    ReLU()\n",
      "\n",
      "Iteration: 1\n",
      "Iteration: 2\n",
      "Iteration: 3\n",
      "Iteration: 4\n",
      "---------------------\n",
      "Configuration 4\n",
      " Validation loss:  0.2693065\n",
      " Lr =            0.001\n",
      " Loss =          CrossEntropyLoss()\n",
      " Reg =           0.0001\n",
      " Channels =      [6, 12]\n",
      " dropout =       0.1\n",
      " activation =    ReLU()\n",
      "\n",
      "Iteration: 5\n",
      "Iteration: 6\n",
      "Iteration: 7\n",
      "Iteration: 8\n",
      "Best model found: \n",
      "{'lr': 0.001, 'loss': CrossEntropyLoss(), 'reg': 0.0001, 'channels': [6, 12], 'dropout': 0.1, 'activation': ReLU()}\n",
      "Accuracy: 89.81 %\n"
     ]
    },
    {
     "data": {
      "image/png": "[encoded data removed]",
      "text/plain": [
       "<Figure size 288x432 with 2 Axes>"
      ]
     },
     "metadata": {
      "needs_background": "light"
     },
     "output_type": "display_data"
    },
    {
     "data": {
      "image/png": "[encoded data removed]",
      "text/plain": [
       "<Figure size 432x360 with 2 Axes>"
      ]
     },
     "metadata": {
      "needs_background": "light"
     },
     "output_type": "display_data"
    }
   ],
   "source": [
    "if load:\n",
    "    # load the model instead of doing the gridsearch:\n",
    "    best_model = CNNMnistNet(10, [3,6], activation = nn.ReLU(), dropout=0)\n",
    "    best_model.load_state_dict(torch.load('./models/bestclassificator'))\n",
    "    best_model.compute_accuracy(heatmap=True, verbose=True)\n",
    "else:\n",
    "    # Hyperparameters for the gridsearch:\n",
    "    grid_lrs = [1e-4,1e-3]\n",
    "    grid_regs =  [1e-4]\n",
    "    grid_channels = [[6,12]]\n",
    "    grid_dropouts = [.1,.01] \n",
    "    grid_activations = [nn.ReLU(), nn.Sigmoid()]\n",
    "    grid_losses = [nn.CrossEntropyLoss()]\n",
    "\n",
    "    best_train_loss = 1000000\n",
    "    best_val_loss   = 1000000\n",
    "\n",
    "    grid_epochs = 10\n",
    "\n",
    "    i = 0 # Loop variable, tells us at what configuration we currently are\n",
    "\n",
    "    for grid_lr in grid_lrs:\n",
    "        for grid_loss in grid_losses:\n",
    "            for grid_reg in grid_regs:\n",
    "                for grid_channel in grid_channels:\n",
    "                    for grid_dropout in grid_dropouts:\n",
    "                        for grid_activation in grid_activations:\n",
    "                            # For every possible combination of hyperparameters...\n",
    "                            grid_model = CNNMnistNet(10, grid_channel, activation = grid_activation, dropout=grid_dropout)\n",
    "                            grid_val_loss = grid_model.fit(train_dataloader, grid_epochs, 5, grid_loss, 0, grid_lr, \n",
    "                                                           reg_term = grid_reg)\n",
    "\n",
    "                            if grid_val_loss < best_val_loss:\n",
    "                                best_val_loss = grid_val_loss\n",
    "\n",
    "                                # Save the best combination of the hyperparameters in a dictionary\n",
    "                                # so we can inspect the best model later\n",
    "                                best_config = {\n",
    "                                  \"lr\":            grid_lr,\n",
    "                                  \"loss\":          grid_loss,\n",
    "                                  \"reg\":           grid_reg,\n",
    "                                  \"channels\":      grid_channel,\n",
    "                                  \"dropout\":       grid_dropout,\n",
    "                                  \"activation\":    grid_activation}\n",
    "\n",
    "                                if True: # Set to False, too much useless information displayed\n",
    "                                    print('---------------------')\n",
    "                                    print('Configuration', i)\n",
    "                                    print(' Validation loss: ', grid_val_loss)\n",
    "                                    print(' Lr =           ', grid_lr)\n",
    "                                    print(' Loss =         ', grid_loss)\n",
    "                                    print(' Reg =          ', grid_reg)\n",
    "                                    print(' Channels =     ', grid_channel)\n",
    "                                    print(' dropout =      ', grid_dropout)\n",
    "                                    print(' activation =   ', grid_activation)\n",
    "                                    print('')\n",
    "\n",
    "                            i = i + 1\n",
    "                            print('Iteration:',i)\n",
    "                            \n",
    "    print('Best model found: ')\n",
    "    print(best_config)                            \n",
    "    best_model = CNNMnistNet(10, best_config['channels'], activation = best_config['activation'], dropout=best_config['dropout'])\n",
    "    best_model.fit(train_dataloader, 100, 5, best_config['loss'], 0, best_config['lr'], reg_term = best_config['reg'], test=True, figname='bestmodel_losses')\n",
    "\n",
    "    best_model.compute_accuracy(heatmap='best_classificator_grid', verbose=True)\n",
    "    best_model.save()\n",
    "    "
   ]
  },
  {
   "cell_type": "markdown",
   "id": "a3c56d1c-bc54-4e2d-9e28-c6402b416071",
   "metadata": {},
   "source": [
    "### Filter visualization"
   ]
  },
  {
   "cell_type": "code",
   "execution_count": 14,
   "id": "fc0ef793-0597-49b3-928f-dd553fe62eaf",
   "metadata": {},
   "outputs": [
    {
     "data": {
      "image/png": "[encoded data removed]",
      "text/plain": [
       "<Figure size 1152x216 with 6 Axes>"
      ]
     },
     "metadata": {
      "needs_background": "light"
     },
     "output_type": "display_data"
    },
    {
     "data": {
      "image/png": "[encoded data removed]",
      "text/plain": [
       "<Figure size 1152x504 with 72 Axes>"
      ]
     },
     "metadata": {
      "needs_background": "light"
     },
     "output_type": "display_data"
    }
   ],
   "source": [
    "best_model.plot_filters(figname='trained')"
   ]
  },
  {
   "cell_type": "code",
   "execution_count": 15,
   "id": "c3f2c48b-8679-4743-836e-6e3ff8fa6b06",
   "metadata": {},
   "outputs": [
    {
     "data": {
      "image/png": "[encoded data removed]",
      "text/plain": [
       "<Figure size 1152x216 with 6 Axes>"
      ]
     },
     "metadata": {
      "needs_background": "light"
     },
     "output_type": "display_data"
    },
    {
     "data": {
      "image/png": "[encoded data removed]",
      "text/plain": [
       "<Figure size 1152x504 with 72 Axes>"
      ]
     },
     "metadata": {
      "needs_background": "light"
     },
     "output_type": "display_data"
    }
   ],
   "source": [
    "untrained_net = CNNMnistNet(10, [6,12], activation = nn.ReLU(), dropout=0)\n",
    "untrained_net.plot_filters(figname='untrained')"
   ]
  },
  {
   "cell_type": "markdown",
   "id": "07028211-e2aa-41a3-8573-6ea8205a12cc",
   "metadata": {
    "tags": []
   },
   "source": [
    "### Activation layer"
   ]
  },
  {
   "cell_type": "code",
   "execution_count": 16,
   "id": "b4bf888d-ecf3-4985-9b95-b4bde73236f6",
   "metadata": {},
   "outputs": [
    {
     "data": {
      "image/png": "[encoded data removed]",
      "text/plain": [
       "<Figure size 1152x216 with 6 Axes>"
      ]
     },
     "metadata": {
      "needs_background": "light"
     },
     "output_type": "display_data"
    },
    {
     "data": {
      "image/png": "[encoded data removed]",
      "text/plain": [
       "<Figure size 1152x432 with 12 Axes>"
      ]
     },
     "metadata": {
      "needs_background": "light"
     },
     "output_type": "display_data"
    }
   ],
   "source": [
    "best_model.plot_activations(figname='trained')\n"
   ]
  },
  {
   "cell_type": "code",
   "execution_count": 17,
   "id": "88b36037-6b7d-4ad3-9bf6-d5906821f7e9",
   "metadata": {},
   "outputs": [
    {
     "data": {
      "image/png": "[encoded data removed]",
      "text/plain": [
       "<Figure size 1152x216 with 6 Axes>"
      ]
     },
     "metadata": {
      "needs_background": "light"
     },
     "output_type": "display_data"
    },
    {
     "data": {
      "image/png": "[encoded data removed]",
      "text/plain": [
       "<Figure size 1152x432 with 12 Axes>"
      ]
     },
     "metadata": {
      "needs_background": "light"
     },
     "output_type": "display_data"
    }
   ],
   "source": [
    "untrained_net.to(device).plot_activations(figname='untrained')"
   ]
  },
  {
   "cell_type": "markdown",
   "id": "09434187-d318-4c27-b9b3-35041e87dd4e",
   "metadata": {},
   "source": [
    "## Appendix"
   ]
  },
  {
   "cell_type": "markdown",
   "id": "cd5a8e87-c90e-4149-b450-3014f5021fb3",
   "metadata": {},
   "source": [
    "### Data Augmentation"
   ]
  },
  {
   "cell_type": "code",
   "execution_count": 18,
   "id": "b1a7ff81-1f0f-4704-8777-65d640f92d6b",
   "metadata": {},
   "outputs": [],
   "source": [
    "augmentation = transforms.Compose(\n",
    "                    [transforms.ToTensor(),\n",
    "                     transforms.RandomVerticalFlip(p=0.5),\n",
    "                     transforms.RandomCrop(28,padding=2)])\n"
   ]
  },
  {
   "cell_type": "code",
   "execution_count": 19,
   "id": "fb7b1f18-1193-4ecd-a65b-3249afbe2158",
   "metadata": {},
   "outputs": [],
   "source": [
    "aug_train_dataset = torchvision.datasets.FashionMNIST('classifier_data', train=True, download=False,\n",
    "                                                     transform = augmentation )\n",
    "\n",
    "aug_train_dataloader = DataLoader(aug_train_dataset, batch_size = 100, shuffle=True, num_workers=0)\n"
   ]
  },
  {
   "cell_type": "code",
   "execution_count": 20,
   "id": "6af5d451-3976-45cf-b2ad-1635bdf69f42",
   "metadata": {
    "tags": []
   },
   "outputs": [
    {
     "data": {
      "image/png": "[encoded data removed]",
      "text/plain": [
       "<Figure size 288x432 with 2 Axes>"
      ]
     },
     "metadata": {
      "needs_background": "light"
     },
     "output_type": "display_data"
    },
    {
     "name": "stdout",
     "output_type": "stream",
     "text": [
      "Accuracy: 87.69 %\n"
     ]
    },
    {
     "data": {
      "image/png": "[encoded data removed]",
      "text/plain": [
       "<Figure size 432x360 with 2 Axes>"
      ]
     },
     "metadata": {
      "needs_background": "light"
     },
     "output_type": "display_data"
    }
   ],
   "source": [
    "if not load:\n",
    "    aug_model = CNNMnistNet(10, best_config['channels'], activation = best_config['activation'], dropout=best_config['dropout'])\n",
    "    aug_model.fit(aug_train_dataloader, 100, 5, best_config['loss'], 0, best_config['lr'], reg_term = best_config['reg'], test=True)\n",
    "\n",
    "    aug_model.compute_accuracy(heatmap=True, verbose=True)\n"
   ]
  },
  {
   "cell_type": "markdown",
   "id": "44647521-e372-4287-b228-a988ff3433f3",
   "metadata": {
    "tags": []
   },
   "source": [
    "### Transfer learning, intentional overkill"
   ]
  },
  {
   "cell_type": "code",
   "execution_count": 21,
   "id": "fe1eb526-c234-4a99-9522-aaa0d069234d",
   "metadata": {},
   "outputs": [],
   "source": [
    "class fashion_resnet(nn.Module):\n",
    "    '''\n",
    "    Modified pre-trained Resnet50\n",
    "    '''\n",
    "    def __init__(self):\n",
    "        super(fashion_resnet, self).__init__()\n",
    "\n",
    "        # Load a pretrained resnet model\n",
    "        self.model = torchvision.models.resnet50(pretrained=True)\n",
    "\n",
    "        # We are dealing with grayscale images, hence input parameters of Conv2d must be 1\n",
    "        self.model.conv1 = nn.Conv2d(1, 64, kernel_size=7, stride=2, padding=3, bias=False)\n",
    "    \n",
    "        # Change the output layer to output 10 classes instead of 1000 classes\n",
    "        num_ftrs = self.model.fc.in_features\n",
    "        self.model.fc = nn.Sequential(nn.Linear(num_ftrs, 256),\n",
    "                                      nn.ReLU(True),\n",
    "                                      nn.Dropout(.02),\n",
    "                                      nn.Linear(256,256),\n",
    "                                      nn.ReLU(True),\n",
    "                                      nn.Linear(256,10))\n",
    "                                      \n",
    "\n",
    "    def forward(self, x):\n",
    "        return self.model(x)\n",
    "    \n",
    "    def compute_accuracy(self, heatmap = False, verbose = False, examples=False):\n",
    "        '''\n",
    "        Compute accuracy of the model (%) from the testset\n",
    "        heatmap  = True shows heatmap\n",
    "        verbose  = True prints accuracy\n",
    "        examples = True display some examples\n",
    "        '''\n",
    "        self.to('cpu')\n",
    "        self.eval()\n",
    "        # Input and true label\n",
    "        x_test,y_test = next(iter(test_dataloader))\n",
    "        # Prediction\n",
    "        y_pred = self(x_test).argmax(dim=1)\n",
    "        \n",
    "        description = ['T-shirt/top','Trouser','Pullover',\n",
    "                   'Dress','Coat','Sandal','Shirt',\n",
    "                   'Sneaker','Bag','Ankle boot']\n",
    "        \n",
    "        misclas = 0\n",
    "        for i in range(len(y_pred) ):\n",
    "            if y_pred[i] != y_test[i]:\n",
    "                misclas = misclas + 1\n",
    "        \n",
    "        accuracy = 100*(len(y_pred) - misclas)/len(y_pred)\n",
    "        \n",
    "        if verbose:\n",
    "            print('Accuracy:', accuracy, '%' )\n",
    "            \n",
    "        if heatmap:\n",
    "            conf_mat = confusion_matrix(y_test, y_pred.cpu())\n",
    "            fig, ax = plt.subplots(figsize=(10,8))\n",
    "            plt.title('Heatmap')\n",
    "            sns.heatmap(conf_mat, annot=True, fmt='d',xticklabels=description, yticklabels=description)\n",
    "            plt.ylabel('Actual')\n",
    "            plt.xlabel('Predicted')\n",
    "            \n",
    "            if type(heatmap) is str:\n",
    "                plt.savefig('./imgs/classification/'+heatmap+'.svg', format='svg')\n",
    "            else:\n",
    "                plt.show()\n",
    "            \n",
    "        if examples:\n",
    "            indices = np.random.choice(np.arange(len(test_dataloader.dataset) ), size=5, replace=False)\n",
    "            \n",
    "            for index in indices:\n",
    "                image = np.array(x_test[index][0])\n",
    "                label = y_test[index]\n",
    "\n",
    "                fig = plt.figure(figsize=(3,3))\n",
    "                plt.imshow(image, cmap='Greys')\n",
    "    \n",
    "                print(f\"\\n\\nTrue Label: {description[label]}\")\n",
    "                print(f\"Prediction: {description[y_pred[index]]}\")\n",
    "    \n",
    "                plt.axis(\"off\")\n",
    "                plt.show()\n",
    "            \n",
    "        return accuracy\n",
    "    \n",
    "    def train_epoch(self, device, progress, loss_fn, optimizer, total_loss):\n",
    "        '''\n",
    "        Train the network for a single step\n",
    "        '''\n",
    "        self.train()\n",
    "        \n",
    "        # For each batch\n",
    "        for i, data in progress:\n",
    "            X, y = data[0].to(device), data[1].to(device) # X input, y label\n",
    "            \n",
    "            # training step for single batch\n",
    "            self.zero_grad()\n",
    "            pred = self(X)\n",
    "            loss = loss_fn(pred, y)\n",
    "            loss.backward()\n",
    "            optimizer.step()\n",
    "\n",
    "            # getting training quality data\n",
    "            current_loss = loss.item() # Extract loss value as float\n",
    "            total_loss += current_loss\n",
    "\n",
    "            # updating progress bar\n",
    "            progress.set_description(\"Loss: {:.4f}\".format(total_loss/(i+1)))\n",
    "        \n",
    "        # releasing unceseccary memory in GPU\n",
    "        if torch.cuda.is_available():\n",
    "            torch.cuda.empty_cache()\n",
    "        \n",
    "        return optimizer, total_loss\n",
    "    \n",
    "    def val_epoch(self, device, progress, loss_fn, optimizer, total_loss):\n",
    "        # set model to evaluating (testing)\n",
    "        self.eval()\n",
    "        misclas = 0\n",
    "        val_losses = 0\n",
    "        with torch.no_grad():\n",
    "            for i, data in enumerate(test_dataloader):\n",
    "                X, y = data[0].to(device), data[1].to(device)\n",
    "\n",
    "                pred = self(X) # this get's the prediction from the network\n",
    "\n",
    "                val_losses += loss_fn(pred, y)\n",
    "            \n",
    "        return total_loss\n",
    "                \n",
    "    \n",
    "    def trainingloop(self, epochs, loss_fn = nn.CrossEntropyLoss(), lr0=1e-3):\n",
    "        # Eventually move model to GPU\n",
    "        self.to(device)\n",
    "        \n",
    "        # Define optimizer\n",
    "        optimizer = torch.optim.Adam(self.parameters(), lr=lr0)\n",
    "        \n",
    "        batches = len(train_dataloader)\n",
    "        val_batches = len(test_dataloader)\n",
    "        \n",
    "        losses = []\n",
    "        for epoch in range(epochs):\n",
    "            total_loss = 0\n",
    "            progress = tqdm(enumerate(train_dataloader), desc=\"Loss: \", total=batches)\n",
    "            \n",
    "            # ----------------- TRAINING  --------------------\n",
    "            optimizer, total_loss = self.train_epoch(device, progress, loss_fn, optimizer, total_loss)\n",
    "            \n",
    "            # ----------------- VALIDATION  ----------------- \n",
    "            total_loss = self.val_epoch(device, progress, loss_fn, optimizer, total_loss)\n",
    "            \n",
    "            losses.append(total_loss/batches) # for plotting learning curve\n",
    "            \n",
    "        return losses\n",
    "            \n",
    "    def save(self, file=False):\n",
    "        '''\n",
    "        Just save the model in ./models folder.\n",
    "        if file = False it overwrites ./models/resnet.pth. else it saves it on the name specified\n",
    "        '''\n",
    "        if file:\n",
    "            torch.save(self.state_dict(), './models/'+str(file))\n",
    "        else:\n",
    "            torch.save(self.state_dict(), './models/resnet.pth')"
   ]
  },
  {
   "cell_type": "code",
   "execution_count": 22,
   "id": "c75521d5-7628-4b42-a969-9df593d396ae",
   "metadata": {},
   "outputs": [],
   "source": [
    "tmodel = fashion_resnet()\n"
   ]
  },
  {
   "cell_type": "code",
   "execution_count": 25,
   "id": "02b02496-b9ef-49cc-b527-ec5310e00f32",
   "metadata": {},
   "outputs": [
    {
     "data": {
      "application/vnd.jupyter.widget-view+json": {
       "model_id": "51a51ff238fd4ab0971f5d8e0ddf74ce",
       "version_major": 2,
       "version_minor": 0
      },
      "text/plain": [
       "Loss:   0%|          | 0/600 [00:00<?, ?it/s]"
      ]
     },
     "metadata": {},
     "output_type": "display_data"
    },
    {
     "data": {
      "application/vnd.jupyter.widget-view+json": {
       "model_id": "bb5253aeeb904c03ab9b5fed54ee2601",
       "version_major": 2,
       "version_minor": 0
      },
      "text/plain": [
       "Loss:   0%|          | 0/600 [00:00<?, ?it/s]"
      ]
     },
     "metadata": {},
     "output_type": "display_data"
    },
    {
     "data": {
      "application/vnd.jupyter.widget-view+json": {
       "model_id": "c23e905b2dd94e44806f37adc8513460",
       "version_major": 2,
       "version_minor": 0
      },
      "text/plain": [
       "Loss:   0%|          | 0/600 [00:00<?, ?it/s]"
      ]
     },
     "metadata": {},
     "output_type": "display_data"
    },
    {
     "data": {
      "application/vnd.jupyter.widget-view+json": {
       "model_id": "df34d498801e4a9da1c2d85d102abd9c",
       "version_major": 2,
       "version_minor": 0
      },
      "text/plain": [
       "Loss:   0%|          | 0/600 [00:00<?, ?it/s]"
      ]
     },
     "metadata": {},
     "output_type": "display_data"
    },
    {
     "data": {
      "application/vnd.jupyter.widget-view+json": {
       "model_id": "ca6119c28cd14b5db1b4d430f6f64e14",
       "version_major": 2,
       "version_minor": 0
      },
      "text/plain": [
       "Loss:   0%|          | 0/600 [00:00<?, ?it/s]"
      ]
     },
     "metadata": {},
     "output_type": "display_data"
    },
    {
     "data": {
      "application/vnd.jupyter.widget-view+json": {
       "model_id": "72d69af09bfe4d30a56d8e28c585a60c",
       "version_major": 2,
       "version_minor": 0
      },
      "text/plain": [
       "Loss:   0%|          | 0/600 [00:00<?, ?it/s]"
      ]
     },
     "metadata": {},
     "output_type": "display_data"
    },
    {
     "data": {
      "application/vnd.jupyter.widget-view+json": {
       "model_id": "8a7ddc2901c14e76ba3779044cf13e62",
       "version_major": 2,
       "version_minor": 0
      },
      "text/plain": [
       "Loss:   0%|          | 0/600 [00:00<?, ?it/s]"
      ]
     },
     "metadata": {},
     "output_type": "display_data"
    },
    {
     "data": {
      "application/vnd.jupyter.widget-view+json": {
       "model_id": "703e6ade03b74a00a51069e721f90929",
       "version_major": 2,
       "version_minor": 0
      },
      "text/plain": [
       "Loss:   0%|          | 0/600 [00:00<?, ?it/s]"
      ]
     },
     "metadata": {},
     "output_type": "display_data"
    },
    {
     "data": {
      "application/vnd.jupyter.widget-view+json": {
       "model_id": "c1842c8348d84e42b673640f6afd3fc8",
       "version_major": 2,
       "version_minor": 0
      },
      "text/plain": [
       "Loss:   0%|          | 0/600 [00:00<?, ?it/s]"
      ]
     },
     "metadata": {},
     "output_type": "display_data"
    },
    {
     "data": {
      "application/vnd.jupyter.widget-view+json": {
       "model_id": "6834f57dc3de49c2a0dd6f8f887aa2cf",
       "version_major": 2,
       "version_minor": 0
      },
      "text/plain": [
       "Loss:   0%|          | 0/600 [00:00<?, ?it/s]"
      ]
     },
     "metadata": {},
     "output_type": "display_data"
    },
    {
     "data": {
      "application/vnd.jupyter.widget-view+json": {
       "model_id": "3d0efc916bb445bb97f394dfa27a437e",
       "version_major": 2,
       "version_minor": 0
      },
      "text/plain": [
       "Loss:   0%|          | 0/600 [00:00<?, ?it/s]"
      ]
     },
     "metadata": {},
     "output_type": "display_data"
    },
    {
     "data": {
      "application/vnd.jupyter.widget-view+json": {
       "model_id": "4f99c7a9918e4d939b8cb82c73a434f0",
       "version_major": 2,
       "version_minor": 0
      },
      "text/plain": [
       "Loss:   0%|          | 0/600 [00:00<?, ?it/s]"
      ]
     },
     "metadata": {},
     "output_type": "display_data"
    },
    {
     "data": {
      "application/vnd.jupyter.widget-view+json": {
       "model_id": "077e9f59a898416b96144dde60abe75b",
       "version_major": 2,
       "version_minor": 0
      },
      "text/plain": [
       "Loss:   0%|          | 0/600 [00:00<?, ?it/s]"
      ]
     },
     "metadata": {},
     "output_type": "display_data"
    },
    {
     "data": {
      "application/vnd.jupyter.widget-view+json": {
       "model_id": "42b52eea28354ee9b2336e19f5b2b14a",
       "version_major": 2,
       "version_minor": 0
      },
      "text/plain": [
       "Loss:   0%|          | 0/600 [00:00<?, ?it/s]"
      ]
     },
     "metadata": {},
     "output_type": "display_data"
    },
    {
     "data": {
      "application/vnd.jupyter.widget-view+json": {
       "model_id": "d691db4543d843e9b33a4691323c1679",
       "version_major": 2,
       "version_minor": 0
      },
      "text/plain": [
       "Loss:   0%|          | 0/600 [00:00<?, ?it/s]"
      ]
     },
     "metadata": {},
     "output_type": "display_data"
    },
    {
     "data": {
      "application/vnd.jupyter.widget-view+json": {
       "model_id": "a3377fd7a30d4c6385e155ac10c1f0e8",
       "version_major": 2,
       "version_minor": 0
      },
      "text/plain": [
       "Loss:   0%|          | 0/600 [00:00<?, ?it/s]"
      ]
     },
     "metadata": {},
     "output_type": "display_data"
    },
    {
     "data": {
      "application/vnd.jupyter.widget-view+json": {
       "model_id": "c24b2148db4b46bab4bd857e38ae367e",
       "version_major": 2,
       "version_minor": 0
      },
      "text/plain": [
       "Loss:   0%|          | 0/600 [00:00<?, ?it/s]"
      ]
     },
     "metadata": {},
     "output_type": "display_data"
    },
    {
     "data": {
      "application/vnd.jupyter.widget-view+json": {
       "model_id": "296e22be4d244a4faec3deeecff049c2",
       "version_major": 2,
       "version_minor": 0
      },
      "text/plain": [
       "Loss:   0%|          | 0/600 [00:00<?, ?it/s]"
      ]
     },
     "metadata": {},
     "output_type": "display_data"
    },
    {
     "data": {
      "application/vnd.jupyter.widget-view+json": {
       "model_id": "0020dbd367d043d792ac34db3f61e257",
       "version_major": 2,
       "version_minor": 0
      },
      "text/plain": [
       "Loss:   0%|          | 0/600 [00:00<?, ?it/s]"
      ]
     },
     "metadata": {},
     "output_type": "display_data"
    },
    {
     "data": {
      "application/vnd.jupyter.widget-view+json": {
       "model_id": "0909b3c9b28f4d3eadf9f5ff053e71d0",
       "version_major": 2,
       "version_minor": 0
      },
      "text/plain": [
       "Loss:   0%|          | 0/600 [00:00<?, ?it/s]"
      ]
     },
     "metadata": {},
     "output_type": "display_data"
    },
    {
     "data": {
      "application/vnd.jupyter.widget-view+json": {
       "model_id": "de960917fe7f40579f9c99985afad03f",
       "version_major": 2,
       "version_minor": 0
      },
      "text/plain": [
       "Loss:   0%|          | 0/600 [00:00<?, ?it/s]"
      ]
     },
     "metadata": {},
     "output_type": "display_data"
    },
    {
     "data": {
      "application/vnd.jupyter.widget-view+json": {
       "model_id": "f9be76486b904b45ae5c1539e87716f8",
       "version_major": 2,
       "version_minor": 0
      },
      "text/plain": [
       "Loss:   0%|          | 0/600 [00:00<?, ?it/s]"
      ]
     },
     "metadata": {},
     "output_type": "display_data"
    },
    {
     "data": {
      "application/vnd.jupyter.widget-view+json": {
       "model_id": "4f8891bf7599416da6d4ffe028982149",
       "version_major": 2,
       "version_minor": 0
      },
      "text/plain": [
       "Loss:   0%|          | 0/600 [00:00<?, ?it/s]"
      ]
     },
     "metadata": {},
     "output_type": "display_data"
    },
    {
     "data": {
      "application/vnd.jupyter.widget-view+json": {
       "model_id": "ef233362d9a54991b89b7fa1c57670a7",
       "version_major": 2,
       "version_minor": 0
      },
      "text/plain": [
       "Loss:   0%|          | 0/600 [00:00<?, ?it/s]"
      ]
     },
     "metadata": {},
     "output_type": "display_data"
    },
    {
     "data": {
      "application/vnd.jupyter.widget-view+json": {
       "model_id": "be6575456d7847ce8d2c0554692259ea",
       "version_major": 2,
       "version_minor": 0
      },
      "text/plain": [
       "Loss:   0%|          | 0/600 [00:00<?, ?it/s]"
      ]
     },
     "metadata": {},
     "output_type": "display_data"
    },
    {
     "data": {
      "application/vnd.jupyter.widget-view+json": {
       "model_id": "f5ad976fc3d54af6881339117f37c663",
       "version_major": 2,
       "version_minor": 0
      },
      "text/plain": [
       "Loss:   0%|          | 0/600 [00:00<?, ?it/s]"
      ]
     },
     "metadata": {},
     "output_type": "display_data"
    },
    {
     "data": {
      "application/vnd.jupyter.widget-view+json": {
       "model_id": "6a6475c7d62c4826a9be0ad64c9da577",
       "version_major": 2,
       "version_minor": 0
      },
      "text/plain": [
       "Loss:   0%|          | 0/600 [00:00<?, ?it/s]"
      ]
     },
     "metadata": {},
     "output_type": "display_data"
    },
    {
     "data": {
      "application/vnd.jupyter.widget-view+json": {
       "model_id": "76fcd91d9bf64174ba96b3b50dc9421c",
       "version_major": 2,
       "version_minor": 0
      },
      "text/plain": [
       "Loss:   0%|          | 0/600 [00:00<?, ?it/s]"
      ]
     },
     "metadata": {},
     "output_type": "display_data"
    },
    {
     "data": {
      "application/vnd.jupyter.widget-view+json": {
       "model_id": "904aa49d8a4c4d2b92f8f8d8d5d54118",
       "version_major": 2,
       "version_minor": 0
      },
      "text/plain": [
       "Loss:   0%|          | 0/600 [00:00<?, ?it/s]"
      ]
     },
     "metadata": {},
     "output_type": "display_data"
    },
    {
     "data": {
      "application/vnd.jupyter.widget-view+json": {
       "model_id": "2eb92e6fbbc04800a561798796a7d2b2",
       "version_major": 2,
       "version_minor": 0
      },
      "text/plain": [
       "Loss:   0%|          | 0/600 [00:00<?, ?it/s]"
      ]
     },
     "metadata": {},
     "output_type": "display_data"
    },
    {
     "data": {
      "application/vnd.jupyter.widget-view+json": {
       "model_id": "7011311932f949fa987c17b489321837",
       "version_major": 2,
       "version_minor": 0
      },
      "text/plain": [
       "Loss:   0%|          | 0/600 [00:00<?, ?it/s]"
      ]
     },
     "metadata": {},
     "output_type": "display_data"
    },
    {
     "data": {
      "application/vnd.jupyter.widget-view+json": {
       "model_id": "77b6d81fe5ff4a659a09fff8bb891951",
       "version_major": 2,
       "version_minor": 0
      },
      "text/plain": [
       "Loss:   0%|          | 0/600 [00:00<?, ?it/s]"
      ]
     },
     "metadata": {},
     "output_type": "display_data"
    },
    {
     "data": {
      "application/vnd.jupyter.widget-view+json": {
       "model_id": "a499535abc6141958887faa55cfee7f8",
       "version_major": 2,
       "version_minor": 0
      },
      "text/plain": [
       "Loss:   0%|          | 0/600 [00:00<?, ?it/s]"
      ]
     },
     "metadata": {},
     "output_type": "display_data"
    },
    {
     "data": {
      "application/vnd.jupyter.widget-view+json": {
       "model_id": "5fc777612bf649d78ce652a0c35b0fd4",
       "version_major": 2,
       "version_minor": 0
      },
      "text/plain": [
       "Loss:   0%|          | 0/600 [00:00<?, ?it/s]"
      ]
     },
     "metadata": {},
     "output_type": "display_data"
    },
    {
     "data": {
      "application/vnd.jupyter.widget-view+json": {
       "model_id": "68ba38c9d4ec4705863ecc9d8de19017",
       "version_major": 2,
       "version_minor": 0
      },
      "text/plain": [
       "Loss:   0%|          | 0/600 [00:00<?, ?it/s]"
      ]
     },
     "metadata": {},
     "output_type": "display_data"
    },
    {
     "data": {
      "application/vnd.jupyter.widget-view+json": {
       "model_id": "342a78c6f37e45a88324a1f21a98c8ee",
       "version_major": 2,
       "version_minor": 0
      },
      "text/plain": [
       "Loss:   0%|          | 0/600 [00:00<?, ?it/s]"
      ]
     },
     "metadata": {},
     "output_type": "display_data"
    },
    {
     "data": {
      "application/vnd.jupyter.widget-view+json": {
       "model_id": "4a76eb14c35e4e2eb9aa5f7d105ca039",
       "version_major": 2,
       "version_minor": 0
      },
      "text/plain": [
       "Loss:   0%|          | 0/600 [00:00<?, ?it/s]"
      ]
     },
     "metadata": {},
     "output_type": "display_data"
    },
    {
     "data": {
      "application/vnd.jupyter.widget-view+json": {
       "model_id": "752c6571b55f4385a9f9e735dc0cfe13",
       "version_major": 2,
       "version_minor": 0
      },
      "text/plain": [
       "Loss:   0%|          | 0/600 [00:00<?, ?it/s]"
      ]
     },
     "metadata": {},
     "output_type": "display_data"
    },
    {
     "data": {
      "application/vnd.jupyter.widget-view+json": {
       "model_id": "27f9cc6dc9d443fea8713a2d1299e388",
       "version_major": 2,
       "version_minor": 0
      },
      "text/plain": [
       "Loss:   0%|          | 0/600 [00:00<?, ?it/s]"
      ]
     },
     "metadata": {},
     "output_type": "display_data"
    },
    {
     "data": {
      "application/vnd.jupyter.widget-view+json": {
       "model_id": "3b66228db7b5494c9aaacc6836da7fe5",
       "version_major": 2,
       "version_minor": 0
      },
      "text/plain": [
       "Loss:   0%|          | 0/600 [00:00<?, ?it/s]"
      ]
     },
     "metadata": {},
     "output_type": "display_data"
    },
    {
     "data": {
      "application/vnd.jupyter.widget-view+json": {
       "model_id": "4175703068b1411284a78204c69aedd9",
       "version_major": 2,
       "version_minor": 0
      },
      "text/plain": [
       "Loss:   0%|          | 0/600 [00:00<?, ?it/s]"
      ]
     },
     "metadata": {},
     "output_type": "display_data"
    },
    {
     "data": {
      "application/vnd.jupyter.widget-view+json": {
       "model_id": "98116350ea1d43b18052112b5ef186a5",
       "version_major": 2,
       "version_minor": 0
      },
      "text/plain": [
       "Loss:   0%|          | 0/600 [00:00<?, ?it/s]"
      ]
     },
     "metadata": {},
     "output_type": "display_data"
    },
    {
     "data": {
      "application/vnd.jupyter.widget-view+json": {
       "model_id": "46d3826deb5040f19ca2825b21f076c2",
       "version_major": 2,
       "version_minor": 0
      },
      "text/plain": [
       "Loss:   0%|          | 0/600 [00:00<?, ?it/s]"
      ]
     },
     "metadata": {},
     "output_type": "display_data"
    },
    {
     "data": {
      "application/vnd.jupyter.widget-view+json": {
       "model_id": "e4d0061ce3e1472585d1d9be2be6b760",
       "version_major": 2,
       "version_minor": 0
      },
      "text/plain": [
       "Loss:   0%|          | 0/600 [00:00<?, ?it/s]"
      ]
     },
     "metadata": {},
     "output_type": "display_data"
    },
    {
     "data": {
      "application/vnd.jupyter.widget-view+json": {
       "model_id": "e7163616d22442c1a1a1b4e016a73e33",
       "version_major": 2,
       "version_minor": 0
      },
      "text/plain": [
       "Loss:   0%|          | 0/600 [00:00<?, ?it/s]"
      ]
     },
     "metadata": {},
     "output_type": "display_data"
    },
    {
     "data": {
      "application/vnd.jupyter.widget-view+json": {
       "model_id": "b7c9870f7d164f32833c9bf0ef9ab5cc",
       "version_major": 2,
       "version_minor": 0
      },
      "text/plain": [
       "Loss:   0%|          | 0/600 [00:00<?, ?it/s]"
      ]
     },
     "metadata": {},
     "output_type": "display_data"
    },
    {
     "data": {
      "application/vnd.jupyter.widget-view+json": {
       "model_id": "09bfdb301329403b9a4e4df181c4a23b",
       "version_major": 2,
       "version_minor": 0
      },
      "text/plain": [
       "Loss:   0%|          | 0/600 [00:00<?, ?it/s]"
      ]
     },
     "metadata": {},
     "output_type": "display_data"
    },
    {
     "data": {
      "application/vnd.jupyter.widget-view+json": {
       "model_id": "a277e07c94674e39bd268c3d8038f103",
       "version_major": 2,
       "version_minor": 0
      },
      "text/plain": [
       "Loss:   0%|          | 0/600 [00:00<?, ?it/s]"
      ]
     },
     "metadata": {},
     "output_type": "display_data"
    },
    {
     "data": {
      "application/vnd.jupyter.widget-view+json": {
       "model_id": "baf0f055a5674715a83533dc0d4c4ca9",
       "version_major": 2,
       "version_minor": 0
      },
      "text/plain": [
       "Loss:   0%|          | 0/600 [00:00<?, ?it/s]"
      ]
     },
     "metadata": {},
     "output_type": "display_data"
    },
    {
     "data": {
      "application/vnd.jupyter.widget-view+json": {
       "model_id": "8942060087a24fc689d2634bcb094b55",
       "version_major": 2,
       "version_minor": 0
      },
      "text/plain": [
       "Loss:   0%|          | 0/600 [00:00<?, ?it/s]"
      ]
     },
     "metadata": {},
     "output_type": "display_data"
    },
    {
     "data": {
      "application/vnd.jupyter.widget-view+json": {
       "model_id": "190e124c78084e99aac93f2d42c94d33",
       "version_major": 2,
       "version_minor": 0
      },
      "text/plain": [
       "Loss:   0%|          | 0/600 [00:00<?, ?it/s]"
      ]
     },
     "metadata": {},
     "output_type": "display_data"
    },
    {
     "data": {
      "application/vnd.jupyter.widget-view+json": {
       "model_id": "05786238b785427980ba491466153eac",
       "version_major": 2,
       "version_minor": 0
      },
      "text/plain": [
       "Loss:   0%|          | 0/600 [00:00<?, ?it/s]"
      ]
     },
     "metadata": {},
     "output_type": "display_data"
    },
    {
     "data": {
      "application/vnd.jupyter.widget-view+json": {
       "model_id": "a6287abc34d444379b1cdf33562d6c12",
       "version_major": 2,
       "version_minor": 0
      },
      "text/plain": [
       "Loss:   0%|          | 0/600 [00:00<?, ?it/s]"
      ]
     },
     "metadata": {},
     "output_type": "display_data"
    },
    {
     "data": {
      "application/vnd.jupyter.widget-view+json": {
       "model_id": "69c3a6ea8f7b41c2b99650b5bc63dbbf",
       "version_major": 2,
       "version_minor": 0
      },
      "text/plain": [
       "Loss:   0%|          | 0/600 [00:00<?, ?it/s]"
      ]
     },
     "metadata": {},
     "output_type": "display_data"
    },
    {
     "data": {
      "application/vnd.jupyter.widget-view+json": {
       "model_id": "c51277beded74427ab35cfd39d78ec5c",
       "version_major": 2,
       "version_minor": 0
      },
      "text/plain": [
       "Loss:   0%|          | 0/600 [00:00<?, ?it/s]"
      ]
     },
     "metadata": {},
     "output_type": "display_data"
    },
    {
     "data": {
      "application/vnd.jupyter.widget-view+json": {
       "model_id": "4ff9a6ab8a22483190c60caf4cf326bd",
       "version_major": 2,
       "version_minor": 0
      },
      "text/plain": [
       "Loss:   0%|          | 0/600 [00:00<?, ?it/s]"
      ]
     },
     "metadata": {},
     "output_type": "display_data"
    },
    {
     "data": {
      "application/vnd.jupyter.widget-view+json": {
       "model_id": "3355e187c1704ca7a25e589f5b9ef20f",
       "version_major": 2,
       "version_minor": 0
      },
      "text/plain": [
       "Loss:   0%|          | 0/600 [00:00<?, ?it/s]"
      ]
     },
     "metadata": {},
     "output_type": "display_data"
    },
    {
     "data": {
      "application/vnd.jupyter.widget-view+json": {
       "model_id": "0990a23c017546a3b8e9d39723981cc0",
       "version_major": 2,
       "version_minor": 0
      },
      "text/plain": [
       "Loss:   0%|          | 0/600 [00:00<?, ?it/s]"
      ]
     },
     "metadata": {},
     "output_type": "display_data"
    },
    {
     "data": {
      "application/vnd.jupyter.widget-view+json": {
       "model_id": "41d5b85bbbff46daa30edc7241e3d01a",
       "version_major": 2,
       "version_minor": 0
      },
      "text/plain": [
       "Loss:   0%|          | 0/600 [00:00<?, ?it/s]"
      ]
     },
     "metadata": {},
     "output_type": "display_data"
    },
    {
     "data": {
      "application/vnd.jupyter.widget-view+json": {
       "model_id": "820ef25964644364a07649ac23ab6cfe",
       "version_major": 2,
       "version_minor": 0
      },
      "text/plain": [
       "Loss:   0%|          | 0/600 [00:00<?, ?it/s]"
      ]
     },
     "metadata": {},
     "output_type": "display_data"
    },
    {
     "data": {
      "application/vnd.jupyter.widget-view+json": {
       "model_id": "357ae0a64c6e4305a7efa1087fccdd20",
       "version_major": 2,
       "version_minor": 0
      },
      "text/plain": [
       "Loss:   0%|          | 0/600 [00:00<?, ?it/s]"
      ]
     },
     "metadata": {},
     "output_type": "display_data"
    },
    {
     "data": {
      "application/vnd.jupyter.widget-view+json": {
       "model_id": "f04efa737a724644825399ac23fb42af",
       "version_major": 2,
       "version_minor": 0
      },
      "text/plain": [
       "Loss:   0%|          | 0/600 [00:00<?, ?it/s]"
      ]
     },
     "metadata": {},
     "output_type": "display_data"
    },
    {
     "data": {
      "application/vnd.jupyter.widget-view+json": {
       "model_id": "45636ff5bd664f939792e0dc8d5d8093",
       "version_major": 2,
       "version_minor": 0
      },
      "text/plain": [
       "Loss:   0%|          | 0/600 [00:00<?, ?it/s]"
      ]
     },
     "metadata": {},
     "output_type": "display_data"
    },
    {
     "data": {
      "application/vnd.jupyter.widget-view+json": {
       "model_id": "2bdfd022295c4c19ac57489a5253e721",
       "version_major": 2,
       "version_minor": 0
      },
      "text/plain": [
       "Loss:   0%|          | 0/600 [00:00<?, ?it/s]"
      ]
     },
     "metadata": {},
     "output_type": "display_data"
    },
    {
     "data": {
      "application/vnd.jupyter.widget-view+json": {
       "model_id": "062cd5f2df4046658ec4777adfd7c9f3",
       "version_major": 2,
       "version_minor": 0
      },
      "text/plain": [
       "Loss:   0%|          | 0/600 [00:00<?, ?it/s]"
      ]
     },
     "metadata": {},
     "output_type": "display_data"
    },
    {
     "data": {
      "application/vnd.jupyter.widget-view+json": {
       "model_id": "16adc8d77d304eedbea405462bb1ff0e",
       "version_major": 2,
       "version_minor": 0
      },
      "text/plain": [
       "Loss:   0%|          | 0/600 [00:00<?, ?it/s]"
      ]
     },
     "metadata": {},
     "output_type": "display_data"
    },
    {
     "data": {
      "application/vnd.jupyter.widget-view+json": {
       "model_id": "9c2dcd68d6b940339f110ada5eba3942",
       "version_major": 2,
       "version_minor": 0
      },
      "text/plain": [
       "Loss:   0%|          | 0/600 [00:00<?, ?it/s]"
      ]
     },
     "metadata": {},
     "output_type": "display_data"
    },
    {
     "data": {
      "application/vnd.jupyter.widget-view+json": {
       "model_id": "a11c273ff58741fc9777f2fe6989df7d",
       "version_major": 2,
       "version_minor": 0
      },
      "text/plain": [
       "Loss:   0%|          | 0/600 [00:00<?, ?it/s]"
      ]
     },
     "metadata": {},
     "output_type": "display_data"
    },
    {
     "data": {
      "application/vnd.jupyter.widget-view+json": {
       "model_id": "dbacf6db789049ff8d467de5cbce60ee",
       "version_major": 2,
       "version_minor": 0
      },
      "text/plain": [
       "Loss:   0%|          | 0/600 [00:00<?, ?it/s]"
      ]
     },
     "metadata": {},
     "output_type": "display_data"
    },
    {
     "data": {
      "application/vnd.jupyter.widget-view+json": {
       "model_id": "1aac362dec44436d8fcb3cfb932c9a46",
       "version_major": 2,
       "version_minor": 0
      },
      "text/plain": [
       "Loss:   0%|          | 0/600 [00:00<?, ?it/s]"
      ]
     },
     "metadata": {},
     "output_type": "display_data"
    },
    {
     "data": {
      "application/vnd.jupyter.widget-view+json": {
       "model_id": "4e44c4234203408eab551bdc7ee7d3c5",
       "version_major": 2,
       "version_minor": 0
      },
      "text/plain": [
       "Loss:   0%|          | 0/600 [00:00<?, ?it/s]"
      ]
     },
     "metadata": {},
     "output_type": "display_data"
    },
    {
     "data": {
      "application/vnd.jupyter.widget-view+json": {
       "model_id": "16e399b5cff84bd6ae1fd18a04362db6",
       "version_major": 2,
       "version_minor": 0
      },
      "text/plain": [
       "Loss:   0%|          | 0/600 [00:00<?, ?it/s]"
      ]
     },
     "metadata": {},
     "output_type": "display_data"
    },
    {
     "data": {
      "application/vnd.jupyter.widget-view+json": {
       "model_id": "b0b10e3202dc4510b4c0c35be1bff04e",
       "version_major": 2,
       "version_minor": 0
      },
      "text/plain": [
       "Loss:   0%|          | 0/600 [00:00<?, ?it/s]"
      ]
     },
     "metadata": {},
     "output_type": "display_data"
    },
    {
     "data": {
      "application/vnd.jupyter.widget-view+json": {
       "model_id": "5ffa8320d92444759919b19885d03adf",
       "version_major": 2,
       "version_minor": 0
      },
      "text/plain": [
       "Loss:   0%|          | 0/600 [00:00<?, ?it/s]"
      ]
     },
     "metadata": {},
     "output_type": "display_data"
    },
    {
     "data": {
      "application/vnd.jupyter.widget-view+json": {
       "model_id": "a30eb4952e194c9bb21c54ec9008fc0b",
       "version_major": 2,
       "version_minor": 0
      },
      "text/plain": [
       "Loss:   0%|          | 0/600 [00:00<?, ?it/s]"
      ]
     },
     "metadata": {},
     "output_type": "display_data"
    },
    {
     "data": {
      "application/vnd.jupyter.widget-view+json": {
       "model_id": "3207d99c4e234cf3a41ed2ea40927202",
       "version_major": 2,
       "version_minor": 0
      },
      "text/plain": [
       "Loss:   0%|          | 0/600 [00:00<?, ?it/s]"
      ]
     },
     "metadata": {},
     "output_type": "display_data"
    },
    {
     "data": {
      "application/vnd.jupyter.widget-view+json": {
       "model_id": "df4a367c7c5e456cbdb4bc45912c0da9",
       "version_major": 2,
       "version_minor": 0
      },
      "text/plain": [
       "Loss:   0%|          | 0/600 [00:00<?, ?it/s]"
      ]
     },
     "metadata": {},
     "output_type": "display_data"
    },
    {
     "data": {
      "application/vnd.jupyter.widget-view+json": {
       "model_id": "7be1231fa0c04ed3aca164024b23df5a",
       "version_major": 2,
       "version_minor": 0
      },
      "text/plain": [
       "Loss:   0%|          | 0/600 [00:00<?, ?it/s]"
      ]
     },
     "metadata": {},
     "output_type": "display_data"
    },
    {
     "data": {
      "application/vnd.jupyter.widget-view+json": {
       "model_id": "6eee1c5ed6cc43cbbce8ecc39f2bb685",
       "version_major": 2,
       "version_minor": 0
      },
      "text/plain": [
       "Loss:   0%|          | 0/600 [00:00<?, ?it/s]"
      ]
     },
     "metadata": {},
     "output_type": "display_data"
    },
    {
     "data": {
      "application/vnd.jupyter.widget-view+json": {
       "model_id": "fd37f87320a448f8b742260f24d7b457",
       "version_major": 2,
       "version_minor": 0
      },
      "text/plain": [
       "Loss:   0%|          | 0/600 [00:00<?, ?it/s]"
      ]
     },
     "metadata": {},
     "output_type": "display_data"
    },
    {
     "data": {
      "application/vnd.jupyter.widget-view+json": {
       "model_id": "8692835ab0e3427c85db0e63784ca4dd",
       "version_major": 2,
       "version_minor": 0
      },
      "text/plain": [
       "Loss:   0%|          | 0/600 [00:00<?, ?it/s]"
      ]
     },
     "metadata": {},
     "output_type": "display_data"
    },
    {
     "data": {
      "application/vnd.jupyter.widget-view+json": {
       "model_id": "5a20a430f6114e708863b4e987556c08",
       "version_major": 2,
       "version_minor": 0
      },
      "text/plain": [
       "Loss:   0%|          | 0/600 [00:00<?, ?it/s]"
      ]
     },
     "metadata": {},
     "output_type": "display_data"
    },
    {
     "data": {
      "application/vnd.jupyter.widget-view+json": {
       "model_id": "1daec60912d240a9887e28fc0834a354",
       "version_major": 2,
       "version_minor": 0
      },
      "text/plain": [
       "Loss:   0%|          | 0/600 [00:00<?, ?it/s]"
      ]
     },
     "metadata": {},
     "output_type": "display_data"
    },
    {
     "data": {
      "application/vnd.jupyter.widget-view+json": {
       "model_id": "972293e88fb9440f90c7a4c93d10058f",
       "version_major": 2,
       "version_minor": 0
      },
      "text/plain": [
       "Loss:   0%|          | 0/600 [00:00<?, ?it/s]"
      ]
     },
     "metadata": {},
     "output_type": "display_data"
    },
    {
     "data": {
      "application/vnd.jupyter.widget-view+json": {
       "model_id": "e5ff057fa9c043449cdc9fdf518c6267",
       "version_major": 2,
       "version_minor": 0
      },
      "text/plain": [
       "Loss:   0%|          | 0/600 [00:00<?, ?it/s]"
      ]
     },
     "metadata": {},
     "output_type": "display_data"
    },
    {
     "data": {
      "application/vnd.jupyter.widget-view+json": {
       "model_id": "10d5a4f2775148c5ba21f44a2db91911",
       "version_major": 2,
       "version_minor": 0
      },
      "text/plain": [
       "Loss:   0%|          | 0/600 [00:00<?, ?it/s]"
      ]
     },
     "metadata": {},
     "output_type": "display_data"
    },
    {
     "data": {
      "application/vnd.jupyter.widget-view+json": {
       "model_id": "a29188cc92654ba0b9937cc2f148e471",
       "version_major": 2,
       "version_minor": 0
      },
      "text/plain": [
       "Loss:   0%|          | 0/600 [00:00<?, ?it/s]"
      ]
     },
     "metadata": {},
     "output_type": "display_data"
    },
    {
     "data": {
      "application/vnd.jupyter.widget-view+json": {
       "model_id": "258848440d2947e9b2f7bed6bbceb18f",
       "version_major": 2,
       "version_minor": 0
      },
      "text/plain": [
       "Loss:   0%|          | 0/600 [00:00<?, ?it/s]"
      ]
     },
     "metadata": {},
     "output_type": "display_data"
    },
    {
     "data": {
      "application/vnd.jupyter.widget-view+json": {
       "model_id": "ba4ed9360bc34727b66a6297379a959e",
       "version_major": 2,
       "version_minor": 0
      },
      "text/plain": [
       "Loss:   0%|          | 0/600 [00:00<?, ?it/s]"
      ]
     },
     "metadata": {},
     "output_type": "display_data"
    },
    {
     "data": {
      "application/vnd.jupyter.widget-view+json": {
       "model_id": "a27f9172d13c400496a27228dfb18a06",
       "version_major": 2,
       "version_minor": 0
      },
      "text/plain": [
       "Loss:   0%|          | 0/600 [00:00<?, ?it/s]"
      ]
     },
     "metadata": {},
     "output_type": "display_data"
    },
    {
     "data": {
      "application/vnd.jupyter.widget-view+json": {
       "model_id": "ea554334ef7b40eca3fc0007102989eb",
       "version_major": 2,
       "version_minor": 0
      },
      "text/plain": [
       "Loss:   0%|          | 0/600 [00:00<?, ?it/s]"
      ]
     },
     "metadata": {},
     "output_type": "display_data"
    },
    {
     "data": {
      "application/vnd.jupyter.widget-view+json": {
       "model_id": "7b599221b14544688d1db65c86d06339",
       "version_major": 2,
       "version_minor": 0
      },
      "text/plain": [
       "Loss:   0%|          | 0/600 [00:00<?, ?it/s]"
      ]
     },
     "metadata": {},
     "output_type": "display_data"
    },
    {
     "data": {
      "application/vnd.jupyter.widget-view+json": {
       "model_id": "ed2b76bdcc1449b0a9b8a4f1832c302d",
       "version_major": 2,
       "version_minor": 0
      },
      "text/plain": [
       "Loss:   0%|          | 0/600 [00:00<?, ?it/s]"
      ]
     },
     "metadata": {},
     "output_type": "display_data"
    },
    {
     "data": {
      "application/vnd.jupyter.widget-view+json": {
       "model_id": "a72b29e087ed48a295fc2aaac8043e4e",
       "version_major": 2,
       "version_minor": 0
      },
      "text/plain": [
       "Loss:   0%|          | 0/600 [00:00<?, ?it/s]"
      ]
     },
     "metadata": {},
     "output_type": "display_data"
    },
    {
     "data": {
      "application/vnd.jupyter.widget-view+json": {
       "model_id": "2864cb286e914a91b7d1ffdcd6f164f7",
       "version_major": 2,
       "version_minor": 0
      },
      "text/plain": [
       "Loss:   0%|          | 0/600 [00:00<?, ?it/s]"
      ]
     },
     "metadata": {},
     "output_type": "display_data"
    },
    {
     "data": {
      "application/vnd.jupyter.widget-view+json": {
       "model_id": "7a498776b283486fb8554f203e38b842",
       "version_major": 2,
       "version_minor": 0
      },
      "text/plain": [
       "Loss:   0%|          | 0/600 [00:00<?, ?it/s]"
      ]
     },
     "metadata": {},
     "output_type": "display_data"
    },
    {
     "data": {
      "application/vnd.jupyter.widget-view+json": {
       "model_id": "0af42f0d9c954751a390852e2c191c21",
       "version_major": 2,
       "version_minor": 0
      },
      "text/plain": [
       "Loss:   0%|          | 0/600 [00:00<?, ?it/s]"
      ]
     },
     "metadata": {},
     "output_type": "display_data"
    },
    {
     "data": {
      "application/vnd.jupyter.widget-view+json": {
       "model_id": "bcc067ace6084de2a170463cf948632c",
       "version_major": 2,
       "version_minor": 0
      },
      "text/plain": [
       "Loss:   0%|          | 0/600 [00:00<?, ?it/s]"
      ]
     },
     "metadata": {},
     "output_type": "display_data"
    },
    {
     "data": {
      "application/vnd.jupyter.widget-view+json": {
       "model_id": "6e932f8fa6a24ab7814a424a59af6c2c",
       "version_major": 2,
       "version_minor": 0
      },
      "text/plain": [
       "Loss:   0%|          | 0/600 [00:00<?, ?it/s]"
      ]
     },
     "metadata": {},
     "output_type": "display_data"
    },
    {
     "data": {
      "application/vnd.jupyter.widget-view+json": {
       "model_id": "63571840947f499a8acf0b60eb99fb5f",
       "version_major": 2,
       "version_minor": 0
      },
      "text/plain": [
       "Loss:   0%|          | 0/600 [00:00<?, ?it/s]"
      ]
     },
     "metadata": {},
     "output_type": "display_data"
    }
   ],
   "source": [
    "if not load:\n",
    "    tmodel.trainingloop(100)\n",
    "    torch.save(tmodel.state_dict(), './models/resnet.pth')\n",
    "else:\n",
    "    tmodel.load_state_dict(torch.load('./models/resnet.pth'))\n",
    "    "
   ]
  },
  {
   "cell_type": "code",
   "execution_count": 26,
   "id": "2e781965-0bdc-4416-a8df-092069c5cb23",
   "metadata": {},
   "outputs": [
    {
     "name": "stdout",
     "output_type": "stream",
     "text": [
      "Accuracy: 91.57 %\n"
     ]
    },
    {
     "data": {
      "text/plain": [
       "91.57"
      ]
     },
     "execution_count": 26,
     "metadata": {},
     "output_type": "execute_result"
    },
    {
     "data": {
      "image/png": "[encoded data removed]",
      "text/plain": [
       "<Figure size 720x576 with 2 Axes>"
      ]
     },
     "metadata": {
      "needs_background": "light"
     },
     "output_type": "display_data"
    }
   ],
   "source": [
    "tmodel.compute_accuracy(heatmap='resnet_acc', verbose=True)\n"
   ]
  },
  {
   "cell_type": "markdown",
   "id": "38afe2eb-63c4-443d-b0d0-60ee8308dc29",
   "metadata": {},
   "source": [
    "Using Transfer-Learning on ResNet50 the accuracy rises up to 92%. The main source of error is because the model does not well distinguish between similar classes such as Shirt/T-Shirt and Pullover/Coat, honestly I don't know if I would distinguish them properly..."
   ]
  },
  {
   "cell_type": "code",
   "execution_count": null,
   "id": "8eb6fc7f-06b7-4610-9f37-677e62eaadd5",
   "metadata": {},
   "outputs": [],
   "source": []
  }
 ],
 "metadata": {
  "kernelspec": {
   "display_name": "Python 3 (ipykernel)",
   "language": "python",
   "name": "python3"
  },
  "language_info": {
   "codemirror_mode": {
    "name": "ipython",
    "version": 3
   },
   "file_extension": ".py",
   "mimetype": "text/x-python",
   "name": "python",
   "nbconvert_exporter": "python",
   "pygments_lexer": "ipython3",
   "version": "3.9.7"
  }
 },
 "nbformat": 4,
 "nbformat_minor": 5
}
