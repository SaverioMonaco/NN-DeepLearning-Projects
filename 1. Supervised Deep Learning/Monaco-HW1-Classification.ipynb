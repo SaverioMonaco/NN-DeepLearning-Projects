{
 "cells": [
  {
   "cell_type": "markdown",
   "id": "7cd581c9-b9e4-4cb0-bd4d-dcc781d5d906",
   "metadata": {},
   "source": [
    "---\n",
    "---\n",
    "# NEURAL NETWORKS AND DEEP LEARNING\n",
    "\n",
    "### A.A. 2021/22 (6 CFU) - Dr. Alberto Testolin, Dr. Umberto Michieli\n",
    "\n",
    "# Homework 1 - Supervised Deep Learning\n",
    "---\n",
    "---"
   ]
  },
  {
   "cell_type": "markdown",
   "id": "128af43b-542f-4124-9700-72be4837691b",
   "metadata": {},
   "source": [
    "## Classification task"
   ]
  },
  {
   "cell_type": "markdown",
   "id": "69a89872-5c7f-40dc-ad13-e60c12007037",
   "metadata": {},
   "source": [
    "* The goal is to train a neural network that maps an input image (from fashionMNIST) to one of ten classes (multi-class classification problem with mutually exclusive classes).\n",
    "* Define a proper loss (e.g. [torch.nn.CrossEntropyLoss](https://pytorch.org/docs/stable/generated/torch.nn.CrossEntropyLoss.html#torch.nn.CrossEntropyLoss))\n",
    "* Also here, consider to create a validation set from you training data, or use a k-fold cross-validation strategy.\n",
    "* Pay attention to the shape, data type and output values range. If needed, modify them accordingly to your implementation (read carefully the documentation of the layers that you use, e.g. [torch.nn.Conv2d](https://pytorch.org/docs/stable/generated/torch.nn.Conv2d.html)).\n",
    "* Explore different optimizers, acivation functions, network architectures. Analyze the effect of different regularization methods, such as dropout layers, random transformations (image rotation, scaling, add noise...) or L2 regularization (weight decay)."
   ]
  },
  {
   "cell_type": "markdown",
   "id": "c3e6a947-2dba-4e28-a68c-dfd659178e7d",
   "metadata": {},
   "source": [
    "### Dataset"
   ]
  },
  {
   "cell_type": "code",
   "execution_count": 19,
   "id": "31f62da4-da28-4df5-b206-b9db92521a36",
   "metadata": {},
   "outputs": [],
   "source": [
    "#################\n",
    "#### IMPORTS ####\n",
    "#################\n",
    "\n",
    "# Arrays\n",
    "import numpy as np\n",
    "\n",
    "# Deep Learning stuff\n",
    "import torch\n",
    "import torchvision\n",
    "\n",
    "# Images display and plots\n",
    "import matplotlib.pyplot as plt\n",
    "\n",
    "# Other\n",
    "import os\n"
   ]
  },
  {
   "cell_type": "code",
   "execution_count": null,
   "id": "90407dd9-ed20-4182-b959-442112bbf17d",
   "metadata": {},
   "outputs": [],
   "source": [
    "# Setting the values of the seeds for reproducibility\n",
    "torch.manual_seed(2012264)    \n",
    "np.random.seed(2012264)\n"
   ]
  },
  {
   "cell_type": "code",
   "execution_count": 25,
   "id": "267abf10-fb9a-49d4-8611-eff0cfcce644",
   "metadata": {},
   "outputs": [],
   "source": [
    "# If we have already the datafolder, do not download.\n",
    "if(os.path.isdir('./classifier_data/FashionMNIST')):\n",
    "    train_dataset = torchvision.datasets.FashionMNIST('classifier_data', train=True, download=False)\n",
    "    test_dataset  = torchvision.datasets.FashionMNIST('classifier_data', train=False, download=False)\n",
    "else:\n",
    "    train_dataset = torchvision.datasets.FashionMNIST('classifier_data', train=True, download=True)\n",
    "    test_dataset  = torchvision.datasets.FashionMNIST('classifier_data', train=False, download=True)\n",
    "    "
   ]
  },
  {
   "cell_type": "code",
   "execution_count": 27,
   "id": "236e0588-25e4-4698-a254-bcd8193eab6e",
   "metadata": {},
   "outputs": [
    {
     "name": "stdout",
     "output_type": "stream",
     "text": [
      "Training device: cpu\n"
     ]
    }
   ],
   "source": [
    "# Check if the GPU is available\n",
    "device = torch.device(\"cuda\") if torch.cuda.is_available() else torch.device(\"cpu\")\n",
    "print(f\"Training device: {device}\")\n"
   ]
  },
  {
   "cell_type": "code",
   "execution_count": 17,
   "id": "f9dfa00e-ec96-4212-8305-a7ff085d79b0",
   "metadata": {},
   "outputs": [],
   "source": [
    "def plot_mnistimg(dataset, sample, output = False, size = 3):\n",
    "    '''\n",
    "    Display the sample-th image from dataset (can be trainingset or testset) and its true\n",
    "    label.\n",
    "    Eventually display the predicted label in output.\n",
    "    Size of the image can be changed changing size input parameter\n",
    "    '''\n",
    "    \n",
    "    description = ['T-shirt/top','Trouser','Pullover',\n",
    "                   'Dress','Coat','Sandal','Shirt',\n",
    "                   'Sneaker','Bag','Ankle boot']\n",
    "    \n",
    "    image = dataset[sample][0]\n",
    "    label = dataset[sample][1]\n",
    "\n",
    "    fig = plt.figure(figsize=(size,size))\n",
    "    plt.imshow(image, cmap='Greys')\n",
    "    \n",
    "    print(f\"Sample: {sample_index}\")\n",
    "    print(f\"True Label: {description[label]}\")\n",
    "    \n",
    "    if output:\n",
    "        print(f\"Prediction: {description[output]}\")\n",
    "    \n",
    "    plt.axis(\"off\")\n",
    "    plt.show()\n",
    "    "
   ]
  },
  {
   "cell_type": "code",
   "execution_count": 26,
   "id": "8127ade2-dad3-4e6c-8739-5659e0c7d8cb",
   "metadata": {},
   "outputs": [
    {
     "name": "stdout",
     "output_type": "stream",
     "text": [
      "Sample: 0\n",
      "True Label: T-shirt/top\n"
     ]
    },
    {
     "data": {
      "image/png": "[encoded data removed]",
      "text/plain": [
       "<Figure size 216x216 with 1 Axes>"
      ]
     },
     "metadata": {
      "needs_background": "light"
     },
     "output_type": "display_data"
    }
   ],
   "source": [
    "plot_mnistimg(train_dataset, 10)"
   ]
  }
 ],
 "metadata": {
  "kernelspec": {
   "display_name": "Python 3",
   "language": "python",
   "name": "python3"
  },
  "language_info": {
   "codemirror_mode": {
    "name": "ipython",
    "version": 3
   },
   "file_extension": ".py",
   "mimetype": "text/x-python",
   "name": "python",
   "nbconvert_exporter": "python",
   "pygments_lexer": "ipython3",
   "version": "3.8.8"
  }
 },
 "nbformat": 4,
 "nbformat_minor": 5
}
