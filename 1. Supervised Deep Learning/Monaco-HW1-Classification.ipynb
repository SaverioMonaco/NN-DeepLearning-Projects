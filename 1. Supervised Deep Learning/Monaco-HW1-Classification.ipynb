{
 "cells": [
  {
   "cell_type": "markdown",
   "id": "7cd581c9-b9e4-4cb0-bd4d-dcc781d5d906",
   "metadata": {},
   "source": [
    "---\n",
    "---\n",
    "# NEURAL NETWORKS AND DEEP LEARNING\n",
    "\n",
    "### A.A. 2021/22 (6 CFU) - Dr. Alberto Testolin, Dr. Umberto Michieli\n",
    "\n",
    "### Saverio Monaco\n",
    "##### MAT: 2012264\n",
    "\n",
    "# Homework 1 - Supervised Deep Learning\n",
    "---\n",
    "---"
   ]
  },
  {
   "cell_type": "markdown",
   "id": "128af43b-542f-4124-9700-72be4837691b",
   "metadata": {},
   "source": [
    "## Classification task"
   ]
  },
  {
   "cell_type": "markdown",
   "id": "69a89872-5c7f-40dc-ad13-e60c12007037",
   "metadata": {},
   "source": [
    "* The goal is to train a neural network that maps an input image (from fashionMNIST) to one of ten classes (multi-class classification problem with mutually exclusive classes).\n",
    "* Define a proper loss (e.g. [torch.nn.CrossEntropyLoss](https://pytorch.org/docs/stable/generated/torch.nn.CrossEntropyLoss.html#torch.nn.CrossEntropyLoss))\n",
    "* Also here, consider to create a validation set from you training data, or use a k-fold cross-validation strategy.\n",
    "* Pay attention to the shape, data type and output values range. If needed, modify them accordingly to your implementation (read carefully the documentation of the layers that you use, e.g. [torch.nn.Conv2d](https://pytorch.org/docs/stable/generated/torch.nn.Conv2d.html)).\n",
    "* Explore different optimizers, acivation functions, network architectures. Analyze the effect of different regularization methods, such as dropout layers, random transformations (image rotation, scaling, add noise...) or L2 regularization (weight decay)."
   ]
  },
  {
   "cell_type": "code",
   "execution_count": 1,
   "id": "5235f9de-9d73-4ed7-b71b-03f397b2411a",
   "metadata": {},
   "outputs": [],
   "source": [
    "# if True all the models will be loaded from ./models folder\n",
    "# if False all the models will be trained\n",
    "load = False"
   ]
  },
  {
   "cell_type": "markdown",
   "id": "c3e6a947-2dba-4e28-a68c-dfd659178e7d",
   "metadata": {
    "tags": []
   },
   "source": [
    "### Dataset"
   ]
  },
  {
   "cell_type": "code",
   "execution_count": 2,
   "id": "31f62da4-da28-4df5-b206-b9db92521a36",
   "metadata": {},
   "outputs": [],
   "source": [
    "#################\n",
    "#### IMPORTS ####\n",
    "#################\n",
    "\n",
    "# Arrays\n",
    "import numpy as np\n",
    "\n",
    "# Deep Learning stuff\n",
    "import torch\n",
    "import torchvision\n",
    "import torch.nn as nn\n",
    "from torch.utils.data import Dataset, DataLoader\n",
    "import torchvision.transforms as transforms\n",
    "from sklearn.model_selection import KFold\n",
    "import torch.optim as optim\n",
    "from sklearn.metrics import confusion_matrix\n",
    "import seaborn as sns\n",
    "\n",
    "# Images display and plots\n",
    "import matplotlib.pyplot as plt\n",
    "\n",
    "# Other\n",
    "import os\n",
    "import time\n",
    "from tqdm.notebook import tqdm # Pretty progress bars\n"
   ]
  },
  {
   "cell_type": "code",
   "execution_count": 3,
   "id": "90407dd9-ed20-4182-b959-442112bbf17d",
   "metadata": {},
   "outputs": [],
   "source": [
    "# Setting the values of the seeds for reproducibility\n",
    "torch.manual_seed(2012264)    \n",
    "np.random.seed(2012264)\n"
   ]
  },
  {
   "cell_type": "code",
   "execution_count": 4,
   "id": "267abf10-fb9a-49d4-8611-eff0cfcce644",
   "metadata": {},
   "outputs": [],
   "source": [
    "# If we have already the datafolder, do not download.\n",
    "if(os.path.isdir('./classifier_data/FashionMNIST')):\n",
    "    download_data = False\n",
    "else:\n",
    "    download_data = True\n",
    "    \n",
    "train_dataset = torchvision.datasets.FashionMNIST('classifier_data', train=True, download=download_data,\n",
    "                                                     transform = transforms.Compose([transforms.ToTensor()]) )\n",
    "                                                      \n",
    "test_dataset  = torchvision.datasets.FashionMNIST('classifier_data', train=False, download=download_data,\n",
    "                                                     transform = transforms.Compose([transforms.ToTensor()]) )\n"
   ]
  },
  {
   "cell_type": "code",
   "execution_count": 5,
   "id": "67ee37d8-606c-4af3-9d45-115ccfc6c50f",
   "metadata": {},
   "outputs": [],
   "source": [
    "train_dataloader = DataLoader(train_dataset, batch_size = 100, shuffle=True, num_workers=0)\n",
    "test_dataloader = DataLoader(test_dataset, batch_size = 10000, shuffle=True, num_workers=0)\n"
   ]
  },
  {
   "cell_type": "code",
   "execution_count": 6,
   "id": "2f14731d-b0ce-486f-94ea-21ea506fb371",
   "metadata": {},
   "outputs": [
    {
     "name": "stdout",
     "output_type": "stream",
     "text": [
      "Number of instances in training dataset: 60000\n",
      "Number of instances in testing dataset:  10000\n",
      "\n",
      "Size of the images: (28, 28)\n"
     ]
    }
   ],
   "source": [
    "print('Number of instances in training dataset:', np.shape(train_dataset.data)[0])\n",
    "print('Number of instances in testing dataset: ', np.shape(test_dataset.data)[0])\n",
    "\n",
    "print('\\nSize of the images:', np.shape(train_dataset.data[0].numpy()))\n"
   ]
  },
  {
   "cell_type": "code",
   "execution_count": 7,
   "id": "0934b58b-bc12-434f-9611-a6f31ccd2f51",
   "metadata": {},
   "outputs": [
    {
     "name": "stdout",
     "output_type": "stream",
     "text": [
      "TRAINING DATASET\n",
      " range: 0.0 - 1.0\n",
      "\n",
      "TEST DATASET\n",
      " range: 0.0 - 1.0\n"
     ]
    }
   ],
   "source": [
    "# Check for the ranges of value of the images\n",
    "# There are two standards of representing grayscale images:\n",
    "#  1. Each pixel ranges from 0 to 1\n",
    "#  2. Each pixel ranges from 0 to 255\n",
    "\n",
    "# The second one present more numerical instability\n",
    "\n",
    "absmax = -1000\n",
    "absmin = +1000\n",
    "\n",
    "# Checking the whole dataset, just to be sure\n",
    "for image_batch, _ in train_dataloader:\n",
    "    batch_max = torch.max(image_batch)\n",
    "    batch_min = torch.min(image_batch)\n",
    "    \n",
    "    if batch_max > absmax:\n",
    "        absmax = batch_max\n",
    "    if batch_min < absmin:\n",
    "        absmin = batch_min\n",
    "        \n",
    "print('TRAINING DATASET')\n",
    "print(' range:', absmin.item(), '-', absmax.item())\n",
    "\n",
    "absmax = -1000\n",
    "absmin = +1000\n",
    "\n",
    "# Checking the whole dataset, just to be sure\n",
    "for image_batch, _ in test_dataloader:\n",
    "    batch_max = torch.max(image_batch)\n",
    "    batch_min = torch.min(image_batch)\n",
    "    \n",
    "    if batch_max > absmax:\n",
    "        absmax = batch_max\n",
    "    if batch_min < absmin:\n",
    "        absmin = batch_min\n",
    "\n",
    "print('\\nTEST DATASET')\n",
    "print(' range:', absmin.item(), '-', absmax.item())\n"
   ]
  },
  {
   "cell_type": "code",
   "execution_count": 8,
   "id": "236e0588-25e4-4698-a254-bcd8193eab6e",
   "metadata": {},
   "outputs": [
    {
     "name": "stdout",
     "output_type": "stream",
     "text": [
      "Training device: cuda\n"
     ]
    }
   ],
   "source": [
    "# Check if the GPU is available\n",
    "device = torch.device(\"cuda\") if torch.cuda.is_available() else torch.device(\"cpu\")\n",
    "print(f\"Training device: {device}\")\n"
   ]
  },
  {
   "cell_type": "code",
   "execution_count": 9,
   "id": "f9dfa00e-ec96-4212-8305-a7ff085d79b0",
   "metadata": {},
   "outputs": [],
   "source": [
    "def plot_mnistimg(dataset, sample, output = False, size = 3):\n",
    "    '''\n",
    "    Display the sample-th image from dataset (can be trainingset or testset) and its true\n",
    "    label.\n",
    "    Eventually display the predicted label in output.\n",
    "    Size of the image can be changed changing size input parameter\n",
    "    '''\n",
    "    \n",
    "    # Convert output (int) through the description of the images (str)\n",
    "    description = ['T-shirt/top','Trouser','Pullover',\n",
    "                   'Dress','Coat','Sandal','Shirt',\n",
    "                   'Sneaker','Bag','Ankle boot']\n",
    "    \n",
    "    image = np.array(dataset[sample][0])[0] # Image to display\n",
    "    label = dataset[sample][1]              # Relative label (int)\n",
    "\n",
    "    fig = plt.figure(figsize=(size,size))\n",
    "    plt.imshow(image, cmap='Greys')\n",
    "    \n",
    "    print(f\"Sample: {sample}\")\n",
    "    print(f\"True Label: {description[label]}\")\n",
    "    \n",
    "    if output:\n",
    "        print(f\"Prediction: {description[output]}\")\n",
    "    \n",
    "    plt.axis(\"off\")\n",
    "    plt.show()\n",
    "    "
   ]
  },
  {
   "cell_type": "code",
   "execution_count": 10,
   "id": "8127ade2-dad3-4e6c-8739-5659e0c7d8cb",
   "metadata": {},
   "outputs": [
    {
     "name": "stdout",
     "output_type": "stream",
     "text": [
      "Sample: 10\n",
      "True Label: T-shirt/top\n"
     ]
    },
    {
     "data": {
      "image/png": "[encoded data removed]",
      "text/plain": [
       "<Figure size 216x216 with 1 Axes>"
      ]
     },
     "metadata": {
      "needs_background": "light"
     },
     "output_type": "display_data"
    }
   ],
   "source": [
    "plot_mnistimg(train_dataset, 10)\n"
   ]
  },
  {
   "cell_type": "markdown",
   "id": "f90aba8d-77ab-46b6-9e39-b538055d5a2d",
   "metadata": {},
   "source": [
    "### Building the Neural Network Structure"
   ]
  },
  {
   "cell_type": "code",
   "execution_count": 11,
   "id": "1595fb45-8f65-4019-bf9e-fe3656d8a16f",
   "metadata": {},
   "outputs": [],
   "source": [
    "class CNNMnistNet(nn.Module):\n",
    "    def __init__(self, Noutp, channels, activation = nn.ReLU(), dropout=0):\n",
    "        \"\"\"\n",
    "        Ni - Input size  (INT)\n",
    "        No - Output size (INT)\n",
    "        Nhs - Hidden layers (LIST OF INTEGERS)\n",
    "        \"\"\"\n",
    "        super(CNNMnistNet, self).__init__()\n",
    "        \n",
    "        self.activation = activation\n",
    "        self.channels = channels\n",
    "        \n",
    "        if len(channels)!=2:\n",
    "            print('Channels specified must be a list of two elements')\n",
    "        \n",
    "        self.conv1 = nn.Sequential(         \n",
    "            nn.Conv2d(\n",
    "                in_channels  = 1, # Because image is grayscale              \n",
    "                out_channels = channels[0],            \n",
    "                kernel_size  = 5,              \n",
    "                stride       = 1,                   \n",
    "                padding      = 2,                  \n",
    "            ),                              \n",
    "            activation,                      \n",
    "            nn.MaxPool2d(kernel_size=2),    \n",
    "        )\n",
    "        \n",
    "        # Dropout between two convolutions\n",
    "        self.dropout = nn.Dropout(dropout)\n",
    "        \n",
    "        self.conv2 = nn.Sequential(         \n",
    "            nn.Conv2d(\n",
    "                in_channels  = channels[0], \n",
    "                out_channels = channels[1], \n",
    "                kernel_size  = 5, \n",
    "                stride       = 1, \n",
    "                padding      =2\n",
    "            ),     \n",
    "            activation,                      \n",
    "            nn.MaxPool2d(2),                \n",
    "        )\n",
    "        \n",
    "        # Fully connected layer to output 10 classes\n",
    "        self.out = nn.Linear(channels[1] * 7 * 7, Noutp)\n",
    "    \n",
    "    def forward(self, x):\n",
    "        x = self.conv1(x)\n",
    "        x = self.conv2(x)\n",
    "        \n",
    "        # flatten the output of conv2 to (batch_size, 32 * 7 * 7)\n",
    "        x = x.view(x.size(0), -1)       \n",
    "        output = self.out(x)\n",
    "        return output    # return x for visualization\n",
    "    \n",
    "    def compute_accuracy(self, heatmap = False, verbose = False, examples=False):\n",
    "        '''\n",
    "        Compute accuracy of the model (%) from the testset\n",
    "        heatmap  = True shows heatmap\n",
    "        verbose  = True prints accuracy\n",
    "        examples = True display some examples\n",
    "        '''\n",
    "        self.to(device)\n",
    "        self.eval()\n",
    "        # Input and true label\n",
    "        x_test,y_test = next(iter(test_dataloader))\n",
    "        # Prediction\n",
    "        y_pred = self(x_test.to(device)).argmax(dim=1)\n",
    "        \n",
    "        description = ['T-shirt/top','Trouser','Pullover',\n",
    "                   'Dress','Coat','Sandal','Shirt',\n",
    "                   'Sneaker','Bag','Ankle boot']\n",
    "        \n",
    "        misclas = 0\n",
    "        for i in range(len(y_pred) ):\n",
    "            if y_pred[i] != y_test[i]:\n",
    "                misclas = misclas + 1\n",
    "        \n",
    "        accuracy = 100*(len(y_pred) - misclas)/len(y_pred)\n",
    "        \n",
    "        if verbose:\n",
    "            print('Accuracy:', accuracy, '%' )\n",
    "            \n",
    "        if heatmap:\n",
    "            conf_mat = confusion_matrix(y_test, y_pred.cpu())\n",
    "            fig, ax = plt.subplots(figsize=(10,8))\n",
    "            plt.title('Heatmap')\n",
    "            sns.heatmap(conf_mat, annot=True, fmt='d',xticklabels=description, yticklabels=description)\n",
    "            plt.ylabel('Actual')\n",
    "            plt.xlabel('Predicted')\n",
    "            \n",
    "            if type(heatmap) is str:\n",
    "                plt.savefig('./imgs/classification/'+heatmap+'.svg', format='svg')\n",
    "            else:\n",
    "                plt.show()\n",
    "            \n",
    "        if examples:\n",
    "            indices = np.random.choice(np.arange(len(test_dataloader.dataset) ), size=5, replace=False)\n",
    "            \n",
    "            for index in indices:\n",
    "                image = np.array(x_test[index][0])\n",
    "                label = y_test[index]\n",
    "\n",
    "                fig = plt.figure(figsize=(3,3))\n",
    "                plt.imshow(image, cmap='Greys')\n",
    "    \n",
    "                print(f\"\\n\\nTrue Label: {description[label]}\")\n",
    "                print(f\"Prediction: {description[y_pred[index]]}\")\n",
    "    \n",
    "                plt.axis(\"off\")\n",
    "                plt.show()\n",
    "            \n",
    "        return accuracy\n",
    "    \n",
    "    def fit(self, data, epochs, folds, torch_loss, printfreq, lr0, reg_term = 0, test=False, figname=False):\n",
    "        '''\n",
    "        Function for training the Network\n",
    "        data:       Dataloader\n",
    "        epochs:     Number of epochs for the model to learn\n",
    "        folds:      Folds in the k-fold cross validation\n",
    "        torch_loss: Torch funcion for the loss\n",
    "        printfreq:  Frequency of printing train loss and validation loss\n",
    "        lr0:        Initial Learning rate\n",
    "        reg_term:   Regularization term L2 penalty\n",
    "        test =True: Computes accuracy on testset at each epoch, and \n",
    "                    displays learning curves\n",
    "        '''\n",
    "        train_loss_log = [] \n",
    "        test_loss_log = []\n",
    "        val_loss_log = []\n",
    "        \n",
    "        # Define the optimizer\n",
    "        optimizer = optim.Adam(self.parameters(), lr=lr0, weight_decay= reg_term)\n",
    "        self.to(device)\n",
    "        for epoch in range(epochs):\n",
    "            ### TRAIN\n",
    "            train_loss = []\n",
    "    \n",
    "            self.train() # Training mode (e.g. enable dropout, batchnorm updates,...)\n",
    "            for sample_batched in data:\n",
    "                # Move data to device\n",
    "                x_batch = sample_batched[0].to(device)\n",
    "                label_batch = sample_batched[1].to(device)\n",
    "        \n",
    "                kf = KFold(n_splits=folds)\n",
    "                kf.get_n_splits(x_batch)\n",
    "        \n",
    "                loss = 0\n",
    "                for train_index, val_index in kf.split(x_batch):\n",
    "                    x_batch_train, x_batch_val = x_batch[train_index], x_batch[val_index]\n",
    "                    y_batch_train, y_batch_val = label_batch[train_index], label_batch[val_index]\n",
    "\n",
    "                    # Forward pass\n",
    "                    out = self(x_batch_train)\n",
    "        \n",
    "                    # Compute loss\n",
    "                    loss = loss + torch_loss(out, y_batch_train)/folds\n",
    "                # Backpropagation\n",
    "                self.zero_grad() # Clears gradient\n",
    "                loss.backward()  # Computes the derivative of the loss\n",
    "\n",
    "                # Update the weights\n",
    "                optimizer.step() # Take a step based on the gradients\n",
    "\n",
    "                # Save train loss for this batch\n",
    "                loss_batch = loss.detach().cpu().numpy()\n",
    "                train_loss.append(loss_batch)\n",
    "\n",
    "            # Save average train loss\n",
    "            train_loss = np.mean(train_loss)\n",
    "    \n",
    "            if printfreq!=0 and epoch%printfreq == 0:\n",
    "                print('#################')\n",
    "                print(f'# EPOCH {epoch}')\n",
    "                print('#################')\n",
    "                print(f\"AVERAGE TRAIN LOSS: {train_loss}\")\n",
    "                \n",
    "            train_loss_log.append(train_loss)\n",
    "            \n",
    "            ### VALIDATION\n",
    "            val_loss= []\n",
    "            self.eval() # Evaluation mode (e.g. disable dropout, batchnorm,...)\n",
    "            with torch.no_grad(): # Disable gradient tracking\n",
    "                for sample_batched in data:\n",
    "                    # Move data to device\n",
    "                    x_batch = sample_batched[0].to(device)\n",
    "                    label_batch = sample_batched[1].to(device)\n",
    "\n",
    "                    kf = KFold(n_splits=folds)\n",
    "                    kf.get_n_splits(x_batch)\n",
    "        \n",
    "                    loss = 0\n",
    "                    for train_index, val_index in kf.split(x_batch):\n",
    "                        x_batch_train, x_batch_val = x_batch[train_index], x_batch[val_index]\n",
    "                        y_batch_train, y_batch_val = label_batch[train_index], label_batch[val_index]\n",
    "\n",
    "                        # Forward pass\n",
    "                        out = self(x_batch_val)\n",
    "\n",
    "                        # Compute loss\n",
    "                        loss = loss + torch_loss(out, y_batch_val)/folds\n",
    "                \n",
    "                    # Save val loss for this batch\n",
    "                    loss_batch = loss.detach().cpu().numpy()\n",
    "                    val_loss.append(loss_batch)\n",
    "        \n",
    "                # Save average validation loss\n",
    "                val_loss = np.mean(val_loss)\n",
    "                if printfreq!=0 and epoch%printfreq == 0:\n",
    "                    print(f\"AVERAGE VAL LOSS: {np.mean(val_loss)}\")\n",
    "                    print('')\n",
    "                val_loss_log.append(val_loss)\n",
    "            \n",
    "            if test:\n",
    "                test_loss_log.append(self.compute_accuracy()) # Compute accuracy\n",
    "                if printfreq!=0 and epoch%printfreq == 0:\n",
    "                    print(f\"TEST ACCURACY: {test_loss_log[-1]} %\")\n",
    "                    \n",
    "        if test:\n",
    "            fig=plt.figure(figsize = (7,8))\n",
    "            ax1 = plt.subplot(211) # Loss on training\n",
    "            ax2 = plt.subplot(212) # Accuracy on test\n",
    "            \n",
    "            xvalues = np.arange(0,epochs)\n",
    "            \n",
    "            ax1.set_title('Training Loss')\n",
    "            ax1.plot(xvalues, train_loss_log, label='Training error')\n",
    "            ax1.set_xlabel('epoch')\n",
    "            \n",
    "            ax2.set_title('Test Accuracy')\n",
    "            ax2.set_ylabel('%')\n",
    "            ax2.set_xlabel('epoch')\n",
    "            ax2.set_ylim(-1,101)\n",
    "            ax2.plot(xvalues, test_loss_log  , label='Test error', color='orange')\n",
    "            \n",
    "            plt.tight_layout()\n",
    "            \n",
    "            if type(figname) is str:\n",
    "                plt.savefig('./imgs/classification/'+figname+'.svg', format='svg')\n",
    "            else:\n",
    "                plt.show()\n",
    "            \n",
    "        return val_loss_log[-1]\n",
    "    \n",
    "    def plot_filters(self, figname=False):\n",
    "        '''Functions for visualizing the filters'''\n",
    "        filter1 = self.conv1[0].weight.data.cpu().numpy()\n",
    "        filter2 = self.conv2[0].weight.data.cpu().numpy()\n",
    "        \n",
    "        # FIRST CHANNEL #\n",
    "        fig, ax = plt.subplots(1,self.channels[0], figsize=(16, 3))\n",
    "\n",
    "        for i in range(self.channels[0]):\n",
    "            ax[i].imshow( filter1[i, 0, :, :], cmap='Greys')\n",
    "            ax[i].axis('off')\n",
    "    \n",
    "        fig.suptitle('Filters of first convolutional layer')\n",
    "        \n",
    "        if figname:\n",
    "            plt.savefig('./imgs/classification/'+figname+'layer1.svg', format='svg')\n",
    "        else:\n",
    "            plt.show()\n",
    "        \n",
    "        # SECOND CHANNEL #\n",
    "        fig, ax = plt.subplots(self.channels[0], self.channels[1], figsize=(16, 7))\n",
    "\n",
    "        for i in range(self.channels[0]):\n",
    "            for j in range(self.channels[1]):\n",
    "                ax[i,j].imshow( filter2[j, i, :,:], cmap='Greys')\n",
    "                ax[i,j].axis('off')\n",
    "        \n",
    "        fig.suptitle('Filters of second convolutional layer')\n",
    "        if figname:\n",
    "            plt.savefig('./imgs/classification/'+figname+'layer2.svg', format='svg')\n",
    "        else:\n",
    "            plt.show()\n",
    "        \n",
    "    def plot_activations(self, figname=False):\n",
    "        def get_activation(layer, input, output):\n",
    "            global activation\n",
    "            activation = self.activation(output)\n",
    "\n",
    "        ex_dataloader =  DataLoader(test_dataset, batch_size = 1, shuffle=True, num_workers=0)\n",
    "        \n",
    "        ### Register hook  \n",
    "        hook_handle = self.conv1.register_forward_hook(get_activation)\n",
    "\n",
    "        ### Analyze activations\n",
    "        self.eval()\n",
    "\n",
    "        with torch.no_grad():\n",
    "            for s_batch in ex_dataloader:\n",
    "                # Move data to device\n",
    "                x1 = s_batch[0].to(device)\n",
    "                # Forward pass\n",
    "                y1 = self(x1)\n",
    "                z1 = activation\n",
    "\n",
    "        ### Remove hook\n",
    "        hook_handle.remove()\n",
    "\n",
    "        act1 = z1.cpu().numpy()\n",
    "\n",
    "        ## Plot activations\n",
    "        fig, ax = plt.subplots(1, self.channels[0], figsize=(16,3))\n",
    "        for i in range(self.channels[0]):\n",
    "            ax[i].imshow( act1[0, i, :, :], cmap='Greys')\n",
    "            ax[i].axis('off')\n",
    "\n",
    "        fig.suptitle('Activation profile - first convolutional layer', fontsize=16)    \n",
    "        plt.tight_layout()\n",
    "\n",
    "        if figname:\n",
    "            plt.savefig('./imgs/classification/'+figname+'activation1.svg', format='svg')\n",
    "        else:\n",
    "            plt.show()   \n",
    "        \n",
    "        ### Register hook  \n",
    "        hook_handle = self.conv2.register_forward_hook(get_activation)\n",
    "\n",
    "        with torch.no_grad():\n",
    "            for s_batch in ex_dataloader:\n",
    "                # Move data to device\n",
    "                x2 = s_batch[0].to(device)\n",
    "                # Forward pass\n",
    "                y2 = self(x2)\n",
    "                z2 = activation\n",
    "\n",
    "        ### Remove hook\n",
    "        hook_handle.remove()\n",
    "\n",
    "        act2 = z2.cpu().numpy()\n",
    "\n",
    "        ## Plot activations\n",
    "        fig, ax = plt.subplots(2, self.channels[0], figsize=(16,6))\n",
    "\n",
    "        for i in range(self.channels[0]):\n",
    "            ax[0, i].imshow( act2[0, i, :, :], cmap='Greys')\n",
    "            ax[0, i].axis('off')\n",
    "            ax[1, i].imshow( act2[0, i+self.channels[0], :, :], cmap='Greys')\n",
    "            ax[1, i].axis('off')\n",
    "\n",
    "        fig.suptitle('Activation profile - second convolutional layer', fontsize=16)    \n",
    "        plt.tight_layout()\n",
    "\n",
    "        if figname:\n",
    "            plt.savefig('./imgs/classification/'+figname+'activation2.svg', format='svg')\n",
    "        else:\n",
    "            plt.show()    \n",
    "        \n",
    "    def save(self, file=False):\n",
    "        '''\n",
    "        Just save the model in ./models folder.\n",
    "        if file = False it overwrites ./models/classificator.pth. else it saves it on the name specified\n",
    "        '''\n",
    "        if file:\n",
    "            torch.save(self.state_dict(), './models/'+str(file))\n",
    "        else:\n",
    "            torch.save(self.state_dict(), './models/bestclassificator')\n",
    "            "
   ]
  },
  {
   "cell_type": "code",
   "execution_count": 12,
   "id": "43c10536-fa78-4e9d-8877-8e9116092428",
   "metadata": {},
   "outputs": [],
   "source": [
    "load = False"
   ]
  },
  {
   "cell_type": "code",
   "execution_count": 13,
   "id": "d75dd17d-f62b-4582-ade8-2a24795fb3b5",
   "metadata": {},
   "outputs": [
    {
     "name": "stdout",
     "output_type": "stream",
     "text": [
      "---------------------\n",
      "Configuration 0\n",
      " Validation loss:  0.4636725\n",
      " Lr =            0.001\n",
      " Loss =          CrossEntropyLoss()\n",
      " Reg =           0.0001\n",
      " Channels =      [6, 12]\n",
      " dropout =       0.1\n",
      " activation =    ReLU()\n",
      "\n",
      "Iteration: 1\n",
      "Best model found: \n",
      "{'lr': 0.001, 'loss': CrossEntropyLoss(), 'reg': 0.0001, 'channels': [6, 12], 'dropout': 0.1, 'activation': ReLU()}\n",
      "Accuracy: 90.64 %\n"
     ]
    },
    {
     "data": {
      "image/png": "[encoded data removed]",
      "text/plain": [
       "<Figure size 504x576 with 2 Axes>"
      ]
     },
     "metadata": {
      "needs_background": "light"
     },
     "output_type": "display_data"
    },
    {
     "data": {
      "image/png": "[encoded data removed]",
      "text/plain": [
       "<Figure size 720x576 with 2 Axes>"
      ]
     },
     "metadata": {
      "needs_background": "light"
     },
     "output_type": "display_data"
    }
   ],
   "source": [
    "if load:\n",
    "    # load the model instead of doing the gridsearch:\n",
    "    best_model = CNNMnistNet(10, [3,6], activation = nn.ReLU(), dropout=0)\n",
    "    best_model.load_state_dict(torch.load('./models/bestclassificator'))\n",
    "    best_model.compute_accuracy(heatmap=True, verbose=True)\n",
    "else:\n",
    "    # Hyperparameters for the gridsearch:\n",
    "    grid_lrs = [1e-3] #[1e-4,1e-3]\n",
    "    grid_regs =  [1e-4]\n",
    "    grid_channels = [[6,12]] #[[4,8],[6,12]]\n",
    "    grid_dropouts = [.1] #[.1,.01] \n",
    "    grid_activations = [nn.ReLU()]\n",
    "    grid_losses = [nn.CrossEntropyLoss()]\n",
    "\n",
    "    best_train_loss = 1000000\n",
    "    best_val_loss   = 1000000\n",
    "\n",
    "    grid_epochs = 1\n",
    "\n",
    "    i = 0 # Loop variable, tells us at what configuration we currently are\n",
    "\n",
    "    for grid_lr in grid_lrs:\n",
    "        for grid_loss in grid_losses:\n",
    "            for grid_reg in grid_regs:\n",
    "                for grid_channel in grid_channels:\n",
    "                    for grid_dropout in grid_dropouts:\n",
    "                        for grid_activation in grid_activations:\n",
    "                            # For every possible combination of hyperparameters...\n",
    "                            grid_model = CNNMnistNet(10, grid_channel, activation = grid_activation, dropout=grid_dropout)\n",
    "                            grid_val_loss = grid_model.fit(train_dataloader, grid_epochs, 5, grid_loss, 0, grid_lr, \n",
    "                                                           reg_term = grid_reg)\n",
    "\n",
    "                            if grid_val_loss < best_val_loss:\n",
    "                                best_val_loss = grid_val_loss\n",
    "\n",
    "                                # Save the best combination of the hyperparameters in a dictionary\n",
    "                                # so we can inspect the best model later\n",
    "                                best_config = {\n",
    "                                  \"lr\":            grid_lr,\n",
    "                                  \"loss\":          grid_loss,\n",
    "                                  \"reg\":           grid_reg,\n",
    "                                  \"channels\":      grid_channel,\n",
    "                                  \"dropout\":       grid_dropout,\n",
    "                                  \"activation\":    grid_activation}\n",
    "\n",
    "                                if True: # Set to False, too much useless information displayed\n",
    "                                    print('---------------------')\n",
    "                                    print('Configuration', i)\n",
    "                                    print(' Validation loss: ', grid_val_loss)\n",
    "                                    print(' Lr =           ', grid_lr)\n",
    "                                    print(' Loss =         ', grid_loss)\n",
    "                                    print(' Reg =          ', grid_reg)\n",
    "                                    print(' Channels =     ', grid_channel)\n",
    "                                    print(' dropout =      ', grid_dropout)\n",
    "                                    print(' activation =   ', grid_activation)\n",
    "                                    print('')\n",
    "\n",
    "                            i = i + 1\n",
    "                            print('Iteration:',i)\n",
    "                            \n",
    "    print('Best model found: ')\n",
    "    print(best_config)                            \n",
    "    best_model = CNNMnistNet(10, best_config['channels'], activation = best_config['activation'], dropout=best_config['dropout'])\n",
    "    best_model.fit(train_dataloader, 100, 5, best_config['loss'], 0, best_config['lr'], reg_term = best_config['reg'], test=True, figname='bestmodel_losses')\n",
    "\n",
    "    best_model.compute_accuracy(heatmap='best_classificator_grid', verbose=True)\n",
    "    best_model.save()\n",
    "    "
   ]
  },
  {
   "cell_type": "markdown",
   "id": "a3c56d1c-bc54-4e2d-9e28-c6402b416071",
   "metadata": {},
   "source": [
    "### Filter visualization"
   ]
  },
  {
   "cell_type": "code",
   "execution_count": 14,
   "id": "fc0ef793-0597-49b3-928f-dd553fe62eaf",
   "metadata": {},
   "outputs": [
    {
     "data": {
      "image/png": "[encoded data removed]",
      "text/plain": [
       "<Figure size 1152x216 with 6 Axes>"
      ]
     },
     "metadata": {
      "needs_background": "light"
     },
     "output_type": "display_data"
    },
    {
     "data": {
      "image/png": "[encoded data removed]",
      "text/plain": [
       "<Figure size 1152x504 with 72 Axes>"
      ]
     },
     "metadata": {
      "needs_background": "light"
     },
     "output_type": "display_data"
    }
   ],
   "source": [
    "best_model.plot_filters(figname='trained')"
   ]
  },
  {
   "cell_type": "code",
   "execution_count": 15,
   "id": "c3f2c48b-8679-4743-836e-6e3ff8fa6b06",
   "metadata": {},
   "outputs": [
    {
     "data": {
      "image/png": "[encoded data removed]",
      "text/plain": [
       "<Figure size 1152x216 with 3 Axes>"
      ]
     },
     "metadata": {
      "needs_background": "light"
     },
     "output_type": "display_data"
    },
    {
     "data": {
      "image/png": "[encoded data removed]",
      "text/plain": [
       "<Figure size 1152x504 with 18 Axes>"
      ]
     },
     "metadata": {
      "needs_background": "light"
     },
     "output_type": "display_data"
    }
   ],
   "source": [
    "untrained_net = CNNMnistNet(10, [3,6], activation = nn.ReLU(), dropout=0)\n",
    "untrained_net.plot_filters(figname='untrained')"
   ]
  },
  {
   "cell_type": "markdown",
   "id": "07028211-e2aa-41a3-8573-6ea8205a12cc",
   "metadata": {
    "tags": []
   },
   "source": [
    "### Activation layer"
   ]
  },
  {
   "cell_type": "code",
   "execution_count": 16,
   "id": "b4bf888d-ecf3-4985-9b95-b4bde73236f6",
   "metadata": {},
   "outputs": [
    {
     "data": {
      "image/png": "[encoded data removed]",
      "text/plain": [
       "<Figure size 1152x216 with 6 Axes>"
      ]
     },
     "metadata": {
      "needs_background": "light"
     },
     "output_type": "display_data"
    },
    {
     "data": {
      "image/png": "[encoded data removed]",
      "text/plain": [
       "<Figure size 1152x432 with 12 Axes>"
      ]
     },
     "metadata": {
      "needs_background": "light"
     },
     "output_type": "display_data"
    }
   ],
   "source": [
    "best_model.plot_activations(figname='trained')\n"
   ]
  },
  {
   "cell_type": "code",
   "execution_count": 17,
   "id": "88b36037-6b7d-4ad3-9bf6-d5906821f7e9",
   "metadata": {},
   "outputs": [
    {
     "data": {
      "image/png": "[encoded data removed]",
      "text/plain": [
       "<Figure size 1152x216 with 3 Axes>"
      ]
     },
     "metadata": {
      "needs_background": "light"
     },
     "output_type": "display_data"
    },
    {
     "data": {
      "image/png": "[encoded data removed]",
      "text/plain": [
       "<Figure size 1152x432 with 6 Axes>"
      ]
     },
     "metadata": {
      "needs_background": "light"
     },
     "output_type": "display_data"
    }
   ],
   "source": [
    "untrained_net.to(device).plot_activations(figname='untrained')"
   ]
  },
  {
   "cell_type": "markdown",
   "id": "09434187-d318-4c27-b9b3-35041e87dd4e",
   "metadata": {},
   "source": [
    "## Appendix"
   ]
  },
  {
   "cell_type": "markdown",
   "id": "cd5a8e87-c90e-4149-b450-3014f5021fb3",
   "metadata": {},
   "source": [
    "### Data Augmentation"
   ]
  },
  {
   "cell_type": "code",
   "execution_count": 18,
   "id": "b1a7ff81-1f0f-4704-8777-65d640f92d6b",
   "metadata": {},
   "outputs": [],
   "source": [
    "augmentation = transforms.Compose(\n",
    "                    [transforms.ToTensor(),\n",
    "                     transforms.RandomVerticalFlip(p=0.5),\n",
    "                     transforms.RandomCrop(28,padding=2)])\n"
   ]
  },
  {
   "cell_type": "code",
   "execution_count": 19,
   "id": "fb7b1f18-1193-4ecd-a65b-3249afbe2158",
   "metadata": {},
   "outputs": [],
   "source": [
    "aug_train_dataset = torchvision.datasets.FashionMNIST('classifier_data', train=True, download=False,\n",
    "                                                     transform = augmentation )\n",
    "\n",
    "aug_train_dataloader = DataLoader(aug_train_dataset, batch_size = 100, shuffle=True, num_workers=0)\n"
   ]
  },
  {
   "cell_type": "code",
   "execution_count": 20,
   "id": "6af5d451-3976-45cf-b2ad-1635bdf69f42",
   "metadata": {
    "tags": []
   },
   "outputs": [
    {
     "data": {
      "image/png": "[encoded data removed]",
      "text/plain": [
       "<Figure size 504x576 with 2 Axes>"
      ]
     },
     "metadata": {
      "needs_background": "light"
     },
     "output_type": "display_data"
    },
    {
     "name": "stdout",
     "output_type": "stream",
     "text": [
      "Accuracy: 88.45 %\n"
     ]
    },
    {
     "data": {
      "image/png": "[encoded data removed]",
      "text/plain": [
       "<Figure size 720x576 with 2 Axes>"
      ]
     },
     "metadata": {
      "needs_background": "light"
     },
     "output_type": "display_data"
    }
   ],
   "source": [
    "if not load:\n",
    "    aug_model = CNNMnistNet(10, best_config['channels'], activation = best_config['activation'], dropout=best_config['dropout'])\n",
    "    aug_model.fit(aug_train_dataloader, 100, 5, best_config['loss'], 0, best_config['lr'], reg_term = best_config['reg'], test=True)\n",
    "\n",
    "    aug_model.compute_accuracy(heatmap=True, verbose=True)\n"
   ]
  },
  {
   "cell_type": "markdown",
   "id": "44647521-e372-4287-b228-a988ff3433f3",
   "metadata": {
    "tags": []
   },
   "source": [
    "### Transfer learning, intentional overkill"
   ]
  },
  {
   "cell_type": "code",
   "execution_count": 21,
   "id": "fe1eb526-c234-4a99-9522-aaa0d069234d",
   "metadata": {},
   "outputs": [],
   "source": [
    "class fashion_resnet(nn.Module):\n",
    "    '''\n",
    "    Modified pre-trained Resnet50\n",
    "    '''\n",
    "    def __init__(self):\n",
    "        super(fashion_resnet, self).__init__()\n",
    "\n",
    "        # Load a pretrained resnet model\n",
    "        self.model = torchvision.models.resnet50(pretrained=True)\n",
    "\n",
    "        # We are dealing with grayscale images, hence input parameters of Conv2d must be 1\n",
    "        self.model.conv1 = nn.Conv2d(1, 64, kernel_size=7, stride=2, padding=3, bias=False)\n",
    "    \n",
    "        # Change the output layer to output 10 classes instead of 1000 classes\n",
    "        num_ftrs = self.model.fc.in_features\n",
    "        self.model.fc = nn.Linear(num_ftrs, 10)\n",
    "\n",
    "    def forward(self, x):\n",
    "        return self.model(x)\n",
    "    \n",
    "    def compute_accuracy(self, heatmap = False, verbose = False, examples=False):\n",
    "        '''\n",
    "        Compute accuracy of the model (%) from the testset\n",
    "        heatmap  = True shows heatmap\n",
    "        verbose  = True prints accuracy\n",
    "        examples = True display some examples\n",
    "        '''\n",
    "        self.to('cpu')\n",
    "        self.eval()\n",
    "        # Input and true label\n",
    "        x_test,y_test = next(iter(test_dataloader))\n",
    "        # Prediction\n",
    "        y_pred = self(x_test).argmax(dim=1)\n",
    "        \n",
    "        description = ['T-shirt/top','Trouser','Pullover',\n",
    "                   'Dress','Coat','Sandal','Shirt',\n",
    "                   'Sneaker','Bag','Ankle boot']\n",
    "        \n",
    "        misclas = 0\n",
    "        for i in range(len(y_pred) ):\n",
    "            if y_pred[i] != y_test[i]:\n",
    "                misclas = misclas + 1\n",
    "        \n",
    "        accuracy = 100*(len(y_pred) - misclas)/len(y_pred)\n",
    "        \n",
    "        if verbose:\n",
    "            print('Accuracy:', accuracy, '%' )\n",
    "            \n",
    "        if heatmap:\n",
    "            conf_mat = confusion_matrix(y_test, y_pred.cpu())\n",
    "            fig, ax = plt.subplots(figsize=(10,8))\n",
    "            plt.title('Heatmap')\n",
    "            sns.heatmap(conf_mat, annot=True, fmt='d',xticklabels=description, yticklabels=description)\n",
    "            plt.ylabel('Actual')\n",
    "            plt.xlabel('Predicted')\n",
    "            \n",
    "            if type(heatmap) is str:\n",
    "                plt.savefig('./imgs/classification/'+heatmap+'.svg', format='svg')\n",
    "            else:\n",
    "                plt.show()\n",
    "            \n",
    "        if examples:\n",
    "            indices = np.random.choice(np.arange(len(test_dataloader.dataset) ), size=5, replace=False)\n",
    "            \n",
    "            for index in indices:\n",
    "                image = np.array(x_test[index][0])\n",
    "                label = y_test[index]\n",
    "\n",
    "                fig = plt.figure(figsize=(3,3))\n",
    "                plt.imshow(image, cmap='Greys')\n",
    "    \n",
    "                print(f\"\\n\\nTrue Label: {description[label]}\")\n",
    "                print(f\"Prediction: {description[y_pred[index]]}\")\n",
    "    \n",
    "                plt.axis(\"off\")\n",
    "                plt.show()\n",
    "            \n",
    "        return accuracy\n",
    "    \n",
    "    def train_epoch(self, device, progress, loss_fn, optimizer, total_loss):\n",
    "        '''\n",
    "        Train the network for a single step\n",
    "        '''\n",
    "        self.train()\n",
    "        \n",
    "        # For each batch\n",
    "        for i, data in progress:\n",
    "            X, y = data[0].to(device), data[1].to(device) # X input, y label\n",
    "            \n",
    "            # training step for single batch\n",
    "            self.zero_grad()\n",
    "            pred = self(X)\n",
    "            loss = loss_fn(pred, y)\n",
    "            loss.backward()\n",
    "            optimizer.step()\n",
    "\n",
    "            # getting training quality data\n",
    "            current_loss = loss.item() # Extract loss value as float\n",
    "            total_loss += current_loss\n",
    "\n",
    "            # updating progress bar\n",
    "            progress.set_description(\"Loss: {:.4f}\".format(total_loss/(i+1)))\n",
    "        \n",
    "        # releasing unceseccary memory in GPU\n",
    "        if torch.cuda.is_available():\n",
    "            torch.cuda.empty_cache()\n",
    "        \n",
    "        return optimizer, total_loss\n",
    "    \n",
    "    def val_epoch(self, device, progress, loss_fn, optimizer, total_loss):\n",
    "        # set model to evaluating (testing)\n",
    "        self.eval()\n",
    "        misclas = 0\n",
    "        val_losses = 0\n",
    "        with torch.no_grad():\n",
    "            for i, data in enumerate(test_dataloader):\n",
    "                X, y = data[0].to(device), data[1].to(device)\n",
    "\n",
    "                pred = self(X) # this get's the prediction from the network\n",
    "\n",
    "                val_losses += loss_fn(pred, y)\n",
    "            \n",
    "        return total_loss\n",
    "                \n",
    "    \n",
    "    def trainingloop(self, epochs, loss_fn = nn.CrossEntropyLoss(), lr0=1e-3):\n",
    "        # Eventually move model to GPU\n",
    "        self.to(device)\n",
    "        \n",
    "        # Define optimizer\n",
    "        optimizer = torch.optim.Adam(self.parameters(), lr=lr0)\n",
    "        \n",
    "        batches = len(train_dataloader)\n",
    "        val_batches = len(test_dataloader)\n",
    "        \n",
    "        losses = []\n",
    "        for epoch in range(epochs):\n",
    "            total_loss = 0\n",
    "            progress = tqdm(enumerate(train_dataloader), desc=\"Loss: \", total=batches)\n",
    "            \n",
    "            # ----------------- TRAINING  --------------------\n",
    "            optimizer, total_loss = self.train_epoch(device, progress, loss_fn, optimizer, total_loss)\n",
    "            \n",
    "            # ----------------- VALIDATION  ----------------- \n",
    "            total_loss = self.val_epoch(device, progress, loss_fn, optimizer, total_loss)\n",
    "            \n",
    "            losses.append(total_loss/batches) # for plotting learning curve\n",
    "            \n",
    "        return losses\n",
    "            \n",
    "    def save(self, file=False):\n",
    "        '''\n",
    "        Just save the model in ./models folder.\n",
    "        if file = False it overwrites ./models/resnet.pth. else it saves it on the name specified\n",
    "        '''\n",
    "        if file:\n",
    "            torch.save(self.state_dict(), './models/'+str(file))\n",
    "        else:\n",
    "            torch.save(self.state_dict(), './models/resnet.pth')"
   ]
  },
  {
   "cell_type": "code",
   "execution_count": 22,
   "id": "c75521d5-7628-4b42-a969-9df593d396ae",
   "metadata": {},
   "outputs": [],
   "source": [
    "tmodel = fashion_resnet()\n"
   ]
  },
  {
   "cell_type": "code",
   "execution_count": 23,
   "id": "02b02496-b9ef-49cc-b527-ec5310e00f32",
   "metadata": {},
   "outputs": [
    {
     "data": {
      "application/vnd.jupyter.widget-view+json": {
       "model_id": "ba889a28037f41d0892ea62ec929bbd5",
       "version_major": 2,
       "version_minor": 0
      },
      "text/plain": [
       "Loss:   0%|          | 0/600 [00:00<?, ?it/s]"
      ]
     },
     "metadata": {},
     "output_type": "display_data"
    },
    {
     "data": {
      "application/vnd.jupyter.widget-view+json": {
       "model_id": "87b4f6c9333a428a84e2b507b604597e",
       "version_major": 2,
       "version_minor": 0
      },
      "text/plain": [
       "Loss:   0%|          | 0/600 [00:00<?, ?it/s]"
      ]
     },
     "metadata": {},
     "output_type": "display_data"
    },
    {
     "data": {
      "application/vnd.jupyter.widget-view+json": {
       "model_id": "4f81fb4f2a5b4144b07c058d921edc23",
       "version_major": 2,
       "version_minor": 0
      },
      "text/plain": [
       "Loss:   0%|          | 0/600 [00:00<?, ?it/s]"
      ]
     },
     "metadata": {},
     "output_type": "display_data"
    },
    {
     "data": {
      "application/vnd.jupyter.widget-view+json": {
       "model_id": "46a9d48ff73945ae81181bab5ed6dc95",
       "version_major": 2,
       "version_minor": 0
      },
      "text/plain": [
       "Loss:   0%|          | 0/600 [00:00<?, ?it/s]"
      ]
     },
     "metadata": {},
     "output_type": "display_data"
    },
    {
     "data": {
      "application/vnd.jupyter.widget-view+json": {
       "model_id": "201d07016c6b49dba9ceeb345233f650",
       "version_major": 2,
       "version_minor": 0
      },
      "text/plain": [
       "Loss:   0%|          | 0/600 [00:00<?, ?it/s]"
      ]
     },
     "metadata": {},
     "output_type": "display_data"
    },
    {
     "data": {
      "application/vnd.jupyter.widget-view+json": {
       "model_id": "4b81bdb9f6d846d2a27f3c792988f348",
       "version_major": 2,
       "version_minor": 0
      },
      "text/plain": [
       "Loss:   0%|          | 0/600 [00:00<?, ?it/s]"
      ]
     },
     "metadata": {},
     "output_type": "display_data"
    },
    {
     "data": {
      "application/vnd.jupyter.widget-view+json": {
       "model_id": "184c518e61384cf8955d837aaf0eb55a",
       "version_major": 2,
       "version_minor": 0
      },
      "text/plain": [
       "Loss:   0%|          | 0/600 [00:00<?, ?it/s]"
      ]
     },
     "metadata": {},
     "output_type": "display_data"
    },
    {
     "data": {
      "application/vnd.jupyter.widget-view+json": {
       "model_id": "97f9dddcb5ed4b2684b5dafd7386f7c0",
       "version_major": 2,
       "version_minor": 0
      },
      "text/plain": [
       "Loss:   0%|          | 0/600 [00:00<?, ?it/s]"
      ]
     },
     "metadata": {},
     "output_type": "display_data"
    },
    {
     "data": {
      "application/vnd.jupyter.widget-view+json": {
       "model_id": "c5774f1c478c4b2b99e4fab4015ca9da",
       "version_major": 2,
       "version_minor": 0
      },
      "text/plain": [
       "Loss:   0%|          | 0/600 [00:00<?, ?it/s]"
      ]
     },
     "metadata": {},
     "output_type": "display_data"
    },
    {
     "data": {
      "application/vnd.jupyter.widget-view+json": {
       "model_id": "7aa9dfc106c44106961bde967bd4d649",
       "version_major": 2,
       "version_minor": 0
      },
      "text/plain": [
       "Loss:   0%|          | 0/600 [00:00<?, ?it/s]"
      ]
     },
     "metadata": {},
     "output_type": "display_data"
    },
    {
     "data": {
      "application/vnd.jupyter.widget-view+json": {
       "model_id": "f8415872f01746168ba211f623d1f72e",
       "version_major": 2,
       "version_minor": 0
      },
      "text/plain": [
       "Loss:   0%|          | 0/600 [00:00<?, ?it/s]"
      ]
     },
     "metadata": {},
     "output_type": "display_data"
    },
    {
     "data": {
      "application/vnd.jupyter.widget-view+json": {
       "model_id": "abbceac265df49abb293d36d5ea5d258",
       "version_major": 2,
       "version_minor": 0
      },
      "text/plain": [
       "Loss:   0%|          | 0/600 [00:00<?, ?it/s]"
      ]
     },
     "metadata": {},
     "output_type": "display_data"
    },
    {
     "data": {
      "application/vnd.jupyter.widget-view+json": {
       "model_id": "3433afc356ba45768af02f98b07f7f93",
       "version_major": 2,
       "version_minor": 0
      },
      "text/plain": [
       "Loss:   0%|          | 0/600 [00:00<?, ?it/s]"
      ]
     },
     "metadata": {},
     "output_type": "display_data"
    },
    {
     "data": {
      "application/vnd.jupyter.widget-view+json": {
       "model_id": "93bab61942544a6f89ffb705510c3c66",
       "version_major": 2,
       "version_minor": 0
      },
      "text/plain": [
       "Loss:   0%|          | 0/600 [00:00<?, ?it/s]"
      ]
     },
     "metadata": {},
     "output_type": "display_data"
    },
    {
     "data": {
      "application/vnd.jupyter.widget-view+json": {
       "model_id": "fac032da4856427a8341874aaddfca68",
       "version_major": 2,
       "version_minor": 0
      },
      "text/plain": [
       "Loss:   0%|          | 0/600 [00:00<?, ?it/s]"
      ]
     },
     "metadata": {},
     "output_type": "display_data"
    },
    {
     "data": {
      "application/vnd.jupyter.widget-view+json": {
       "model_id": "d21ce884f6c64da497648c7f952552a6",
       "version_major": 2,
       "version_minor": 0
      },
      "text/plain": [
       "Loss:   0%|          | 0/600 [00:00<?, ?it/s]"
      ]
     },
     "metadata": {},
     "output_type": "display_data"
    },
    {
     "data": {
      "application/vnd.jupyter.widget-view+json": {
       "model_id": "4cc5e1d4615b4c4ea9ee81fc33afc094",
       "version_major": 2,
       "version_minor": 0
      },
      "text/plain": [
       "Loss:   0%|          | 0/600 [00:00<?, ?it/s]"
      ]
     },
     "metadata": {},
     "output_type": "display_data"
    },
    {
     "data": {
      "application/vnd.jupyter.widget-view+json": {
       "model_id": "8ff99bb94e6d45c89147ad9aef7b1727",
       "version_major": 2,
       "version_minor": 0
      },
      "text/plain": [
       "Loss:   0%|          | 0/600 [00:00<?, ?it/s]"
      ]
     },
     "metadata": {},
     "output_type": "display_data"
    },
    {
     "data": {
      "application/vnd.jupyter.widget-view+json": {
       "model_id": "264e3cdc7c4a401fbd472b9df4135a28",
       "version_major": 2,
       "version_minor": 0
      },
      "text/plain": [
       "Loss:   0%|          | 0/600 [00:00<?, ?it/s]"
      ]
     },
     "metadata": {},
     "output_type": "display_data"
    },
    {
     "data": {
      "application/vnd.jupyter.widget-view+json": {
       "model_id": "6e5c366f64e849288173529336d8cc75",
       "version_major": 2,
       "version_minor": 0
      },
      "text/plain": [
       "Loss:   0%|          | 0/600 [00:00<?, ?it/s]"
      ]
     },
     "metadata": {},
     "output_type": "display_data"
    },
    {
     "data": {
      "application/vnd.jupyter.widget-view+json": {
       "model_id": "a071696e2f6743539ebda740f4aa4834",
       "version_major": 2,
       "version_minor": 0
      },
      "text/plain": [
       "Loss:   0%|          | 0/600 [00:00<?, ?it/s]"
      ]
     },
     "metadata": {},
     "output_type": "display_data"
    },
    {
     "data": {
      "application/vnd.jupyter.widget-view+json": {
       "model_id": "54074678ec1f4837a8163f61a36826cb",
       "version_major": 2,
       "version_minor": 0
      },
      "text/plain": [
       "Loss:   0%|          | 0/600 [00:00<?, ?it/s]"
      ]
     },
     "metadata": {},
     "output_type": "display_data"
    },
    {
     "data": {
      "application/vnd.jupyter.widget-view+json": {
       "model_id": "2673bd5d5b1f482281f033bf0167949c",
       "version_major": 2,
       "version_minor": 0
      },
      "text/plain": [
       "Loss:   0%|          | 0/600 [00:00<?, ?it/s]"
      ]
     },
     "metadata": {},
     "output_type": "display_data"
    },
    {
     "data": {
      "application/vnd.jupyter.widget-view+json": {
       "model_id": "d27d39938b6e4a45be6447e6770423c3",
       "version_major": 2,
       "version_minor": 0
      },
      "text/plain": [
       "Loss:   0%|          | 0/600 [00:00<?, ?it/s]"
      ]
     },
     "metadata": {},
     "output_type": "display_data"
    },
    {
     "data": {
      "application/vnd.jupyter.widget-view+json": {
       "model_id": "91a7f94f2a2f4b4891e706fbe7f06061",
       "version_major": 2,
       "version_minor": 0
      },
      "text/plain": [
       "Loss:   0%|          | 0/600 [00:00<?, ?it/s]"
      ]
     },
     "metadata": {},
     "output_type": "display_data"
    },
    {
     "data": {
      "application/vnd.jupyter.widget-view+json": {
       "model_id": "b91e86b674b34ba2984d5032a7023176",
       "version_major": 2,
       "version_minor": 0
      },
      "text/plain": [
       "Loss:   0%|          | 0/600 [00:00<?, ?it/s]"
      ]
     },
     "metadata": {},
     "output_type": "display_data"
    },
    {
     "data": {
      "application/vnd.jupyter.widget-view+json": {
       "model_id": "9548400ad7be4895a426205a2c602e5c",
       "version_major": 2,
       "version_minor": 0
      },
      "text/plain": [
       "Loss:   0%|          | 0/600 [00:00<?, ?it/s]"
      ]
     },
     "metadata": {},
     "output_type": "display_data"
    },
    {
     "data": {
      "application/vnd.jupyter.widget-view+json": {
       "model_id": "4ce8f14200b34a6183847dcc7c319af9",
       "version_major": 2,
       "version_minor": 0
      },
      "text/plain": [
       "Loss:   0%|          | 0/600 [00:00<?, ?it/s]"
      ]
     },
     "metadata": {},
     "output_type": "display_data"
    },
    {
     "data": {
      "application/vnd.jupyter.widget-view+json": {
       "model_id": "faf7581b57354a80b9b2e3e2a0a77dee",
       "version_major": 2,
       "version_minor": 0
      },
      "text/plain": [
       "Loss:   0%|          | 0/600 [00:00<?, ?it/s]"
      ]
     },
     "metadata": {},
     "output_type": "display_data"
    },
    {
     "data": {
      "application/vnd.jupyter.widget-view+json": {
       "model_id": "1d3eab31a1634c2594be8185be5b9ffc",
       "version_major": 2,
       "version_minor": 0
      },
      "text/plain": [
       "Loss:   0%|          | 0/600 [00:00<?, ?it/s]"
      ]
     },
     "metadata": {},
     "output_type": "display_data"
    },
    {
     "data": {
      "application/vnd.jupyter.widget-view+json": {
       "model_id": "a789e7fc9c104e6aae2e24c2301f8c95",
       "version_major": 2,
       "version_minor": 0
      },
      "text/plain": [
       "Loss:   0%|          | 0/600 [00:00<?, ?it/s]"
      ]
     },
     "metadata": {},
     "output_type": "display_data"
    },
    {
     "data": {
      "application/vnd.jupyter.widget-view+json": {
       "model_id": "e3ed3bf9aafc467a8638fa3658e9a8af",
       "version_major": 2,
       "version_minor": 0
      },
      "text/plain": [
       "Loss:   0%|          | 0/600 [00:00<?, ?it/s]"
      ]
     },
     "metadata": {},
     "output_type": "display_data"
    },
    {
     "data": {
      "application/vnd.jupyter.widget-view+json": {
       "model_id": "a1a746b599964c1cac7e6104a7ac8031",
       "version_major": 2,
       "version_minor": 0
      },
      "text/plain": [
       "Loss:   0%|          | 0/600 [00:00<?, ?it/s]"
      ]
     },
     "metadata": {},
     "output_type": "display_data"
    },
    {
     "data": {
      "application/vnd.jupyter.widget-view+json": {
       "model_id": "bf295754df7b4d8c9ca9af8114dbab89",
       "version_major": 2,
       "version_minor": 0
      },
      "text/plain": [
       "Loss:   0%|          | 0/600 [00:00<?, ?it/s]"
      ]
     },
     "metadata": {},
     "output_type": "display_data"
    },
    {
     "data": {
      "application/vnd.jupyter.widget-view+json": {
       "model_id": "6d7c30fc623d4e2581171e1790c2e4f5",
       "version_major": 2,
       "version_minor": 0
      },
      "text/plain": [
       "Loss:   0%|          | 0/600 [00:00<?, ?it/s]"
      ]
     },
     "metadata": {},
     "output_type": "display_data"
    },
    {
     "data": {
      "application/vnd.jupyter.widget-view+json": {
       "model_id": "0080ffad35484c35b237af24302fb225",
       "version_major": 2,
       "version_minor": 0
      },
      "text/plain": [
       "Loss:   0%|          | 0/600 [00:00<?, ?it/s]"
      ]
     },
     "metadata": {},
     "output_type": "display_data"
    },
    {
     "data": {
      "application/vnd.jupyter.widget-view+json": {
       "model_id": "e3f757f5d94241b9ae9543bde38b762a",
       "version_major": 2,
       "version_minor": 0
      },
      "text/plain": [
       "Loss:   0%|          | 0/600 [00:00<?, ?it/s]"
      ]
     },
     "metadata": {},
     "output_type": "display_data"
    },
    {
     "data": {
      "application/vnd.jupyter.widget-view+json": {
       "model_id": "0c6cad8464a449a1b49e880e4bdcb081",
       "version_major": 2,
       "version_minor": 0
      },
      "text/plain": [
       "Loss:   0%|          | 0/600 [00:00<?, ?it/s]"
      ]
     },
     "metadata": {},
     "output_type": "display_data"
    },
    {
     "data": {
      "application/vnd.jupyter.widget-view+json": {
       "model_id": "2789e3d027dc4e45bc12ad42196af945",
       "version_major": 2,
       "version_minor": 0
      },
      "text/plain": [
       "Loss:   0%|          | 0/600 [00:00<?, ?it/s]"
      ]
     },
     "metadata": {},
     "output_type": "display_data"
    },
    {
     "data": {
      "application/vnd.jupyter.widget-view+json": {
       "model_id": "8eb18326a56b409fbca1bbf3281df5dd",
       "version_major": 2,
       "version_minor": 0
      },
      "text/plain": [
       "Loss:   0%|          | 0/600 [00:00<?, ?it/s]"
      ]
     },
     "metadata": {},
     "output_type": "display_data"
    },
    {
     "data": {
      "application/vnd.jupyter.widget-view+json": {
       "model_id": "6fc450996c284d5d9928988b112cc431",
       "version_major": 2,
       "version_minor": 0
      },
      "text/plain": [
       "Loss:   0%|          | 0/600 [00:00<?, ?it/s]"
      ]
     },
     "metadata": {},
     "output_type": "display_data"
    },
    {
     "data": {
      "application/vnd.jupyter.widget-view+json": {
       "model_id": "346d970a0b764bd6b4d9ff06c5af70ec",
       "version_major": 2,
       "version_minor": 0
      },
      "text/plain": [
       "Loss:   0%|          | 0/600 [00:00<?, ?it/s]"
      ]
     },
     "metadata": {},
     "output_type": "display_data"
    },
    {
     "data": {
      "application/vnd.jupyter.widget-view+json": {
       "model_id": "9991c350f85048aa8560f216ed9d8975",
       "version_major": 2,
       "version_minor": 0
      },
      "text/plain": [
       "Loss:   0%|          | 0/600 [00:00<?, ?it/s]"
      ]
     },
     "metadata": {},
     "output_type": "display_data"
    },
    {
     "data": {
      "application/vnd.jupyter.widget-view+json": {
       "model_id": "dd0c5890a1cd48eaaf7a42818e57bd2b",
       "version_major": 2,
       "version_minor": 0
      },
      "text/plain": [
       "Loss:   0%|          | 0/600 [00:00<?, ?it/s]"
      ]
     },
     "metadata": {},
     "output_type": "display_data"
    },
    {
     "data": {
      "application/vnd.jupyter.widget-view+json": {
       "model_id": "ff31b87523594e53a9f987a4ff9eaf12",
       "version_major": 2,
       "version_minor": 0
      },
      "text/plain": [
       "Loss:   0%|          | 0/600 [00:00<?, ?it/s]"
      ]
     },
     "metadata": {},
     "output_type": "display_data"
    },
    {
     "data": {
      "application/vnd.jupyter.widget-view+json": {
       "model_id": "9846067f63bb47ba977a3791dca0574e",
       "version_major": 2,
       "version_minor": 0
      },
      "text/plain": [
       "Loss:   0%|          | 0/600 [00:00<?, ?it/s]"
      ]
     },
     "metadata": {},
     "output_type": "display_data"
    },
    {
     "data": {
      "application/vnd.jupyter.widget-view+json": {
       "model_id": "a79f51a9863d430b9de636887ed9cb2b",
       "version_major": 2,
       "version_minor": 0
      },
      "text/plain": [
       "Loss:   0%|          | 0/600 [00:00<?, ?it/s]"
      ]
     },
     "metadata": {},
     "output_type": "display_data"
    },
    {
     "data": {
      "application/vnd.jupyter.widget-view+json": {
       "model_id": "4448c4fccab0419aab48eaaa44f4cbd0",
       "version_major": 2,
       "version_minor": 0
      },
      "text/plain": [
       "Loss:   0%|          | 0/600 [00:00<?, ?it/s]"
      ]
     },
     "metadata": {},
     "output_type": "display_data"
    },
    {
     "data": {
      "application/vnd.jupyter.widget-view+json": {
       "model_id": "f677ca49a2c540f4850c0e3b848744b9",
       "version_major": 2,
       "version_minor": 0
      },
      "text/plain": [
       "Loss:   0%|          | 0/600 [00:00<?, ?it/s]"
      ]
     },
     "metadata": {},
     "output_type": "display_data"
    },
    {
     "data": {
      "application/vnd.jupyter.widget-view+json": {
       "model_id": "90ee2e8ee977430f98904d7e92cf07dc",
       "version_major": 2,
       "version_minor": 0
      },
      "text/plain": [
       "Loss:   0%|          | 0/600 [00:00<?, ?it/s]"
      ]
     },
     "metadata": {},
     "output_type": "display_data"
    },
    {
     "data": {
      "application/vnd.jupyter.widget-view+json": {
       "model_id": "84cd1f6aedee4aa390bc13a6f04112fb",
       "version_major": 2,
       "version_minor": 0
      },
      "text/plain": [
       "Loss:   0%|          | 0/600 [00:00<?, ?it/s]"
      ]
     },
     "metadata": {},
     "output_type": "display_data"
    },
    {
     "data": {
      "application/vnd.jupyter.widget-view+json": {
       "model_id": "99e3a59b301c4867a652f77503aab32e",
       "version_major": 2,
       "version_minor": 0
      },
      "text/plain": [
       "Loss:   0%|          | 0/600 [00:00<?, ?it/s]"
      ]
     },
     "metadata": {},
     "output_type": "display_data"
    },
    {
     "data": {
      "application/vnd.jupyter.widget-view+json": {
       "model_id": "0fde6c4d17824eee96f4187ddebb3325",
       "version_major": 2,
       "version_minor": 0
      },
      "text/plain": [
       "Loss:   0%|          | 0/600 [00:00<?, ?it/s]"
      ]
     },
     "metadata": {},
     "output_type": "display_data"
    },
    {
     "data": {
      "application/vnd.jupyter.widget-view+json": {
       "model_id": "cabaca30e7b244abb417098f43ac5e27",
       "version_major": 2,
       "version_minor": 0
      },
      "text/plain": [
       "Loss:   0%|          | 0/600 [00:00<?, ?it/s]"
      ]
     },
     "metadata": {},
     "output_type": "display_data"
    },
    {
     "data": {
      "application/vnd.jupyter.widget-view+json": {
       "model_id": "c17875684a7d48988da7c2122e2d6e26",
       "version_major": 2,
       "version_minor": 0
      },
      "text/plain": [
       "Loss:   0%|          | 0/600 [00:00<?, ?it/s]"
      ]
     },
     "metadata": {},
     "output_type": "display_data"
    },
    {
     "data": {
      "application/vnd.jupyter.widget-view+json": {
       "model_id": "63b4e1193aa14ebd990668d7ab191c37",
       "version_major": 2,
       "version_minor": 0
      },
      "text/plain": [
       "Loss:   0%|          | 0/600 [00:00<?, ?it/s]"
      ]
     },
     "metadata": {},
     "output_type": "display_data"
    },
    {
     "data": {
      "application/vnd.jupyter.widget-view+json": {
       "model_id": "c9ab9471eb974f5e95e008faad49b964",
       "version_major": 2,
       "version_minor": 0
      },
      "text/plain": [
       "Loss:   0%|          | 0/600 [00:00<?, ?it/s]"
      ]
     },
     "metadata": {},
     "output_type": "display_data"
    },
    {
     "data": {
      "application/vnd.jupyter.widget-view+json": {
       "model_id": "00c1bddddea6431e99699ea680ed77cb",
       "version_major": 2,
       "version_minor": 0
      },
      "text/plain": [
       "Loss:   0%|          | 0/600 [00:00<?, ?it/s]"
      ]
     },
     "metadata": {},
     "output_type": "display_data"
    },
    {
     "data": {
      "application/vnd.jupyter.widget-view+json": {
       "model_id": "3357b11679df493396882a7211891afe",
       "version_major": 2,
       "version_minor": 0
      },
      "text/plain": [
       "Loss:   0%|          | 0/600 [00:00<?, ?it/s]"
      ]
     },
     "metadata": {},
     "output_type": "display_data"
    },
    {
     "data": {
      "application/vnd.jupyter.widget-view+json": {
       "model_id": "2a4cd4ee2faf4b20be535c58bf1d06b6",
       "version_major": 2,
       "version_minor": 0
      },
      "text/plain": [
       "Loss:   0%|          | 0/600 [00:00<?, ?it/s]"
      ]
     },
     "metadata": {},
     "output_type": "display_data"
    },
    {
     "data": {
      "application/vnd.jupyter.widget-view+json": {
       "model_id": "ade0a0e623114e5abbe3d3b85e4a81c1",
       "version_major": 2,
       "version_minor": 0
      },
      "text/plain": [
       "Loss:   0%|          | 0/600 [00:00<?, ?it/s]"
      ]
     },
     "metadata": {},
     "output_type": "display_data"
    },
    {
     "data": {
      "application/vnd.jupyter.widget-view+json": {
       "model_id": "31761eed25c24bfc91ac9d4e5167888b",
       "version_major": 2,
       "version_minor": 0
      },
      "text/plain": [
       "Loss:   0%|          | 0/600 [00:00<?, ?it/s]"
      ]
     },
     "metadata": {},
     "output_type": "display_data"
    },
    {
     "data": {
      "application/vnd.jupyter.widget-view+json": {
       "model_id": "56f8e59716c943f2a7e73ead54500823",
       "version_major": 2,
       "version_minor": 0
      },
      "text/plain": [
       "Loss:   0%|          | 0/600 [00:00<?, ?it/s]"
      ]
     },
     "metadata": {},
     "output_type": "display_data"
    },
    {
     "data": {
      "application/vnd.jupyter.widget-view+json": {
       "model_id": "92cd57a98d7c4d4f960c223c12da44d5",
       "version_major": 2,
       "version_minor": 0
      },
      "text/plain": [
       "Loss:   0%|          | 0/600 [00:00<?, ?it/s]"
      ]
     },
     "metadata": {},
     "output_type": "display_data"
    },
    {
     "data": {
      "application/vnd.jupyter.widget-view+json": {
       "model_id": "51a692b0ff474c6ab7c3a28bddc6f1ec",
       "version_major": 2,
       "version_minor": 0
      },
      "text/plain": [
       "Loss:   0%|          | 0/600 [00:00<?, ?it/s]"
      ]
     },
     "metadata": {},
     "output_type": "display_data"
    },
    {
     "data": {
      "application/vnd.jupyter.widget-view+json": {
       "model_id": "acf134829fac4d4eaa9a9b803de01557",
       "version_major": 2,
       "version_minor": 0
      },
      "text/plain": [
       "Loss:   0%|          | 0/600 [00:00<?, ?it/s]"
      ]
     },
     "metadata": {},
     "output_type": "display_data"
    },
    {
     "data": {
      "application/vnd.jupyter.widget-view+json": {
       "model_id": "0f7ca1a986584993911e079845eb626a",
       "version_major": 2,
       "version_minor": 0
      },
      "text/plain": [
       "Loss:   0%|          | 0/600 [00:00<?, ?it/s]"
      ]
     },
     "metadata": {},
     "output_type": "display_data"
    },
    {
     "data": {
      "application/vnd.jupyter.widget-view+json": {
       "model_id": "8e8b2bac3af94f2b836296e9f702ac40",
       "version_major": 2,
       "version_minor": 0
      },
      "text/plain": [
       "Loss:   0%|          | 0/600 [00:00<?, ?it/s]"
      ]
     },
     "metadata": {},
     "output_type": "display_data"
    },
    {
     "data": {
      "application/vnd.jupyter.widget-view+json": {
       "model_id": "bd5c6e7979aa4a5dbd8ef0913b0ff05f",
       "version_major": 2,
       "version_minor": 0
      },
      "text/plain": [
       "Loss:   0%|          | 0/600 [00:00<?, ?it/s]"
      ]
     },
     "metadata": {},
     "output_type": "display_data"
    },
    {
     "data": {
      "application/vnd.jupyter.widget-view+json": {
       "model_id": "88c83f9f138b4f56b81ebeb4a187a7ed",
       "version_major": 2,
       "version_minor": 0
      },
      "text/plain": [
       "Loss:   0%|          | 0/600 [00:00<?, ?it/s]"
      ]
     },
     "metadata": {},
     "output_type": "display_data"
    },
    {
     "data": {
      "application/vnd.jupyter.widget-view+json": {
       "model_id": "e48c5a79994b484ca93fa17ae168f502",
       "version_major": 2,
       "version_minor": 0
      },
      "text/plain": [
       "Loss:   0%|          | 0/600 [00:00<?, ?it/s]"
      ]
     },
     "metadata": {},
     "output_type": "display_data"
    },
    {
     "data": {
      "application/vnd.jupyter.widget-view+json": {
       "model_id": "b45845e3150b43f0a7552844e3cf51d1",
       "version_major": 2,
       "version_minor": 0
      },
      "text/plain": [
       "Loss:   0%|          | 0/600 [00:00<?, ?it/s]"
      ]
     },
     "metadata": {},
     "output_type": "display_data"
    },
    {
     "data": {
      "application/vnd.jupyter.widget-view+json": {
       "model_id": "f0ef759d594b4cbc8680053619961591",
       "version_major": 2,
       "version_minor": 0
      },
      "text/plain": [
       "Loss:   0%|          | 0/600 [00:00<?, ?it/s]"
      ]
     },
     "metadata": {},
     "output_type": "display_data"
    },
    {
     "data": {
      "application/vnd.jupyter.widget-view+json": {
       "model_id": "9e61862d0ca04fa59b84b5515c5d2044",
       "version_major": 2,
       "version_minor": 0
      },
      "text/plain": [
       "Loss:   0%|          | 0/600 [00:00<?, ?it/s]"
      ]
     },
     "metadata": {},
     "output_type": "display_data"
    },
    {
     "data": {
      "application/vnd.jupyter.widget-view+json": {
       "model_id": "2155b664624c4deeba7f676fa440387c",
       "version_major": 2,
       "version_minor": 0
      },
      "text/plain": [
       "Loss:   0%|          | 0/600 [00:00<?, ?it/s]"
      ]
     },
     "metadata": {},
     "output_type": "display_data"
    },
    {
     "data": {
      "application/vnd.jupyter.widget-view+json": {
       "model_id": "ddfa6cab1123409594b73902984b69e3",
       "version_major": 2,
       "version_minor": 0
      },
      "text/plain": [
       "Loss:   0%|          | 0/600 [00:00<?, ?it/s]"
      ]
     },
     "metadata": {},
     "output_type": "display_data"
    },
    {
     "data": {
      "application/vnd.jupyter.widget-view+json": {
       "model_id": "32667b51d76e4166b1d37496e3fd4746",
       "version_major": 2,
       "version_minor": 0
      },
      "text/plain": [
       "Loss:   0%|          | 0/600 [00:00<?, ?it/s]"
      ]
     },
     "metadata": {},
     "output_type": "display_data"
    },
    {
     "data": {
      "application/vnd.jupyter.widget-view+json": {
       "model_id": "00840436b2054ed4a7ac6ae8dbe0269c",
       "version_major": 2,
       "version_minor": 0
      },
      "text/plain": [
       "Loss:   0%|          | 0/600 [00:00<?, ?it/s]"
      ]
     },
     "metadata": {},
     "output_type": "display_data"
    },
    {
     "data": {
      "application/vnd.jupyter.widget-view+json": {
       "model_id": "12d7c17d37d14c3d946399a48034d4fd",
       "version_major": 2,
       "version_minor": 0
      },
      "text/plain": [
       "Loss:   0%|          | 0/600 [00:00<?, ?it/s]"
      ]
     },
     "metadata": {},
     "output_type": "display_data"
    },
    {
     "data": {
      "application/vnd.jupyter.widget-view+json": {
       "model_id": "33920d202b63479ca3083dc6250e1c5d",
       "version_major": 2,
       "version_minor": 0
      },
      "text/plain": [
       "Loss:   0%|          | 0/600 [00:00<?, ?it/s]"
      ]
     },
     "metadata": {},
     "output_type": "display_data"
    },
    {
     "data": {
      "application/vnd.jupyter.widget-view+json": {
       "model_id": "41dcfd17b0f442acbae0c67d6b41072b",
       "version_major": 2,
       "version_minor": 0
      },
      "text/plain": [
       "Loss:   0%|          | 0/600 [00:00<?, ?it/s]"
      ]
     },
     "metadata": {},
     "output_type": "display_data"
    },
    {
     "data": {
      "application/vnd.jupyter.widget-view+json": {
       "model_id": "ec4f255c49074096a37b1a1455b12309",
       "version_major": 2,
       "version_minor": 0
      },
      "text/plain": [
       "Loss:   0%|          | 0/600 [00:00<?, ?it/s]"
      ]
     },
     "metadata": {},
     "output_type": "display_data"
    },
    {
     "data": {
      "application/vnd.jupyter.widget-view+json": {
       "model_id": "196aff3cad4b490b98225698c995be26",
       "version_major": 2,
       "version_minor": 0
      },
      "text/plain": [
       "Loss:   0%|          | 0/600 [00:00<?, ?it/s]"
      ]
     },
     "metadata": {},
     "output_type": "display_data"
    },
    {
     "data": {
      "application/vnd.jupyter.widget-view+json": {
       "model_id": "2d34ddd937514ce8a0e7f8a8543bfc84",
       "version_major": 2,
       "version_minor": 0
      },
      "text/plain": [
       "Loss:   0%|          | 0/600 [00:00<?, ?it/s]"
      ]
     },
     "metadata": {},
     "output_type": "display_data"
    },
    {
     "data": {
      "application/vnd.jupyter.widget-view+json": {
       "model_id": "a8357119bf88457fbd0b8b44a5c01578",
       "version_major": 2,
       "version_minor": 0
      },
      "text/plain": [
       "Loss:   0%|          | 0/600 [00:00<?, ?it/s]"
      ]
     },
     "metadata": {},
     "output_type": "display_data"
    },
    {
     "data": {
      "application/vnd.jupyter.widget-view+json": {
       "model_id": "470e2b597eec4759b8dd035302c4a944",
       "version_major": 2,
       "version_minor": 0
      },
      "text/plain": [
       "Loss:   0%|          | 0/600 [00:00<?, ?it/s]"
      ]
     },
     "metadata": {},
     "output_type": "display_data"
    },
    {
     "data": {
      "application/vnd.jupyter.widget-view+json": {
       "model_id": "d158892b49cb478b8bfda2eb2d77c60e",
       "version_major": 2,
       "version_minor": 0
      },
      "text/plain": [
       "Loss:   0%|          | 0/600 [00:00<?, ?it/s]"
      ]
     },
     "metadata": {},
     "output_type": "display_data"
    },
    {
     "data": {
      "application/vnd.jupyter.widget-view+json": {
       "model_id": "596673474a164ce999c627f5ad299bfd",
       "version_major": 2,
       "version_minor": 0
      },
      "text/plain": [
       "Loss:   0%|          | 0/600 [00:00<?, ?it/s]"
      ]
     },
     "metadata": {},
     "output_type": "display_data"
    },
    {
     "data": {
      "application/vnd.jupyter.widget-view+json": {
       "model_id": "f105a2d5643347328b1c48f1f77cf43b",
       "version_major": 2,
       "version_minor": 0
      },
      "text/plain": [
       "Loss:   0%|          | 0/600 [00:00<?, ?it/s]"
      ]
     },
     "metadata": {},
     "output_type": "display_data"
    },
    {
     "data": {
      "application/vnd.jupyter.widget-view+json": {
       "model_id": "0c305c6361034802aa7520ef7b45c97f",
       "version_major": 2,
       "version_minor": 0
      },
      "text/plain": [
       "Loss:   0%|          | 0/600 [00:00<?, ?it/s]"
      ]
     },
     "metadata": {},
     "output_type": "display_data"
    },
    {
     "data": {
      "application/vnd.jupyter.widget-view+json": {
       "model_id": "9826a13a8e7d4f50b775b7148e263e2c",
       "version_major": 2,
       "version_minor": 0
      },
      "text/plain": [
       "Loss:   0%|          | 0/600 [00:00<?, ?it/s]"
      ]
     },
     "metadata": {},
     "output_type": "display_data"
    },
    {
     "data": {
      "application/vnd.jupyter.widget-view+json": {
       "model_id": "2db5067756464f31816aa4a24979eb8b",
       "version_major": 2,
       "version_minor": 0
      },
      "text/plain": [
       "Loss:   0%|          | 0/600 [00:00<?, ?it/s]"
      ]
     },
     "metadata": {},
     "output_type": "display_data"
    },
    {
     "data": {
      "application/vnd.jupyter.widget-view+json": {
       "model_id": "ec52ecff67e34c849d8f95beea29b0b7",
       "version_major": 2,
       "version_minor": 0
      },
      "text/plain": [
       "Loss:   0%|          | 0/600 [00:00<?, ?it/s]"
      ]
     },
     "metadata": {},
     "output_type": "display_data"
    },
    {
     "data": {
      "application/vnd.jupyter.widget-view+json": {
       "model_id": "27c2a4cfd761434cb9c3c8cca5ebf4ca",
       "version_major": 2,
       "version_minor": 0
      },
      "text/plain": [
       "Loss:   0%|          | 0/600 [00:00<?, ?it/s]"
      ]
     },
     "metadata": {},
     "output_type": "display_data"
    },
    {
     "data": {
      "application/vnd.jupyter.widget-view+json": {
       "model_id": "1173ec14ed26444badb03ca9d4091737",
       "version_major": 2,
       "version_minor": 0
      },
      "text/plain": [
       "Loss:   0%|          | 0/600 [00:00<?, ?it/s]"
      ]
     },
     "metadata": {},
     "output_type": "display_data"
    },
    {
     "data": {
      "application/vnd.jupyter.widget-view+json": {
       "model_id": "6bb3c5ce388042a69a3474c00c355bea",
       "version_major": 2,
       "version_minor": 0
      },
      "text/plain": [
       "Loss:   0%|          | 0/600 [00:00<?, ?it/s]"
      ]
     },
     "metadata": {},
     "output_type": "display_data"
    },
    {
     "data": {
      "application/vnd.jupyter.widget-view+json": {
       "model_id": "9c168ba4550f4a9ba2aec36939b4a2cd",
       "version_major": 2,
       "version_minor": 0
      },
      "text/plain": [
       "Loss:   0%|          | 0/600 [00:00<?, ?it/s]"
      ]
     },
     "metadata": {},
     "output_type": "display_data"
    },
    {
     "data": {
      "application/vnd.jupyter.widget-view+json": {
       "model_id": "5fc07fed62ee4d32aac43472b145b797",
       "version_major": 2,
       "version_minor": 0
      },
      "text/plain": [
       "Loss:   0%|          | 0/600 [00:00<?, ?it/s]"
      ]
     },
     "metadata": {},
     "output_type": "display_data"
    },
    {
     "data": {
      "application/vnd.jupyter.widget-view+json": {
       "model_id": "908652232f3746eca600bda1cdcfed3f",
       "version_major": 2,
       "version_minor": 0
      },
      "text/plain": [
       "Loss:   0%|          | 0/600 [00:00<?, ?it/s]"
      ]
     },
     "metadata": {},
     "output_type": "display_data"
    },
    {
     "data": {
      "application/vnd.jupyter.widget-view+json": {
       "model_id": "5d85d18881d54adfba31f61b694839a5",
       "version_major": 2,
       "version_minor": 0
      },
      "text/plain": [
       "Loss:   0%|          | 0/600 [00:00<?, ?it/s]"
      ]
     },
     "metadata": {},
     "output_type": "display_data"
    }
   ],
   "source": [
    "if not load:\n",
    "    tmodel.trainingloop(100)\n",
    "    torch.save(tmodel.state_dict(), './models/resnet.pth')\n",
    "else:\n",
    "    tmodel.load_state_dict(torch.load('./models/resnet.pth'))\n",
    "    "
   ]
  },
  {
   "cell_type": "code",
   "execution_count": 24,
   "id": "2e781965-0bdc-4416-a8df-092069c5cb23",
   "metadata": {},
   "outputs": [
    {
     "name": "stdout",
     "output_type": "stream",
     "text": [
      "Accuracy: 92.01 %\n"
     ]
    },
    {
     "data": {
      "text/plain": [
       "92.01"
      ]
     },
     "execution_count": 24,
     "metadata": {},
     "output_type": "execute_result"
    },
    {
     "data": {
      "image/png": "[encoded data removed]",
      "text/plain": [
       "<Figure size 720x576 with 2 Axes>"
      ]
     },
     "metadata": {
      "needs_background": "light"
     },
     "output_type": "display_data"
    }
   ],
   "source": [
    "tmodel.compute_accuracy(heatmap='resnet_acc', verbose=True)\n"
   ]
  },
  {
   "cell_type": "markdown",
   "id": "38afe2eb-63c4-443d-b0d0-60ee8308dc29",
   "metadata": {},
   "source": [
    "Using Transfer-Learning on ResNet50 the accuracy rises up to 92%. The main source of error is because the model does not well distinguish between similar classes such as Shirt/T-Shirt and Pullover/Coat, honestly I don't know if I would distinguish them properly..."
   ]
  },
  {
   "cell_type": "code",
   "execution_count": null,
   "id": "8eb6fc7f-06b7-4610-9f37-677e62eaadd5",
   "metadata": {},
   "outputs": [],
   "source": []
  }
 ],
 "metadata": {
  "kernelspec": {
   "display_name": "Python 3",
   "language": "python",
   "name": "python3"
  },
  "language_info": {
   "codemirror_mode": {
    "name": "ipython",
    "version": 3
   },
   "file_extension": ".py",
   "mimetype": "text/x-python",
   "name": "python",
   "nbconvert_exporter": "python",
   "pygments_lexer": "ipython3",
   "version": "3.8.8"
  }
 },
 "nbformat": 4,
 "nbformat_minor": 5
}
