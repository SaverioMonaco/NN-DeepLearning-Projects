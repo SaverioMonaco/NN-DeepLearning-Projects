{
 "cells": [
  {
   "cell_type": "markdown",
   "id": "7cd581c9-b9e4-4cb0-bd4d-dcc781d5d906",
   "metadata": {},
   "source": [
    "---\n",
    "---\n",
    "# NEURAL NETWORKS AND DEEP LEARNING\n",
    "\n",
    "### A.A. 2021/22 (6 CFU) - Dr. Alberto Testolin, Dr. Umberto Michieli\n",
    "\n",
    "# Homework 1 - Supervised Deep Learning\n",
    "---\n",
    "---"
   ]
  },
  {
   "cell_type": "markdown",
   "id": "128af43b-542f-4124-9700-72be4837691b",
   "metadata": {},
   "source": [
    "## Regression task"
   ]
  },
  {
   "cell_type": "code",
   "execution_count": 1,
   "id": "8d3b1dac-a9a6-4a8e-938c-ea0ed95b7e67",
   "metadata": {},
   "outputs": [],
   "source": [
    "#################\n",
    "#### IMPORTS ####\n",
    "#################\n",
    "\n",
    "# Dataframes and Arrays\n",
    "import pandas as pd\n",
    "import numpy as np\n",
    "\n",
    "# Plotting\n",
    "import matplotlib.pyplot as plt\n",
    "\n",
    "# Deep Learning Libraries\n",
    "import torch\n",
    "import torch.nn as nn\n",
    "import torch.optim as optim\n",
    "from torch.utils.data import Dataset, DataLoader\n",
    "from torchvision import transforms\n"
   ]
  },
  {
   "cell_type": "markdown",
   "id": "8326a026-3104-4c41-aafb-c68f7d405155",
   "metadata": {},
   "source": [
    "### Dataset and DataLoader "
   ]
  },
  {
   "cell_type": "code",
   "execution_count": 2,
   "id": "3f1ac2e9-2b95-4b7f-8f41-b492869515fe",
   "metadata": {},
   "outputs": [],
   "source": [
    "class CsvDataset(Dataset):\n",
    "    def __init__(self, csv_file, transform=None):\n",
    "        \"\"\"\n",
    "        Args:\n",
    "            csv_file (string): Path to the csv file.\n",
    "            transform (callable, optional): Optional transform to be applied\n",
    "                on a sample.\n",
    "        \"\"\"\n",
    "        self.transform = transform\n",
    "        # Read the file and split the lines in a list\n",
    "        self.data = pd.read_csv(csv_file)\n",
    "        self.names = self.data.columns\n",
    "        # Now self.data contains all our dataset.\n",
    "        # Each element of the list self.data is a tuple: (input, output)\n",
    "\n",
    "    def __len__(self):\n",
    "        # The length of the dataset is simply the length of the self.data list\n",
    "        return len(self.data)\n",
    "\n",
    "    def __getitem__(self, idx):\n",
    "        # Our sample is the element idx of the list self.data\n",
    "        sample = self.data[idx]\n",
    "        if self.transform:\n",
    "            sample = self.transform(sample)\n",
    "        return sample\n",
    "    \n",
    "class ToTensor(object):\n",
    "    \"\"\"Convert sample to Tensors.\"\"\"\n",
    "\n",
    "    def __call__(self, sample):\n",
    "        x, y = sample\n",
    "        return (torch.tensor([x]).float(),\n",
    "                torch.tensor([y]).float())\n",
    "    "
   ]
  },
  {
   "cell_type": "code",
   "execution_count": 3,
   "id": "dd54c9ad-9c9d-47f6-a8f3-e4295c03677a",
   "metadata": {},
   "outputs": [],
   "source": [
    "# DOWNLOADING THE DATA\n",
    "data_url = \"https://gitlab.dei.unipd.it/michieli/nnld-2021-22-lab-resources/-/raw/main/homework1/\"\n",
    "\n",
    "# wget without showing the output, I already checked it works\n",
    "!wget -P regression_dataset {data_url}train_data.csv &> /dev/null # download training set\n",
    "!wget -P regression_dataset {data_url}test_data.csv  &> /dev/null # download test set\n"
   ]
  },
  {
   "cell_type": "code",
   "execution_count": 4,
   "id": "b85fc8b8-4ef6-4927-b1b3-225513417815",
   "metadata": {},
   "outputs": [],
   "source": [
    "composed_transform = transforms.Compose([ToTensor()])\n",
    "\n",
    "train_dataset = CsvDataset('regression_dataset/train_data.csv', transform=composed_transform)\n",
    "test_dataset  = CsvDataset('regression_dataset/test_data.csv', transform=composed_transform)"
   ]
  },
  {
   "cell_type": "code",
   "execution_count": 5,
   "id": "74cc4fcc-cae2-4934-a7ac-ec9562a85f0b",
   "metadata": {},
   "outputs": [
    {
     "data": {
      "image/png": "[encoded data removed]",
      "text/plain": [
       "<Figure size 576x432 with 1 Axes>"
      ]
     },
     "metadata": {
      "needs_background": "light"
     },
     "output_type": "display_data"
    }
   ],
   "source": [
    "fig = plt.figure(figsize=(8,6))\n",
    "# Plotting training and test points\n",
    "plt.scatter(train_dataset.data.input, train_dataset.data.label, label='Training points')\n",
    "plt.scatter(test_dataset.data.input, test_dataset.data.label, label='Testing points', color='gold')\n",
    "\n",
    "plt.title('Data points')\n",
    "plt.xlabel('input')\n",
    "plt.ylabel('label')\n",
    "plt.legend()\n",
    "plt.show()"
   ]
  },
  {
   "cell_type": "markdown",
   "id": "eca75339-5844-43e9-8b8e-d1d12e5fa244",
   "metadata": {},
   "source": [
    "### Building the Neural Network Structure"
   ]
  },
  {
   "cell_type": "code",
   "execution_count": 6,
   "id": "ea606241-f832-47ba-8bab-1bd7f40266a2",
   "metadata": {},
   "outputs": [],
   "source": [
    "class Net(nn.Module):\n",
    "    def __init__(self, Ni, No, Nhs):\n",
    "        \"\"\"\n",
    "        Ni - Input size  (INT)\n",
    "        No - Output size (INT)\n",
    "        Nhs - Hidden layers (LIST OF INTEGERS)\n",
    "        \"\"\"\n",
    "        super().__init__()\n",
    "        nhidden = len(Nhs) # number of hidden layers\n",
    "        # Creating an array of layers\n",
    "        Ns = [Ni] + Nhs + [No]\n",
    "        # First layer\n",
    "        self.fc1 = nn.Linear(in_features=Ns[0], out_features=Ns[1])\n",
    "        \n",
    "        # Hidden layers\n",
    "        self.hidden = nn.ModuleList()\n",
    "        for h in range(nhidden-1):\n",
    "            self.hidden.append(nn.Linear(in_features=Ns[h+1], out_features=Ns[h+2]))\n",
    "            \n",
    "        # Last layer\n",
    "        self.out = nn.Linear(in_features=Ns[-2], out_features=Ns[-1])\n",
    "        \n",
    "        self.act = nn.Sigmoid()\n",
    "    \n",
    "    def forward(self, x, additional_out=False):\n",
    "        x = self.act(self.fc1(x))\n",
    "        \n",
    "        for h in range(len(self.hidden)):\n",
    "            x = self.act(self.hidden[h](x))\n",
    "        \n",
    "        x = self.out(x)\n",
    "        return x"
   ]
  },
  {
   "cell_type": "code",
   "execution_count": 7,
   "id": "3e5e152d-a1d9-48f8-8e6b-6854865968b3",
   "metadata": {},
   "outputs": [
    {
     "name": "stdout",
     "output_type": "stream",
     "text": [
      "Net(\n",
      "  (fc1): Linear(in_features=1, out_features=3, bias=True)\n",
      "  (hidden): ModuleList(\n",
      "    (0): Linear(in_features=3, out_features=3, bias=True)\n",
      "    (1): Linear(in_features=3, out_features=4, bias=True)\n",
      "  )\n",
      "  (out): Linear(in_features=4, out_features=1, bias=True)\n",
      "  (act): Sigmoid()\n",
      ")\n"
     ]
    }
   ],
   "source": [
    "# Quick test for the NN structure\n",
    "net = Net(1,1,[3,3,4])\n",
    "print(net)"
   ]
  },
  {
   "cell_type": "code",
   "execution_count": null,
   "id": "393eb9d9-3add-4723-94ab-0543a9da9a63",
   "metadata": {},
   "outputs": [],
   "source": []
  }
 ],
 "metadata": {
  "kernelspec": {
   "display_name": "Python 3",
   "language": "python",
   "name": "python3"
  },
  "language_info": {
   "codemirror_mode": {
    "name": "ipython",
    "version": 3
   },
   "file_extension": ".py",
   "mimetype": "text/x-python",
   "name": "python",
   "nbconvert_exporter": "python",
   "pygments_lexer": "ipython3",
   "version": "3.8.8"
  }
 },
 "nbformat": 4,
 "nbformat_minor": 5
}
